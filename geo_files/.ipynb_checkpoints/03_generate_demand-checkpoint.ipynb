{
 "cells": [
  {
   "cell_type": "code",
   "execution_count": 2,
   "metadata": {
    "ExecuteTime": {
     "end_time": "2020-11-10T06:02:59.174241Z",
     "start_time": "2020-11-10T06:02:59.151816Z"
    }
   },
   "outputs": [],
   "source": [
    "import pandas as pd\n",
    "import xml.etree.ElementTree as ET\n",
    "\n",
    "net_xml = \"../seattle-demo/seattle.net.xml\"\n",
    "add_xml = \"seattle.add.xml\""
   ]
  },
  {
   "cell_type": "code",
   "execution_count": null,
   "metadata": {},
   "outputs": [],
   "source": [
    "edges = []\n",
    "\n",
    "root = ET.parse(add_xml).getroot()\n",
    "for child in root.iter('edge'):\n",
    "    if child.get('function') != 'internal':\n",
    "        edges.append(child.get('id'))\n",
    "        "
   ]
  }
 ],
 "metadata": {
  "kernelspec": {
   "display_name": "Python 3",
   "language": "python",
   "name": "python3"
  },
  "language_info": {
   "codemirror_mode": {
    "name": "ipython",
    "version": 3
   },
   "file_extension": ".py",
   "mimetype": "text/x-python",
   "name": "python",
   "nbconvert_exporter": "python",
   "pygments_lexer": "ipython3",
   "version": "3.6.2"
  }
 },
 "nbformat": 4,
 "nbformat_minor": 2
}
