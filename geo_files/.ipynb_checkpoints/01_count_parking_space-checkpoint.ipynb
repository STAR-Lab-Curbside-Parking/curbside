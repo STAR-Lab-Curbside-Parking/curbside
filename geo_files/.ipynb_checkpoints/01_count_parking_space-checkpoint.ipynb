{
 "cells": [
  {
   "cell_type": "code",
   "execution_count": 1,
   "metadata": {
    "ExecuteTime": {
     "end_time": "2020-11-10T02:43:17.000352Z",
     "start_time": "2020-11-10T02:43:16.457212Z"
    }
   },
   "outputs": [],
   "source": [
    "import pandas as pd\n",
    "import geopandas as gpd"
   ]
  },
  {
   "cell_type": "code",
   "execution_count": 2,
   "metadata": {
    "ExecuteTime": {
     "end_time": "2020-11-10T02:43:17.251207Z",
     "start_time": "2020-11-10T02:43:17.003634Z"
    }
   },
   "outputs": [],
   "source": [
    "park = gpd.read_file('3_3_parking_space.geojson')"
   ]
  },
  {
   "cell_type": "code",
   "execution_count": 3,
   "metadata": {
    "ExecuteTime": {
     "end_time": "2020-11-10T02:43:17.269669Z",
     "start_time": "2020-11-10T02:43:17.254595Z"
    }
   },
   "outputs": [
    {
     "data": {
      "text/plain": [
       "Index(['OBJECTID', 'BLOCKID', 'ROWNBR', 'BLOCK_ST', 'BLOCK_END', 'WIDTH_OFFS',\n",
       "       'GEOBASYS', 'SPACELENGT', 'SPACETYPE', 'SPACETYPED', 'TIME_LIMIT',\n",
       "       'SPACE_NB', 'CATEGORY', 'SIDE', 'CURRENT_ST', 'ELMNTKEY', 'SHAPE_Leng',\n",
       "       'geometry'],\n",
       "      dtype='object')"
      ]
     },
     "execution_count": 3,
     "metadata": {},
     "output_type": "execute_result"
    }
   ],
   "source": [
    "park.columns"
   ]
  },
  {
   "cell_type": "code",
   "execution_count": 4,
   "metadata": {
    "ExecuteTime": {
     "end_time": "2020-11-10T02:43:17.286042Z",
     "start_time": "2020-11-10T02:43:17.275219Z"
    }
   },
   "outputs": [
    {
     "data": {
      "text/plain": [
       "array(['ALLEY', 'PS', 'CLR', 'PLZ', 'PS-CAR', 'CRBBLB', 'NP', 'CVLZ',\n",
       "       'BA', 'XWAREA', 'XW', 'HYD', 'CR', 'TAZ', 'PS-PLZ', 'BUS',\n",
       "       'PS-TAX', 'BIKE', 'PS-LAY', 'PS-MC', 'DW', 'CVLZ-B', 'CVLZ-P',\n",
       "       'PS-SBO', 'PARKLET', 'L/UL', 'BUSLAY', 'PS-TR'], dtype=object)"
      ]
     },
     "execution_count": 4,
     "metadata": {},
     "output_type": "execute_result"
    }
   ],
   "source": [
    "park.SPACETYPE.unique()"
   ]
  },
  {
   "cell_type": "code",
   "execution_count": 5,
   "metadata": {
    "ExecuteTime": {
     "end_time": "2020-11-10T02:43:17.314506Z",
     "start_time": "2020-11-10T02:43:17.304158Z"
    }
   },
   "outputs": [
    {
     "data": {
      "text/plain": [
       "array(['ALLEY', 'PAY STATION', 'CLEARANCE', 'PASSENGER LOAD ZONE',\n",
       "       'PAY STATION - CARPOOL', 'CURB BULB', 'NO PARKING',\n",
       "       'COMMERCIAL VEHICLE LOAD ZONE', 'BARRIER AREA',\n",
       "       'NOT A DESIGNATED CROSSWALK', 'CROSSWALK', 'HYDRANT', 'CURB RAMP',\n",
       "       'TOW AWAY ZONE', 'PAY STATION - PLZ', 'BUS ZONE',\n",
       "       'PAY STATION - TAXI', 'BIKE ZONE', 'PAY STATION - BUS LAYOVER',\n",
       "       'PAY STATION - MOTORCYCLE', 'DRIVEWAY', 'CVLZ - BUS ZONE',\n",
       "       'CVLZ - PLZ', 'PAY STATION - SHUTTLE BUS ONLY', 'PARKLET',\n",
       "       'LOAD/UNLOAD ZONE', 'BUS LAYOVER ZONE',\n",
       "       'PAY STATION - TEMP REMOVAL'], dtype=object)"
      ]
     },
     "execution_count": 5,
     "metadata": {},
     "output_type": "execute_result"
    }
   ],
   "source": [
    "park.SPACETYPED.unique()"
   ]
  },
  {
   "cell_type": "code",
   "execution_count": 6,
   "metadata": {
    "ExecuteTime": {
     "end_time": "2020-11-10T02:43:17.337573Z",
     "start_time": "2020-11-10T02:43:17.319362Z"
    }
   },
   "outputs": [],
   "source": [
    "# select parking space types\n",
    "# original: PLZ, L/UL, CVLZ, PS and PS-X\n",
    "park = park[park['SPACETYPE'].isin(['PLZ', 'L/UL',\n",
    "                                  'CVLZ', 'CVLZ-B', 'CVLZ-P',\n",
    "                                  'PS', 'PS-CAR', 'PS_PLZ', 'PS-TAX', 'PS-LAY', 'PS-SBO'])]"
   ]
  },
  {
   "cell_type": "code",
   "execution_count": 7,
   "metadata": {
    "ExecuteTime": {
     "end_time": "2020-11-10T02:43:17.351632Z",
     "start_time": "2020-11-10T02:43:17.341587Z"
    }
   },
   "outputs": [],
   "source": [
    "# filter out links that are not in the 3*3 blocks\n",
    "park = park[park['BLOCKID'].apply(lambda x: x.endswith(tuple(['24','25','26','01','02','03'])))]"
   ]
  },
  {
   "cell_type": "code",
   "execution_count": 8,
   "metadata": {
    "ExecuteTime": {
     "end_time": "2020-11-10T02:43:17.596756Z",
     "start_time": "2020-11-10T02:43:17.539639Z"
    }
   },
   "outputs": [],
   "source": [
    "park.replace(to_replace=r'^PS-\\w+', value='PS', regex=True, inplace=True)"
   ]
  },
  {
   "cell_type": "code",
   "execution_count": 9,
   "metadata": {
    "ExecuteTime": {
     "end_time": "2020-11-10T02:43:17.707992Z",
     "start_time": "2020-11-10T02:43:17.685700Z"
    }
   },
   "outputs": [],
   "source": [
    "# count and length of parking\n",
    "pc = park.groupby(['BLOCKID', 'SIDE', 'SPACETYPE']).agg({'SPACELENGT': 'sum', 'OBJECTID': 'count'}).reset_index()\n",
    "# pc.rename(columns={'SPACELENGT': 'length', 0:'cnt'}, inplace=True)"
   ]
  },
  {
   "cell_type": "code",
   "execution_count": 10,
   "metadata": {
    "ExecuteTime": {
     "end_time": "2020-11-10T02:43:17.854922Z",
     "start_time": "2020-11-10T02:43:17.822174Z"
    }
   },
   "outputs": [
    {
     "data": {
      "text/html": [
       "<div>\n",
       "<style scoped>\n",
       "    .dataframe tbody tr th:only-of-type {\n",
       "        vertical-align: middle;\n",
       "    }\n",
       "\n",
       "    .dataframe tbody tr th {\n",
       "        vertical-align: top;\n",
       "    }\n",
       "\n",
       "    .dataframe thead th {\n",
       "        text-align: right;\n",
       "    }\n",
       "</style>\n",
       "<table border=\"1\" class=\"dataframe\">\n",
       "  <thead>\n",
       "    <tr style=\"text-align: right;\">\n",
       "      <th></th>\n",
       "      <th>BLOCKID</th>\n",
       "      <th>SIDE</th>\n",
       "      <th>SPACETYPE</th>\n",
       "      <th>SPACELENGT</th>\n",
       "      <th>OBJECTID</th>\n",
       "    </tr>\n",
       "  </thead>\n",
       "  <tbody>\n",
       "    <tr>\n",
       "      <th>0</th>\n",
       "      <td>01-24</td>\n",
       "      <td>NE</td>\n",
       "      <td>CVLZ</td>\n",
       "      <td>23</td>\n",
       "      <td>1</td>\n",
       "    </tr>\n",
       "    <tr>\n",
       "      <th>1</th>\n",
       "      <td>01-24</td>\n",
       "      <td>NE</td>\n",
       "      <td>PLZ</td>\n",
       "      <td>22</td>\n",
       "      <td>1</td>\n",
       "    </tr>\n",
       "    <tr>\n",
       "      <th>2</th>\n",
       "      <td>01-24</td>\n",
       "      <td>NE</td>\n",
       "      <td>PS</td>\n",
       "      <td>143</td>\n",
       "      <td>8</td>\n",
       "    </tr>\n",
       "    <tr>\n",
       "      <th>3</th>\n",
       "      <td>01-24</td>\n",
       "      <td>SW</td>\n",
       "      <td>PLZ</td>\n",
       "      <td>38</td>\n",
       "      <td>2</td>\n",
       "    </tr>\n",
       "    <tr>\n",
       "      <th>4</th>\n",
       "      <td>01-24</td>\n",
       "      <td>SW</td>\n",
       "      <td>PS</td>\n",
       "      <td>58</td>\n",
       "      <td>3</td>\n",
       "    </tr>\n",
       "    <tr>\n",
       "      <th>...</th>\n",
       "      <td>...</td>\n",
       "      <td>...</td>\n",
       "      <td>...</td>\n",
       "      <td>...</td>\n",
       "      <td>...</td>\n",
       "    </tr>\n",
       "    <tr>\n",
       "      <th>75</th>\n",
       "      <td>27-02</td>\n",
       "      <td>SE</td>\n",
       "      <td>PS</td>\n",
       "      <td>88</td>\n",
       "      <td>5</td>\n",
       "    </tr>\n",
       "    <tr>\n",
       "      <th>76</th>\n",
       "      <td>27-03</td>\n",
       "      <td>NW</td>\n",
       "      <td>CVLZ</td>\n",
       "      <td>18</td>\n",
       "      <td>1</td>\n",
       "    </tr>\n",
       "    <tr>\n",
       "      <th>77</th>\n",
       "      <td>27-03</td>\n",
       "      <td>NW</td>\n",
       "      <td>PLZ</td>\n",
       "      <td>18</td>\n",
       "      <td>1</td>\n",
       "    </tr>\n",
       "    <tr>\n",
       "      <th>78</th>\n",
       "      <td>27-03</td>\n",
       "      <td>NW</td>\n",
       "      <td>PS</td>\n",
       "      <td>119</td>\n",
       "      <td>7</td>\n",
       "    </tr>\n",
       "    <tr>\n",
       "      <th>79</th>\n",
       "      <td>27-03</td>\n",
       "      <td>SE</td>\n",
       "      <td>PS</td>\n",
       "      <td>142</td>\n",
       "      <td>8</td>\n",
       "    </tr>\n",
       "  </tbody>\n",
       "</table>\n",
       "<p>80 rows × 5 columns</p>\n",
       "</div>"
      ],
      "text/plain": [
       "   BLOCKID SIDE SPACETYPE  SPACELENGT  OBJECTID\n",
       "0    01-24   NE      CVLZ          23         1\n",
       "1    01-24   NE       PLZ          22         1\n",
       "2    01-24   NE        PS         143         8\n",
       "3    01-24   SW       PLZ          38         2\n",
       "4    01-24   SW        PS          58         3\n",
       "..     ...  ...       ...         ...       ...\n",
       "75   27-02   SE        PS          88         5\n",
       "76   27-03   NW      CVLZ          18         1\n",
       "77   27-03   NW       PLZ          18         1\n",
       "78   27-03   NW        PS         119         7\n",
       "79   27-03   SE        PS         142         8\n",
       "\n",
       "[80 rows x 5 columns]"
      ]
     },
     "execution_count": 10,
     "metadata": {},
     "output_type": "execute_result"
    }
   ],
   "source": [
    "pc"
   ]
  },
  {
   "cell_type": "code",
   "execution_count": 11,
   "metadata": {
    "ExecuteTime": {
     "end_time": "2020-11-10T02:43:17.996604Z",
     "start_time": "2020-11-10T02:43:17.990262Z"
    }
   },
   "outputs": [],
   "source": [
    "pc.columns = ['block_id', 'side', 'type', 'length', 'cnt']"
   ]
  },
  {
   "cell_type": "code",
   "execution_count": 12,
   "metadata": {
    "ExecuteTime": {
     "end_time": "2020-11-10T02:43:18.184763Z",
     "start_time": "2020-11-10T02:43:18.170377Z"
    }
   },
   "outputs": [
    {
     "data": {
      "text/html": [
       "<div>\n",
       "<style scoped>\n",
       "    .dataframe tbody tr th:only-of-type {\n",
       "        vertical-align: middle;\n",
       "    }\n",
       "\n",
       "    .dataframe tbody tr th {\n",
       "        vertical-align: top;\n",
       "    }\n",
       "\n",
       "    .dataframe thead th {\n",
       "        text-align: right;\n",
       "    }\n",
       "</style>\n",
       "<table border=\"1\" class=\"dataframe\">\n",
       "  <thead>\n",
       "    <tr style=\"text-align: right;\">\n",
       "      <th></th>\n",
       "      <th>block_id</th>\n",
       "      <th>side</th>\n",
       "      <th>type</th>\n",
       "      <th>length</th>\n",
       "      <th>cnt</th>\n",
       "    </tr>\n",
       "  </thead>\n",
       "  <tbody>\n",
       "    <tr>\n",
       "      <th>0</th>\n",
       "      <td>01-24</td>\n",
       "      <td>NE</td>\n",
       "      <td>CVLZ</td>\n",
       "      <td>23</td>\n",
       "      <td>1</td>\n",
       "    </tr>\n",
       "    <tr>\n",
       "      <th>1</th>\n",
       "      <td>01-24</td>\n",
       "      <td>NE</td>\n",
       "      <td>PLZ</td>\n",
       "      <td>22</td>\n",
       "      <td>1</td>\n",
       "    </tr>\n",
       "    <tr>\n",
       "      <th>2</th>\n",
       "      <td>01-24</td>\n",
       "      <td>NE</td>\n",
       "      <td>PS</td>\n",
       "      <td>143</td>\n",
       "      <td>8</td>\n",
       "    </tr>\n",
       "    <tr>\n",
       "      <th>3</th>\n",
       "      <td>01-24</td>\n",
       "      <td>SW</td>\n",
       "      <td>PLZ</td>\n",
       "      <td>38</td>\n",
       "      <td>2</td>\n",
       "    </tr>\n",
       "    <tr>\n",
       "      <th>4</th>\n",
       "      <td>01-24</td>\n",
       "      <td>SW</td>\n",
       "      <td>PS</td>\n",
       "      <td>58</td>\n",
       "      <td>3</td>\n",
       "    </tr>\n",
       "  </tbody>\n",
       "</table>\n",
       "</div>"
      ],
      "text/plain": [
       "  block_id side  type  length  cnt\n",
       "0    01-24   NE  CVLZ      23    1\n",
       "1    01-24   NE   PLZ      22    1\n",
       "2    01-24   NE    PS     143    8\n",
       "3    01-24   SW   PLZ      38    2\n",
       "4    01-24   SW    PS      58    3"
      ]
     },
     "execution_count": 12,
     "metadata": {},
     "output_type": "execute_result"
    }
   ],
   "source": [
    "pc.head()"
   ]
  },
  {
   "cell_type": "code",
   "execution_count": 13,
   "metadata": {
    "ExecuteTime": {
     "end_time": "2020-11-10T02:43:18.370891Z",
     "start_time": "2020-11-10T02:43:18.355103Z"
    }
   },
   "outputs": [],
   "source": [
    "pc.to_csv('parking_space_count.csv')"
   ]
  },
  {
   "cell_type": "code",
   "execution_count": 14,
   "metadata": {
    "ExecuteTime": {
     "end_time": "2020-11-10T02:43:18.957333Z",
     "start_time": "2020-11-10T02:43:18.947513Z"
    }
   },
   "outputs": [
    {
     "data": {
      "text/plain": [
       "array(['CVLZ', 'PLZ', 'PS', 'CVLZ-P', 'CVLZ-B', 'L/UL'], dtype=object)"
      ]
     },
     "execution_count": 14,
     "metadata": {},
     "output_type": "execute_result"
    }
   ],
   "source": [
    "pc.type.unique()"
   ]
  },
  {
   "cell_type": "code",
   "execution_count": null,
   "metadata": {},
   "outputs": [],
   "source": []
  }
 ],
 "metadata": {
  "kernelspec": {
   "display_name": "Python 3",
   "language": "python",
   "name": "python3"
  },
  "language_info": {
   "codemirror_mode": {
    "name": "ipython",
    "version": 3
   },
   "file_extension": ".py",
   "mimetype": "text/x-python",
   "name": "python",
   "nbconvert_exporter": "python",
   "pygments_lexer": "ipython3",
   "version": "3.6.2"
  }
 },
 "nbformat": 4,
 "nbformat_minor": 4
}
