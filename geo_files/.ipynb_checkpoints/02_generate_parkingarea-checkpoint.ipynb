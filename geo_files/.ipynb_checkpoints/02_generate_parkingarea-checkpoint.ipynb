{
 "cells": [
  {
   "cell_type": "code",
   "execution_count": 11,
   "metadata": {
    "ExecuteTime": {
     "end_time": "2020-11-10T03:31:40.910351Z",
     "start_time": "2020-11-10T03:31:40.905738Z"
    }
   },
   "outputs": [],
   "source": [
    "import pandas as pd\n",
    "import xml.etree.ElementTree as ET"
   ]
  },
  {
   "cell_type": "code",
   "execution_count": 12,
   "metadata": {
    "ExecuteTime": {
     "end_time": "2020-11-10T03:31:41.104584Z",
     "start_time": "2020-11-10T03:31:41.096380Z"
    }
   },
   "outputs": [],
   "source": [
    "net_xml = \"../seattle-demo/seattle.net.xml\"\n",
    "add_xml = \"seattle.add.xml\"\n",
    "\n",
    "pc = pd.read_csv('parking_space_count.csv')"
   ]
  },
  {
   "cell_type": "code",
   "execution_count": 13,
   "metadata": {
    "ExecuteTime": {
     "end_time": "2020-11-10T03:31:41.286540Z",
     "start_time": "2020-11-10T03:31:41.280762Z"
    }
   },
   "outputs": [],
   "source": [
    "with open(add_xml, \"w\") as add:\n",
    "    print(\"\"\"<?xml version=\"1.0\" encoding=\"UTF-8\"?>\n",
    "\n",
    "<additional xmlns:xsi=\"http://www.w3.org/2001/XMLSchema-instance\" xsi:noNamespaceSchemaLocation=\"http://sumo.dlr.de/xsd/additional_file.xsd\">\n",
    "\n",
    "    <location netOffset=\"-362563.54,-4832311.19\" convBoundary=\"0.00,0.00,2064.54,1284.45\" origBoundary=\"13.296064,43.631354,13.321826,43.642858\" projParameter=\"+proj=utm +zone=33 +ellps=WGS84 +datum=WGS84 +units=m +no_defs\"/>\n",
    "    \"\"\", file=add)"
   ]
  },
  {
   "cell_type": "code",
   "execution_count": 14,
   "metadata": {
    "ExecuteTime": {
     "end_time": "2020-11-10T03:31:41.462205Z",
     "start_time": "2020-11-10T03:31:41.452527Z"
    }
   },
   "outputs": [],
   "source": [
    "def side_2_roadway(block_id, side, edge_oneway_dict):\n",
    "    if not edge_oneway_dict[block_id]:\n",
    "        if side == 'SE':\n",
    "            return block_id + '-' + 'NE'\n",
    "        elif side == 'NE':\n",
    "            return block_id + '-' + 'NW'\n",
    "        elif side == 'NW':\n",
    "            return block_id + '-' + 'SW'\n",
    "        elif side == 'SW':\n",
    "            return block_id + '-' + 'SE'\n",
    "    else: \n",
    "        return edge_oneway_dict[block_id]"
   ]
  },
  {
   "cell_type": "code",
   "execution_count": 15,
   "metadata": {
    "ExecuteTime": {
     "end_time": "2020-11-10T03:31:41.639351Z",
     "start_time": "2020-11-10T03:31:41.619046Z"
    }
   },
   "outputs": [],
   "source": [
    "edges = []\n",
    "\n",
    "root = ET.parse(net_xml).getroot()\n",
    "for child in root.iter('edge'):\n",
    "    if child.get('function') != 'internal':\n",
    "        edges.append(child.get('id'))\n",
    "        \n",
    "edge_oneway_dict = {}\n",
    "for edge_id in edges:\n",
    "    if edge_id not in edge_oneway_dict:\n",
    "        # if not checked, go ahead to check oneway\n",
    "        if sum(word.startswith(edge_id[:5]) for word in edges) == 2:\n",
    "            edge_oneway_dict[edge_id[:5]] = 0\n",
    "        else:\n",
    "            assert sum(word.startswith(edge_id[:5]) for word in edges) == 1\n",
    "            edge_oneway_dict[edge_id[:5]] = edge_id"
   ]
  },
  {
   "cell_type": "code",
   "execution_count": 16,
   "metadata": {
    "ExecuteTime": {
     "end_time": "2020-11-10T03:31:41.836735Z",
     "start_time": "2020-11-10T03:31:41.787709Z"
    }
   },
   "outputs": [],
   "source": [
    "for index, row in pc.iterrows():\n",
    "    block_id = row['block_id']\n",
    "    side = row['side']\n",
    "    space_type = row['type']\n",
    "    length = row['length']\n",
    "    count = row['cnt']\n",
    "    lane = side_2_roadway(block_id, side, edge_oneway_dict) + '_0'\n",
    "    parking_area_id = str(block_id) + '-' + str(side)\n",
    "    with open(add_xml, \"a\") as add:\n",
    "        if space_type == 'PS':\n",
    "            print('    <parkingArea id=\"{}\" lane=\"{}\" startPos=\"10\" endPos=\"10\" roadsideCapacity=\"{}\" angle=\"0\" />'.\\\n",
    "                  format(parking_area_id, lane, int(length)//17), # unit of curb length?\n",
    "                  file=add)"
   ]
  },
  {
   "cell_type": "code",
   "execution_count": 17,
   "metadata": {
    "ExecuteTime": {
     "end_time": "2020-11-10T03:31:41.975737Z",
     "start_time": "2020-11-10T03:31:41.969824Z"
    }
   },
   "outputs": [],
   "source": [
    "with open(add_xml, \"a\") as add:\n",
    "    print('\\n</additional>', file = add)"
   ]
  },
  {
   "cell_type": "code",
   "execution_count": null,
   "metadata": {},
   "outputs": [],
   "source": []
  }
 ],
 "metadata": {
  "kernelspec": {
   "display_name": "Python 3",
   "language": "python",
   "name": "python3"
  },
  "language_info": {
   "codemirror_mode": {
    "name": "ipython",
    "version": 3
   },
   "file_extension": ".py",
   "mimetype": "text/x-python",
   "name": "python",
   "nbconvert_exporter": "python",
   "pygments_lexer": "ipython3",
   "version": "3.6.2"
  }
 },
 "nbformat": 4,
 "nbformat_minor": 4
}
