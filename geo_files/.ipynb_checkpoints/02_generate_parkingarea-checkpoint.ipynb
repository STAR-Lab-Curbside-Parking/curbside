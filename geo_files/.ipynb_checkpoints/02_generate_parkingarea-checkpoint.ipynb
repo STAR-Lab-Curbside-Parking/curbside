{
 "cells": [
  {
   "cell_type": "code",
   "execution_count": 32,
   "metadata": {},
   "outputs": [],
   "source": [
    "import pandas as pd"
   ]
  },
  {
   "cell_type": "code",
   "execution_count": 33,
   "metadata": {},
   "outputs": [],
   "source": [
    "with open(\"input_additional.add.xml\", \"w\") as add:\n",
    "    print(\"\"\"<?xml version=\"1.0\" encoding=\"UTF-8\"?>\n",
    "\n",
    "<additional xmlns:xsi=\"http://www.w3.org/2001/XMLSchema-instance\" xsi:noNamespaceSchemaLocation=\"http://sumo.dlr.de/xsd/additional_file.xsd\">\n",
    "\n",
    "    <location netOffset=\"-362563.54,-4832311.19\" convBoundary=\"0.00,0.00,2064.54,1284.45\" origBoundary=\"13.296064,43.631354,13.321826,43.642858\" projParameter=\"+proj=utm +zone=33 +ellps=WGS84 +datum=WGS84 +units=m +no_defs\"/>\n",
    "    \"\"\", file=add)"
   ]
  },
  {
   "cell_type": "code",
   "execution_count": 34,
   "metadata": {},
   "outputs": [
    {
     "data": {
      "text/html": [
       "<div>\n",
       "<style scoped>\n",
       "    .dataframe tbody tr th:only-of-type {\n",
       "        vertical-align: middle;\n",
       "    }\n",
       "\n",
       "    .dataframe tbody tr th {\n",
       "        vertical-align: top;\n",
       "    }\n",
       "\n",
       "    .dataframe thead th {\n",
       "        text-align: right;\n",
       "    }\n",
       "</style>\n",
       "<table border=\"1\" class=\"dataframe\">\n",
       "  <thead>\n",
       "    <tr style=\"text-align: right;\">\n",
       "      <th></th>\n",
       "      <th>Unnamed: 0</th>\n",
       "      <th>BlockID</th>\n",
       "      <th>Side</th>\n",
       "      <th>SpaceType</th>\n",
       "      <th>Count</th>\n",
       "    </tr>\n",
       "  </thead>\n",
       "  <tbody>\n",
       "    <tr>\n",
       "      <th>0</th>\n",
       "      <td>0</td>\n",
       "      <td>01-24</td>\n",
       "      <td>NE</td>\n",
       "      <td>CVLZ</td>\n",
       "      <td>1</td>\n",
       "    </tr>\n",
       "    <tr>\n",
       "      <th>1</th>\n",
       "      <td>1</td>\n",
       "      <td>01-24</td>\n",
       "      <td>NE</td>\n",
       "      <td>PLZ</td>\n",
       "      <td>1</td>\n",
       "    </tr>\n",
       "    <tr>\n",
       "      <th>2</th>\n",
       "      <td>2</td>\n",
       "      <td>01-24</td>\n",
       "      <td>NE</td>\n",
       "      <td>PS</td>\n",
       "      <td>8</td>\n",
       "    </tr>\n",
       "    <tr>\n",
       "      <th>3</th>\n",
       "      <td>3</td>\n",
       "      <td>01-24</td>\n",
       "      <td>SW</td>\n",
       "      <td>PLZ</td>\n",
       "      <td>2</td>\n",
       "    </tr>\n",
       "    <tr>\n",
       "      <th>4</th>\n",
       "      <td>4</td>\n",
       "      <td>01-24</td>\n",
       "      <td>SW</td>\n",
       "      <td>PS</td>\n",
       "      <td>3</td>\n",
       "    </tr>\n",
       "  </tbody>\n",
       "</table>\n",
       "</div>"
      ],
      "text/plain": [
       "   Unnamed: 0 BlockID Side SpaceType  Count\n",
       "0           0   01-24   NE      CVLZ      1\n",
       "1           1   01-24   NE       PLZ      1\n",
       "2           2   01-24   NE        PS      8\n",
       "3           3   01-24   SW       PLZ      2\n",
       "4           4   01-24   SW        PS      3"
      ]
     },
     "execution_count": 34,
     "metadata": {},
     "output_type": "execute_result"
    }
   ],
   "source": [
    "pc = pd.read_csv('parking_space_count.csv')\n",
    "pc.head()"
   ]
  },
  {
   "cell_type": "code",
   "execution_count": 35,
   "metadata": {},
   "outputs": [],
   "source": [
    "for index, row in pc.iterrows():\n",
    "    block_id = row['BlockID']\n",
    "    side = row['Side']\n",
    "    space_type = row['SpaceType']\n",
    "    count = row['Count']\n",
    "    lane = str(block_id) + '-' + str(side) + '_0'\n",
    "    parking_area_id = str(block_id) + '-' + str(side)\n",
    "    with open(\"input_additional.add.xml\", \"a\") as add:\n",
    "        if space_type == 'PS':\n",
    "            print('    <parkingArea id=\"' + parking_area_id + '\" lane=\"' + lane + '\" startPos=\"10\" endPos=\"10\" roadsideCapacity=\"' + str(count) + '\" angle=\"0\" />', file=add)"
   ]
  },
  {
   "cell_type": "code",
   "execution_count": 36,
   "metadata": {},
   "outputs": [],
   "source": [
    "with open(\"input_additional.add.xml\", \"a\") as add:\n",
    "    print('\\n</additional>', file = add)"
   ]
  },
  {
   "cell_type": "code",
   "execution_count": null,
   "metadata": {},
   "outputs": [],
   "source": []
  }
 ],
 "metadata": {
  "kernelspec": {
   "display_name": "Python 3",
   "language": "python",
   "name": "python3"
  },
  "language_info": {
   "codemirror_mode": {
    "name": "ipython",
    "version": 3
   },
   "file_extension": ".py",
   "mimetype": "text/x-python",
   "name": "python",
   "nbconvert_exporter": "python",
   "pygments_lexer": "ipython3",
   "version": "3.7.4"
  }
 },
 "nbformat": 4,
 "nbformat_minor": 4
}
