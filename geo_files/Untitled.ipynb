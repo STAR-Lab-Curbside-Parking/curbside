{
 "cells": [
  {
   "cell_type": "code",
   "execution_count": 1,
   "metadata": {},
   "outputs": [],
   "source": [
    "import pandas as pd"
   ]
  },
  {
   "cell_type": "code",
   "execution_count": 2,
   "metadata": {},
   "outputs": [],
   "source": [
    "import geopandas as gpd"
   ]
  },
  {
   "cell_type": "code",
   "execution_count": 3,
   "metadata": {},
   "outputs": [],
   "source": [
    "parking = gpd.read_file('3_3_parking_space.geojson')"
   ]
  },
  {
   "cell_type": "code",
   "execution_count": 5,
   "metadata": {},
   "outputs": [
    {
     "data": {
      "text/plain": [
       "Index(['OBJECTID', 'BLOCKID', 'ROWNBR', 'BLOCK_ST', 'BLOCK_END', 'WIDTH_OFFS',\n",
       "       'GEOBASYS', 'SPACELENGT', 'SPACETYPE', 'SPACETYPED', 'TIME_LIMIT',\n",
       "       'SPACE_NB', 'CATEGORY', 'SIDE', 'CURRENT_ST', 'ELMNTKEY', 'SHAPE_Leng',\n",
       "       'geometry'],\n",
       "      dtype='object')"
      ]
     },
     "execution_count": 5,
     "metadata": {},
     "output_type": "execute_result"
    }
   ],
   "source": [
    "parking.columns"
   ]
  },
  {
   "cell_type": "code",
   "execution_count": 12,
   "metadata": {},
   "outputs": [
    {
     "data": {
      "text/plain": [
       "array(['ALLEY', 'PS', 'CLR', 'PLZ', 'PS-CAR', 'CRBBLB', 'NP', 'CVLZ',\n",
       "       'BA', 'XWAREA', 'XW', 'HYD', 'CR', 'TAZ', 'PS-PLZ', 'BUS',\n",
       "       'PS-TAX', 'BIKE', 'PS-LAY', 'PS-MC', 'DW', 'CVLZ-B', 'CVLZ-P',\n",
       "       'PS-SBO', 'PARKLET', 'L/UL', 'BUSLAY', 'PS-TR'], dtype=object)"
      ]
     },
     "execution_count": 12,
     "metadata": {},
     "output_type": "execute_result"
    }
   ],
   "source": [
    "parking.SPACETYPE.unique()"
   ]
  },
  {
   "cell_type": "code",
   "execution_count": 6,
   "metadata": {},
   "outputs": [
    {
     "data": {
      "text/plain": [
       "array(['ALLEY', 'PAY STATION', 'CLEARANCE', 'PASSENGER LOAD ZONE',\n",
       "       'PAY STATION - CARPOOL', 'CURB BULB', 'NO PARKING',\n",
       "       'COMMERCIAL VEHICLE LOAD ZONE', 'BARRIER AREA',\n",
       "       'NOT A DESIGNATED CROSSWALK', 'CROSSWALK', 'HYDRANT', 'CURB RAMP',\n",
       "       'TOW AWAY ZONE', 'PAY STATION - PLZ', 'BUS ZONE',\n",
       "       'PAY STATION - TAXI', 'BIKE ZONE', 'PAY STATION - BUS LAYOVER',\n",
       "       'PAY STATION - MOTORCYCLE', 'DRIVEWAY', 'CVLZ - BUS ZONE',\n",
       "       'CVLZ - PLZ', 'PAY STATION - SHUTTLE BUS ONLY', 'PARKLET',\n",
       "       'LOAD/UNLOAD ZONE', 'BUS LAYOVER ZONE',\n",
       "       'PAY STATION - TEMP REMOVAL'], dtype=object)"
      ]
     },
     "execution_count": 6,
     "metadata": {},
     "output_type": "execute_result"
    }
   ],
   "source": [
    "parking.SPACETYPED.unique()"
   ]
  },
  {
   "cell_type": "code",
   "execution_count": 11,
   "metadata": {},
   "outputs": [
    {
     "data": {
      "text/html": [
       "<div>\n",
       "<style scoped>\n",
       "    .dataframe tbody tr th:only-of-type {\n",
       "        vertical-align: middle;\n",
       "    }\n",
       "\n",
       "    .dataframe tbody tr th {\n",
       "        vertical-align: top;\n",
       "    }\n",
       "\n",
       "    .dataframe thead th {\n",
       "        text-align: right;\n",
       "    }\n",
       "</style>\n",
       "<table border=\"1\" class=\"dataframe\">\n",
       "  <thead>\n",
       "    <tr style=\"text-align: right;\">\n",
       "      <th></th>\n",
       "      <th>BLOCKID</th>\n",
       "      <th>SIDE</th>\n",
       "      <th>SPACETYPED</th>\n",
       "      <th>0</th>\n",
       "    </tr>\n",
       "  </thead>\n",
       "  <tbody>\n",
       "    <tr>\n",
       "      <th>0</th>\n",
       "      <td>01-23</td>\n",
       "      <td>NE</td>\n",
       "      <td>NO PARKING</td>\n",
       "      <td>1</td>\n",
       "    </tr>\n",
       "    <tr>\n",
       "      <th>1</th>\n",
       "      <td>01-23</td>\n",
       "      <td>NE</td>\n",
       "      <td>NOT A DESIGNATED CROSSWALK</td>\n",
       "      <td>1</td>\n",
       "    </tr>\n",
       "    <tr>\n",
       "      <th>2</th>\n",
       "      <td>01-23</td>\n",
       "      <td>NE</td>\n",
       "      <td>PASSENGER LOAD ZONE</td>\n",
       "      <td>1</td>\n",
       "    </tr>\n",
       "    <tr>\n",
       "      <th>3</th>\n",
       "      <td>01-23</td>\n",
       "      <td>NE</td>\n",
       "      <td>PAY STATION - PLZ</td>\n",
       "      <td>1</td>\n",
       "    </tr>\n",
       "    <tr>\n",
       "      <th>4</th>\n",
       "      <td>01-23</td>\n",
       "      <td>SW</td>\n",
       "      <td>CLEARANCE</td>\n",
       "      <td>2</td>\n",
       "    </tr>\n",
       "    <tr>\n",
       "      <th>...</th>\n",
       "      <td>...</td>\n",
       "      <td>...</td>\n",
       "      <td>...</td>\n",
       "      <td>...</td>\n",
       "    </tr>\n",
       "    <tr>\n",
       "      <th>462</th>\n",
       "      <td>27-04</td>\n",
       "      <td>NW</td>\n",
       "      <td>PAY STATION</td>\n",
       "      <td>2</td>\n",
       "    </tr>\n",
       "    <tr>\n",
       "      <th>463</th>\n",
       "      <td>27-04</td>\n",
       "      <td>SE</td>\n",
       "      <td>CLEARANCE</td>\n",
       "      <td>1</td>\n",
       "    </tr>\n",
       "    <tr>\n",
       "      <th>464</th>\n",
       "      <td>27-04</td>\n",
       "      <td>SE</td>\n",
       "      <td>CROSSWALK</td>\n",
       "      <td>1</td>\n",
       "    </tr>\n",
       "    <tr>\n",
       "      <th>465</th>\n",
       "      <td>27-04</td>\n",
       "      <td>SE</td>\n",
       "      <td>PAY STATION</td>\n",
       "      <td>2</td>\n",
       "    </tr>\n",
       "    <tr>\n",
       "      <th>466</th>\n",
       "      <td>27-04</td>\n",
       "      <td>SE</td>\n",
       "      <td>TOW AWAY ZONE</td>\n",
       "      <td>1</td>\n",
       "    </tr>\n",
       "  </tbody>\n",
       "</table>\n",
       "<p>467 rows × 4 columns</p>\n",
       "</div>"
      ],
      "text/plain": [
       "    BLOCKID SIDE                  SPACETYPED  0\n",
       "0     01-23   NE                  NO PARKING  1\n",
       "1     01-23   NE  NOT A DESIGNATED CROSSWALK  1\n",
       "2     01-23   NE         PASSENGER LOAD ZONE  1\n",
       "3     01-23   NE           PAY STATION - PLZ  1\n",
       "4     01-23   SW                   CLEARANCE  2\n",
       "..      ...  ...                         ... ..\n",
       "462   27-04   NW                 PAY STATION  2\n",
       "463   27-04   SE                   CLEARANCE  1\n",
       "464   27-04   SE                   CROSSWALK  1\n",
       "465   27-04   SE                 PAY STATION  2\n",
       "466   27-04   SE               TOW AWAY ZONE  1\n",
       "\n",
       "[467 rows x 4 columns]"
      ]
     },
     "execution_count": 11,
     "metadata": {},
     "output_type": "execute_result"
    }
   ],
   "source": [
    "parking.groupby(['BLOCKID', 'SIDE', 'SPACETYPED']).size().reset_index()"
   ]
  },
  {
   "cell_type": "code",
   "execution_count": null,
   "metadata": {},
   "outputs": [],
   "source": []
  }
 ],
 "metadata": {
  "kernelspec": {
   "display_name": "Python 3",
   "language": "python",
   "name": "python3"
  },
  "language_info": {
   "codemirror_mode": {
    "name": "ipython",
    "version": 3
   },
   "file_extension": ".py",
   "mimetype": "text/x-python",
   "name": "python",
   "nbconvert_exporter": "python",
   "pygments_lexer": "ipython3",
   "version": "3.7.4"
  }
 },
 "nbformat": 4,
 "nbformat_minor": 4
}
