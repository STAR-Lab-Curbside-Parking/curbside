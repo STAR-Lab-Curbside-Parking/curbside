{
 "cells": [
  {
   "cell_type": "code",
   "execution_count": 41,
   "metadata": {},
   "outputs": [],
   "source": [
    "import folium\n",
    "import folium.plugins\n",
    "\n",
    "from matplotlib import pyplot as plt\n",
    "import pandas as pd\n",
    "import xml.etree.ElementTree as ET\n",
    "\n",
    "import random\n",
    "\n",
    "net_xml = \"../seattle-demo/seattle.net.xml\"\n",
    "add_xml = \"seattle.add.xml\"\n",
    "rou_xml = \"seattle.rou.xml\""
   ]
  },
  {
   "cell_type": "code",
   "execution_count": 26,
   "metadata": {},
   "outputs": [
    {
     "data": {
      "text/plain": [
       "44"
      ]
     },
     "execution_count": 26,
     "metadata": {},
     "output_type": "execute_result"
    }
   ],
   "source": [
    "parking_areas = []\n",
    "\n",
    "root_add = ET.parse(add_xml).getroot()\n",
    "for child in root_add.iter('parkingArea'):\n",
    "    parking_areas.append(child.get('id'))\n",
    "len(parking_areas)"
   ]
  },
  {
   "cell_type": "code",
   "execution_count": 82,
   "metadata": {},
   "outputs": [
    {
     "data": {
      "text/plain": [
       "['01-24-NE',\n",
       " '01-24-SW',\n",
       " '01-25-NE',\n",
       " '01-25-SW',\n",
       " '01-26-SW',\n",
       " '02-24-NE',\n",
       " '02-24-SW',\n",
       " '02-25-NE',\n",
       " '02-25-SW',\n",
       " '02-26-NE',\n",
       " '02-26-SW',\n",
       " '03-24-NE',\n",
       " '03-24-SW',\n",
       " '03-25-NE',\n",
       " '03-25-SW',\n",
       " '03-26-SW',\n",
       " '04-24-NE',\n",
       " '04-24-SW',\n",
       " '04-25-NE',\n",
       " '04-25-SW',\n",
       " '04-26-NE',\n",
       " '04-26-SW',\n",
       " '24-01-NW',\n",
       " '24-01-SE',\n",
       " '24-02-NW',\n",
       " '24-02-SE',\n",
       " '24-03-NW',\n",
       " '25-01-NW',\n",
       " '25-01-SE',\n",
       " '25-02-NW',\n",
       " '25-02-SE',\n",
       " '25-03-NW',\n",
       " '26-01-NW',\n",
       " '26-01-SE',\n",
       " '26-02-NW',\n",
       " '26-02-SE',\n",
       " '26-03-NW',\n",
       " '26-03-SE',\n",
       " '27-01-NW',\n",
       " '27-01-SE',\n",
       " '27-02-NW',\n",
       " '27-02-SE',\n",
       " '27-03-NW',\n",
       " '27-03-SE']"
      ]
     },
     "execution_count": 82,
     "metadata": {},
     "output_type": "execute_result"
    }
   ],
   "source": [
    "parking_areas"
   ]
  },
  {
   "cell_type": "code",
   "execution_count": 76,
   "metadata": {},
   "outputs": [
    {
     "data": {
      "text/plain": [
       "235"
      ]
     },
     "execution_count": 76,
     "metadata": {},
     "output_type": "execute_result"
    }
   ],
   "source": [
    "edges = []\n",
    "\n",
    "root_net = ET.parse(net_xml).getroot()\n",
    "for child in root_net.iter('edge'):\n",
    "    edges.append(child.get('id'))\n",
    "len(edges)"
   ]
  },
  {
   "cell_type": "code",
   "execution_count": 30,
   "metadata": {},
   "outputs": [
    {
     "data": {
      "text/plain": [
       "55"
      ]
     },
     "execution_count": 30,
     "metadata": {},
     "output_type": "execute_result"
    }
   ],
   "source": [
    "edges_all = [i for i in edges  if not i.startswith(':')]\n",
    "len(edges_all)"
   ]
  },
  {
   "cell_type": "code",
   "execution_count": 37,
   "metadata": {},
   "outputs": [
    {
     "data": {
      "text/plain": [
       "21"
      ]
     },
     "execution_count": 37,
     "metadata": {},
     "output_type": "execute_result"
    }
   ],
   "source": [
    "edges_od = []\n",
    "edges_od.extend([i for i in edges_all if i[3:5] == '00'])\n",
    "edges_od.extend([i for i in edges_all if i[3:5] == '04'])\n",
    "edges_od.extend([i for i in edges_all if i[3:5] == '23'])\n",
    "edges_od.extend([i for i in edges_all if i[3:5] == '27'])\n",
    "len(edges_od)"
   ]
  },
  {
   "cell_type": "code",
   "execution_count": 38,
   "metadata": {},
   "outputs": [
    {
     "data": {
      "text/plain": [
       "['25-00-NE',\n",
       " '25-00-SW',\n",
       " '26-00-NE',\n",
       " '27-00-NE',\n",
       " '27-00-SW',\n",
       " '24-04-NE',\n",
       " '26-04-NE',\n",
       " '27-04-NE',\n",
       " '27-04-SW',\n",
       " '01-23-NW',\n",
       " '01-23-SE',\n",
       " '02-23-SE',\n",
       " '03-23-NW',\n",
       " '03-23-SE',\n",
       " '04-23-NW',\n",
       " '01-27-NW',\n",
       " '01-27-SE',\n",
       " '02-27-SE',\n",
       " '03-27-NW',\n",
       " '03-27-SE',\n",
       " '04-27-NW']"
      ]
     },
     "execution_count": 38,
     "metadata": {},
     "output_type": "execute_result"
    }
   ],
   "source": [
    "edges_od"
   ]
  },
  {
   "cell_type": "code",
   "execution_count": 93,
   "metadata": {},
   "outputs": [],
   "source": [
    "edges_o = ['01-23-NW', '25-00-NE', '26-00-NE', '27-00-NE', '01-27-SE', '02-27-SE', '03-27-SE', '27-04-SW', '04-23-NW', '03-23-NW']\n",
    "edges_d = [i for i in edges_od if i not in edges_o]"
   ]
  },
  {
   "cell_type": "code",
   "execution_count": 94,
   "metadata": {},
   "outputs": [],
   "source": [
    "edge_od_pairs = []\n",
    "from itertools import permutations \n",
    "for i in list(permutations(edges_od, 2)): \n",
    "    edge_od_pairs.append(i)"
   ]
  },
  {
   "cell_type": "code",
   "execution_count": 95,
   "metadata": {},
   "outputs": [],
   "source": [
    "with open(rou_xml, \"w\") as rou:\n",
    "    print(\"\"\"<?xml version=\"1.0\" encoding=\"UTF-8\"?>\n",
    "<routes xmlns:xsi=\"http://www.w3.org/2001/XMLSchema-instance\" xsi:noNamespaceSchemaLocation=\"http://sumo.dlr.de/xsd/routes_file.xsd\">\n",
    "\"\"\", file=rou)"
   ]
  },
  {
   "cell_type": "code",
   "execution_count": 96,
   "metadata": {},
   "outputs": [],
   "source": [
    "with open(rou_xml, \"a\") as rou:\n",
    "    print('\\t<vType id=\"passenger\" vClass=\"passenger\"></vType>', file=rou)"
   ]
  },
  {
   "cell_type": "code",
   "execution_count": 97,
   "metadata": {},
   "outputs": [],
   "source": [
    "with open(rou_xml, \"a\") as rou:\n",
    "    route_num = 200\n",
    "    for i in range(route_num):\n",
    "        pa = random.choice(parking_areas) # parking area\n",
    "        o = random.choice(edges_o)\n",
    "        d = random.choice(edges_d)\n",
    "#         print('<trip id={}, depart=\"{}\", from=\"{}\", to={}>')\n",
    "        print('''\\t<trip id=\"{}\" depart=\"{}\" from=\"{}\" to=\"{}\">\n",
    "\t\t <stop index=\"0\" parkingArea=\"{}\" duration=\"{}\" parking=\"true\"/>\n",
    "\t</trip>'''.format(i, i*10, o, d, pa, 60), file = rou)\n",
    "#         print('\\t<trip id=\"{}\" type=\"passenger\" edges=\"{} {}\">\\n\\t\\t<stop index=\"0\" parkingArea=\"{}\" duration=\"20\" parking=\"true\"/>\\n\\t</route>'.format(i, o, d, pa), file=rou)"
   ]
  },
  {
   "cell_type": "code",
   "execution_count": 98,
   "metadata": {},
   "outputs": [],
   "source": [
    "with open(rou_xml, \"a\") as rou:\n",
    "    print('\\n</routes>', file = rou)"
   ]
  },
  {
   "cell_type": "code",
   "execution_count": null,
   "metadata": {},
   "outputs": [],
   "source": []
  }
 ],
 "metadata": {
  "kernelspec": {
   "display_name": "Python 3",
   "language": "python",
   "name": "python3"
  },
  "language_info": {
   "codemirror_mode": {
    "name": "ipython",
    "version": 3
   },
   "file_extension": ".py",
   "mimetype": "text/x-python",
   "name": "python",
   "nbconvert_exporter": "python",
   "pygments_lexer": "ipython3",
   "version": "3.7.4"
  }
 },
 "nbformat": 4,
 "nbformat_minor": 4
}
