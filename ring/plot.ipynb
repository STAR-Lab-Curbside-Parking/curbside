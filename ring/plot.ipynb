{
 "cells": [
  {
   "cell_type": "code",
   "execution_count": 42,
   "metadata": {
    "ExecuteTime": {
     "end_time": "2021-08-01T21:51:48.066594Z",
     "start_time": "2021-08-01T21:51:48.058561Z"
    }
   },
   "outputs": [],
   "source": [
    "from matplotlib import pyplot as plt\n",
    "import pandas as pd"
   ]
  },
  {
   "cell_type": "code",
   "execution_count": 43,
   "metadata": {
    "ExecuteTime": {
     "end_time": "2021-08-01T21:51:48.766659Z",
     "start_time": "2021-08-01T21:51:48.748886Z"
    }
   },
   "outputs": [],
   "source": [
    "import matplotlib\n",
    "matplotlib.rcParams['text.usetex'] = True\n",
    "plt.rcParams['legend.title_fontsize'] = 'xx-small'"
   ]
  },
  {
   "cell_type": "code",
   "execution_count": 44,
   "metadata": {
    "ExecuteTime": {
     "end_time": "2021-08-01T21:51:49.421548Z",
     "start_time": "2021-08-01T21:51:49.406626Z"
    }
   },
   "outputs": [],
   "source": [
    "# plt.rcParams.update({\n",
    "#     \"text.usetex\": True,\n",
    "#     \"font.family\": \"sans-serif\",\n",
    "#     \"font.sans-serif\": [\"Helvetica\"]})\n",
    "# for Palatino and other serif fonts use:\n",
    "# plt.rcParams.update({\n",
    "#     \"text.usetex\": True,\n",
    "#     \"font.family\": \"serif\",\n",
    "#     \"font.serif\": [\"Palatino\"],\n",
    "# })"
   ]
  },
  {
   "cell_type": "code",
   "execution_count": 45,
   "metadata": {
    "ExecuteTime": {
     "end_time": "2021-08-01T21:51:50.155190Z",
     "start_time": "2021-08-01T21:51:50.134713Z"
    }
   },
   "outputs": [],
   "source": [
    "def error_cal(data, duration):\n",
    "    \n",
    "    df = data[data['duration'] == duration].copy()\n",
    "\n",
    "    df['l_err'] = abs(df['min'] - df['mean'])\n",
    "    df['u_err'] = abs(df['max'] - df['mean'])\n",
    "\n",
    "    yerr = [df['l_err'].tolist(), df['u_err'].tolist()]\n",
    "    \n",
    "    return df, yerr"
   ]
  },
  {
   "cell_type": "code",
   "execution_count": 118,
   "metadata": {
    "ExecuteTime": {
     "end_time": "2021-08-02T00:07:21.564178Z",
     "start_time": "2021-08-02T00:07:21.536532Z"
    }
   },
   "outputs": [],
   "source": [
    "def plot(fixed, flow):\n",
    "    data = fixed[fixed['flow'] == flow].drop(columns=['flow'])\n",
    "\n",
    "    data = data.groupby(['duration', 'cap']).agg({'result':['mean', 'min', 'max']})\n",
    "\n",
    "    data.columns = data.columns.droplevel()\n",
    "    data = data.reset_index()\n",
    "    \n",
    "    fig, ax = plt.subplots(figsize=(9,6))\n",
    "\n",
    "    for duration in [0.2, 0.25, 0.33, 0.5]:\n",
    "        duration_df, yerr = error_cal(data, duration)\n",
    "        ax.errorbar(duration_df['cap'], duration_df['mean'], yerr=yerr, capsize=8, label='{}'.format(duration))\n",
    "        \n",
    "    ax.set_xlim([0.5, 9.5])\n",
    "    \n",
    "    ax.set_xlabel(r'Initially allocated CV capacity (cv\\_ini\\_cap)', fontsize=16)\n",
    "    ax.set_ylabel(r'Performance (negative total reroutes)', fontsize=16)\n",
    "    ax.legend(title=\"parking duration ratio\\n (cv2ncv\\_pd)\", fontsize=14, title_fontsize=16, loc='best') \n",
    "    # bbox_to_anchor=(0.8,0.5)\n",
    "    ax.tick_params(axis='both', which='major', labelsize=14)\n",
    "\n",
    "    ax.get_xaxis().set_major_formatter(matplotlib.ticker.FuncFormatter(lambda x, p: format(int(x))))\n",
    "    ax.get_yaxis().set_major_formatter(matplotlib.ticker.FuncFormatter(lambda x, p: format(int(x), ',')))\n",
    "\n",
    "    plt.savefig('mp_{}.pdf'.format(flow))\n",
    "    plt.close()"
   ]
  },
  {
   "cell_type": "markdown",
   "metadata": {},
   "source": [
    "### fix baseline"
   ]
  },
  {
   "cell_type": "code",
   "execution_count": 111,
   "metadata": {
    "ExecuteTime": {
     "end_time": "2021-08-02T00:06:17.719452Z",
     "start_time": "2021-08-02T00:06:17.711440Z"
    }
   },
   "outputs": [],
   "source": [
    "data = pd.read_csv('fix_baseline.txt', delimiter = \",\")"
   ]
  },
  {
   "cell_type": "code",
   "execution_count": 112,
   "metadata": {
    "ExecuteTime": {
     "end_time": "2021-08-02T00:06:18.316848Z",
     "start_time": "2021-08-02T00:06:18.301490Z"
    }
   },
   "outputs": [],
   "source": [
    "data = data[data['result'] > -3000]"
   ]
  },
  {
   "cell_type": "code",
   "execution_count": 113,
   "metadata": {
    "ExecuteTime": {
     "end_time": "2021-08-02T00:06:22.120078Z",
     "start_time": "2021-08-02T00:06:19.371680Z"
    }
   },
   "outputs": [],
   "source": [
    "for rate in [1.0, 2.0, 3.0, 4.0, 5.0]:\n",
    "    plot(data, rate)"
   ]
  },
  {
   "cell_type": "markdown",
   "metadata": {},
   "source": [
    "### max pressure baseline"
   ]
  },
  {
   "cell_type": "code",
   "execution_count": 119,
   "metadata": {
    "ExecuteTime": {
     "end_time": "2021-08-02T00:07:23.283468Z",
     "start_time": "2021-08-02T00:07:23.258262Z"
    }
   },
   "outputs": [],
   "source": [
    "data = pd.read_csv('mp_baseline.txt', delimiter = \",\")"
   ]
  },
  {
   "cell_type": "code",
   "execution_count": 120,
   "metadata": {
    "ExecuteTime": {
     "end_time": "2021-08-02T00:07:23.697006Z",
     "start_time": "2021-08-02T00:07:23.682649Z"
    }
   },
   "outputs": [],
   "source": [
    "data = data[data['result'] > -3000]"
   ]
  },
  {
   "cell_type": "code",
   "execution_count": 121,
   "metadata": {
    "ExecuteTime": {
     "end_time": "2021-08-02T00:07:28.265732Z",
     "start_time": "2021-08-02T00:07:24.032704Z"
    }
   },
   "outputs": [],
   "source": [
    "for rate in [0.2, 0.25, 0.33, 0.5, 1, 2, 3, 4, 5]:\n",
    "    plot(data, rate)"
   ]
  },
  {
   "cell_type": "code",
   "execution_count": null,
   "metadata": {},
   "outputs": [],
   "source": []
  }
 ],
 "metadata": {
  "kernelspec": {
   "display_name": "Python 3",
   "language": "python",
   "name": "python3"
  },
  "language_info": {
   "codemirror_mode": {
    "name": "ipython",
    "version": 3
   },
   "file_extension": ".py",
   "mimetype": "text/x-python",
   "name": "python",
   "nbconvert_exporter": "python",
   "pygments_lexer": "ipython3",
   "version": "3.8.2"
  },
  "varInspector": {
   "cols": {
    "lenName": 16,
    "lenType": 16,
    "lenVar": 40
   },
   "kernels_config": {
    "python": {
     "delete_cmd_postfix": "",
     "delete_cmd_prefix": "del ",
     "library": "var_list.py",
     "varRefreshCmd": "print(var_dic_list())"
    },
    "r": {
     "delete_cmd_postfix": ") ",
     "delete_cmd_prefix": "rm(",
     "library": "var_list.r",
     "varRefreshCmd": "cat(var_dic_list()) "
    }
   },
   "types_to_exclude": [
    "module",
    "function",
    "builtin_function_or_method",
    "instance",
    "_Feature"
   ],
   "window_display": false
  }
 },
 "nbformat": 4,
 "nbformat_minor": 4
}
