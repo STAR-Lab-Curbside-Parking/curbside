{
 "cells": [
  {
   "cell_type": "code",
   "execution_count": 1,
   "source": [
    "from matplotlib import pyplot as plt\n",
    "import pandas as pd"
   ],
   "outputs": [],
   "metadata": {
    "ExecuteTime": {
     "end_time": "2021-08-01T21:51:48.066594Z",
     "start_time": "2021-08-01T21:51:48.058561Z"
    }
   }
  },
  {
   "cell_type": "code",
   "execution_count": 2,
   "source": [
    "import matplotlib\n",
    "matplotlib.rcParams['text.usetex'] = True\n",
    "plt.rcParams['legend.title_fontsize'] = 'xx-small'"
   ],
   "outputs": [],
   "metadata": {
    "ExecuteTime": {
     "end_time": "2021-08-01T21:51:48.766659Z",
     "start_time": "2021-08-01T21:51:48.748886Z"
    }
   }
  },
  {
   "cell_type": "code",
   "execution_count": 3,
   "source": [
    "# plt.rcParams.update({\n",
    "#     \"text.usetex\": True,\n",
    "#     \"font.family\": \"sans-serif\",\n",
    "#     \"font.sans-serif\": [\"Helvetica\"]})\n",
    "# for Palatino and other serif fonts use:\n",
    "# plt.rcParams.update({\n",
    "#     \"text.usetex\": True,\n",
    "#     \"font.family\": \"serif\",\n",
    "#     \"font.serif\": [\"Palatino\"],\n",
    "# })"
   ],
   "outputs": [],
   "metadata": {
    "ExecuteTime": {
     "end_time": "2021-08-01T21:51:49.421548Z",
     "start_time": "2021-08-01T21:51:49.406626Z"
    }
   }
  },
  {
   "cell_type": "markdown",
   "source": [
    "## baseline"
   ],
   "metadata": {}
  },
  {
   "cell_type": "code",
   "execution_count": 4,
   "source": [
    "def error_cal(data, duration):\n",
    "    \n",
    "    df = data[data['duration'] == duration].copy()\n",
    "\n",
    "    df['l_err'] = abs(df['min'] - df['mean'])\n",
    "    df['u_err'] = abs(df['max'] - df['mean'])\n",
    "\n",
    "    yerr = [df['l_err'].tolist(), df['u_err'].tolist()]\n",
    "    \n",
    "    return df, yerr"
   ],
   "outputs": [],
   "metadata": {
    "ExecuteTime": {
     "end_time": "2021-08-01T21:51:50.155190Z",
     "start_time": "2021-08-01T21:51:50.134713Z"
    }
   }
  },
  {
   "cell_type": "code",
   "execution_count": 5,
   "source": [
    "def plot(fixed, flow):\n",
    "    data = fixed[fixed['flow'] == flow].drop(columns=['flow'])\n",
    "\n",
    "    data = data.groupby(['duration', 'cap']).agg({'result':['mean', 'min', 'max']})\n",
    "\n",
    "    data.columns = data.columns.droplevel()\n",
    "    data = data.reset_index()\n",
    "    \n",
    "    fig, ax = plt.subplots(figsize=(9,6))\n",
    "\n",
    "    for duration in [0.2, 0.25, 0.33, 0.5]:\n",
    "        duration_df, yerr = error_cal(data, duration)\n",
    "        ax.errorbar(duration_df['cap'], duration_df['mean'], yerr=yerr, capsize=8, label='{}'.format(duration))\n",
    "        \n",
    "    ax.set_xlim([0.5, 9.5])\n",
    "    \n",
    "    ax.set_xlabel(r'Initially allocated CV capacity (cv\\_ini\\_cap)', fontsize=16)\n",
    "    ax.set_ylabel(r'Performance (negative total reroutes)', fontsize=16)\n",
    "    ax.legend(title=\"parking duration ratio\\n (cv2ncv\\_pd)\", fontsize=14, title_fontsize=16, loc='best') \n",
    "    # bbox_to_anchor=(0.8,0.5)\n",
    "    ax.tick_params(axis='both', which='major', labelsize=14)\n",
    "\n",
    "    ax.get_xaxis().set_major_formatter(matplotlib.ticker.FuncFormatter(lambda x, p: format(int(x))))\n",
    "    ax.get_yaxis().set_major_formatter(matplotlib.ticker.FuncFormatter(lambda x, p: format(int(x), ',')))\n",
    "\n",
    "    plt.savefig('mp_{}.pdf'.format(flow))\n",
    "    plt.close()"
   ],
   "outputs": [],
   "metadata": {
    "ExecuteTime": {
     "end_time": "2021-08-02T00:07:21.564178Z",
     "start_time": "2021-08-02T00:07:21.536532Z"
    }
   }
  },
  {
   "cell_type": "markdown",
   "source": [
    "### fix baseline"
   ],
   "metadata": {}
  },
  {
   "cell_type": "code",
   "execution_count": 6,
   "source": [
    "data = pd.read_csv('fix_baseline.txt', delimiter = \",\")"
   ],
   "outputs": [],
   "metadata": {
    "ExecuteTime": {
     "end_time": "2021-08-02T00:06:17.719452Z",
     "start_time": "2021-08-02T00:06:17.711440Z"
    }
   }
  },
  {
   "cell_type": "code",
   "execution_count": 7,
   "source": [
    "data = data[data['result'] > -3000]"
   ],
   "outputs": [],
   "metadata": {
    "ExecuteTime": {
     "end_time": "2021-08-02T00:06:18.316848Z",
     "start_time": "2021-08-02T00:06:18.301490Z"
    }
   }
  },
  {
   "cell_type": "code",
   "execution_count": 8,
   "source": [
    "for rate in [1.0, 2.0, 3.0, 4.0, 5.0]:\n",
    "    plot(data, rate)"
   ],
   "outputs": [],
   "metadata": {
    "ExecuteTime": {
     "end_time": "2021-08-02T00:06:22.120078Z",
     "start_time": "2021-08-02T00:06:19.371680Z"
    }
   }
  },
  {
   "cell_type": "markdown",
   "source": [
    "### max pressure baseline"
   ],
   "metadata": {}
  },
  {
   "cell_type": "code",
   "execution_count": 119,
   "source": [
    "data = pd.read_csv('mp_baseline.txt', delimiter = \",\")"
   ],
   "outputs": [],
   "metadata": {
    "ExecuteTime": {
     "end_time": "2021-08-02T00:07:23.283468Z",
     "start_time": "2021-08-02T00:07:23.258262Z"
    }
   }
  },
  {
   "cell_type": "code",
   "execution_count": 120,
   "source": [
    "data = data[data['result'] > -3000]"
   ],
   "outputs": [],
   "metadata": {
    "ExecuteTime": {
     "end_time": "2021-08-02T00:07:23.697006Z",
     "start_time": "2021-08-02T00:07:23.682649Z"
    }
   }
  },
  {
   "cell_type": "code",
   "execution_count": 121,
   "source": [
    "for rate in [0.2, 0.25, 0.33, 0.5, 1, 2, 3, 4, 5]:\n",
    "    plot(data, rate)"
   ],
   "outputs": [],
   "metadata": {
    "ExecuteTime": {
     "end_time": "2021-08-02T00:07:28.265732Z",
     "start_time": "2021-08-02T00:07:24.032704Z"
    }
   }
  },
  {
   "cell_type": "markdown",
   "source": [
    "## A2C"
   ],
   "metadata": {}
  },
  {
   "cell_type": "markdown",
   "source": [
    "### low connectivity"
   ],
   "metadata": {}
  },
  {
   "cell_type": "code",
   "execution_count": 9,
   "source": [
    "a2c = []\n",
    "a2c_min = []\n",
    "a2c_max = []\n",
    "\n",
    "\n",
    "fig, ax = plt.subplots(figsize=(9,6))\n",
    "\n",
    "# for i in range(len(learn)):\n",
    "#     # duration_df, yerr = error_cal(data, duration)\n",
    "#     # ax.errorbar(duration_df['cap'], duration_df['mean'], yerr=yerr, capsize=8, label='{}'.format(duration))\n",
    "#     ax.plot(learn[i], label=r'cv\\_ini\\_cap={}'.format(i+1))\n",
    "\n",
    "ax.fill_between(range(20), a2c_min, a2c_max, alpha=0.4, color='green')\n",
    "ax.plot(a2c, color='green', linewidth=3, label='RL-CSM')\n",
    "\n",
    "ax.fill_between(range(22), -1414, -1067, alpha=0.5, color='tomato')\n",
    "ax.axhline(-1251, color='tomato', label=\"max-pressure baseline\")\n",
    "    \n",
    "ax.set_xlim([0, 21])\n",
    "ax.set_ylim([-10**5.2, -10**2.6])\n",
    "\n",
    "ax.set_xlabel(r'Episode', fontsize=16)\n",
    "ax.set_ylabel(r'Performance (negative total reroutes)', fontsize=16)\n",
    "\n",
    "# title=\"Initially allocated \\nCV capacity (cv\\_ini\\_cap)\", title_fontsize=16, \n",
    "ax.legend(fontsize=14, loc=4) \n",
    "# bbox_to_anchor=(0.8,0.5)\n",
    "ax.tick_params(axis='both', which='major', labelsize=14)\n",
    "\n",
    "ax.get_xaxis().set_major_formatter(matplotlib.ticker.FuncFormatter(lambda x, p: format(int(x))))\n",
    "ax.get_yaxis().set_major_formatter(matplotlib.ticker.FuncFormatter(lambda x, p: format(int(x), ',')))\n",
    "\n",
    "ax.set_yscale('symlog')\n",
    "plt.savefig('low_1.pdf')"
   ],
   "outputs": [
    {
     "output_type": "error",
     "ename": "ValueError",
     "evalue": "operands could not be broadcast together with shapes (20,) (0,) ",
     "traceback": [
      "\u001b[0;31m---------------------------------------------------------------------------\u001b[0m",
      "\u001b[0;31mValueError\u001b[0m                                Traceback (most recent call last)",
      "\u001b[0;32m<ipython-input-9-c6d7e7112397>\u001b[0m in \u001b[0;36m<module>\u001b[0;34m\u001b[0m\n\u001b[1;32m     11\u001b[0m \u001b[0;31m#     ax.plot(learn[i], label=r'cv\\_ini\\_cap={}'.format(i+1))\u001b[0m\u001b[0;34m\u001b[0m\u001b[0;34m\u001b[0m\u001b[0;34m\u001b[0m\u001b[0m\n\u001b[1;32m     12\u001b[0m \u001b[0;34m\u001b[0m\u001b[0m\n\u001b[0;32m---> 13\u001b[0;31m \u001b[0max\u001b[0m\u001b[0;34m.\u001b[0m\u001b[0mfill_between\u001b[0m\u001b[0;34m(\u001b[0m\u001b[0mrange\u001b[0m\u001b[0;34m(\u001b[0m\u001b[0;36m20\u001b[0m\u001b[0;34m)\u001b[0m\u001b[0;34m,\u001b[0m \u001b[0ma2c_min\u001b[0m\u001b[0;34m,\u001b[0m \u001b[0ma2c_max\u001b[0m\u001b[0;34m,\u001b[0m \u001b[0malpha\u001b[0m\u001b[0;34m=\u001b[0m\u001b[0;36m0.4\u001b[0m\u001b[0;34m,\u001b[0m \u001b[0mcolor\u001b[0m\u001b[0;34m=\u001b[0m\u001b[0;34m'green'\u001b[0m\u001b[0;34m)\u001b[0m\u001b[0;34m\u001b[0m\u001b[0;34m\u001b[0m\u001b[0m\n\u001b[0m\u001b[1;32m     14\u001b[0m \u001b[0max\u001b[0m\u001b[0;34m.\u001b[0m\u001b[0mplot\u001b[0m\u001b[0;34m(\u001b[0m\u001b[0ma2c\u001b[0m\u001b[0;34m,\u001b[0m \u001b[0mcolor\u001b[0m\u001b[0;34m=\u001b[0m\u001b[0;34m'green'\u001b[0m\u001b[0;34m,\u001b[0m \u001b[0mlinewidth\u001b[0m\u001b[0;34m=\u001b[0m\u001b[0;36m3\u001b[0m\u001b[0;34m,\u001b[0m \u001b[0mlabel\u001b[0m\u001b[0;34m=\u001b[0m\u001b[0;34m'RL-CSM'\u001b[0m\u001b[0;34m)\u001b[0m\u001b[0;34m\u001b[0m\u001b[0;34m\u001b[0m\u001b[0m\n\u001b[1;32m     15\u001b[0m \u001b[0;34m\u001b[0m\u001b[0m\n",
      "\u001b[0;32m~/anaconda3/envs/syin/lib/python3.8/site-packages/matplotlib/__init__.py\u001b[0m in \u001b[0;36minner\u001b[0;34m(ax, data, *args, **kwargs)\u001b[0m\n\u001b[1;32m   1436\u001b[0m     \u001b[0;32mdef\u001b[0m \u001b[0minner\u001b[0m\u001b[0;34m(\u001b[0m\u001b[0max\u001b[0m\u001b[0;34m,\u001b[0m \u001b[0;34m*\u001b[0m\u001b[0margs\u001b[0m\u001b[0;34m,\u001b[0m \u001b[0mdata\u001b[0m\u001b[0;34m=\u001b[0m\u001b[0;32mNone\u001b[0m\u001b[0;34m,\u001b[0m \u001b[0;34m**\u001b[0m\u001b[0mkwargs\u001b[0m\u001b[0;34m)\u001b[0m\u001b[0;34m:\u001b[0m\u001b[0;34m\u001b[0m\u001b[0;34m\u001b[0m\u001b[0m\n\u001b[1;32m   1437\u001b[0m         \u001b[0;32mif\u001b[0m \u001b[0mdata\u001b[0m \u001b[0;32mis\u001b[0m \u001b[0;32mNone\u001b[0m\u001b[0;34m:\u001b[0m\u001b[0;34m\u001b[0m\u001b[0;34m\u001b[0m\u001b[0m\n\u001b[0;32m-> 1438\u001b[0;31m             \u001b[0;32mreturn\u001b[0m \u001b[0mfunc\u001b[0m\u001b[0;34m(\u001b[0m\u001b[0max\u001b[0m\u001b[0;34m,\u001b[0m \u001b[0;34m*\u001b[0m\u001b[0mmap\u001b[0m\u001b[0;34m(\u001b[0m\u001b[0msanitize_sequence\u001b[0m\u001b[0;34m,\u001b[0m \u001b[0margs\u001b[0m\u001b[0;34m)\u001b[0m\u001b[0;34m,\u001b[0m \u001b[0;34m**\u001b[0m\u001b[0mkwargs\u001b[0m\u001b[0;34m)\u001b[0m\u001b[0;34m\u001b[0m\u001b[0;34m\u001b[0m\u001b[0m\n\u001b[0m\u001b[1;32m   1439\u001b[0m \u001b[0;34m\u001b[0m\u001b[0m\n\u001b[1;32m   1440\u001b[0m         \u001b[0mbound\u001b[0m \u001b[0;34m=\u001b[0m \u001b[0mnew_sig\u001b[0m\u001b[0;34m.\u001b[0m\u001b[0mbind\u001b[0m\u001b[0;34m(\u001b[0m\u001b[0max\u001b[0m\u001b[0;34m,\u001b[0m \u001b[0;34m*\u001b[0m\u001b[0margs\u001b[0m\u001b[0;34m,\u001b[0m \u001b[0;34m**\u001b[0m\u001b[0mkwargs\u001b[0m\u001b[0;34m)\u001b[0m\u001b[0;34m\u001b[0m\u001b[0;34m\u001b[0m\u001b[0m\n",
      "\u001b[0;32m~/anaconda3/envs/syin/lib/python3.8/site-packages/matplotlib/axes/_axes.py\u001b[0m in \u001b[0;36mfill_between\u001b[0;34m(self, x, y1, y2, where, interpolate, step, **kwargs)\u001b[0m\n\u001b[1;32m   5299\u001b[0m     def fill_between(self, x, y1, y2=0, where=None, interpolate=False,\n\u001b[1;32m   5300\u001b[0m                      step=None, **kwargs):\n\u001b[0;32m-> 5301\u001b[0;31m         return self._fill_between_x_or_y(\n\u001b[0m\u001b[1;32m   5302\u001b[0m             \u001b[0;34m\"x\"\u001b[0m\u001b[0;34m,\u001b[0m \u001b[0mx\u001b[0m\u001b[0;34m,\u001b[0m \u001b[0my1\u001b[0m\u001b[0;34m,\u001b[0m \u001b[0my2\u001b[0m\u001b[0;34m,\u001b[0m\u001b[0;34m\u001b[0m\u001b[0;34m\u001b[0m\u001b[0m\n\u001b[1;32m   5303\u001b[0m             where=where, interpolate=interpolate, step=step, **kwargs)\n",
      "\u001b[0;32m~/anaconda3/envs/syin/lib/python3.8/site-packages/matplotlib/axes/_axes.py\u001b[0m in \u001b[0;36m_fill_between_x_or_y\u001b[0;34m(self, ind_dir, ind, dep1, dep2, where, interpolate, step, **kwargs)\u001b[0m\n\u001b[1;32m   5221\u001b[0m                     \u001b[0;34mf\"must have the same size as {ind} in {func_name}(). This \"\u001b[0m\u001b[0;34m\u001b[0m\u001b[0;34m\u001b[0m\u001b[0m\n\u001b[1;32m   5222\u001b[0m                     \"will become an error %(removal)s.\")\n\u001b[0;32m-> 5223\u001b[0;31m         where = where & ~functools.reduce(\n\u001b[0m\u001b[1;32m   5224\u001b[0m             np.logical_or, map(np.ma.getmask, [ind, dep1, dep2]))\n\u001b[1;32m   5225\u001b[0m \u001b[0;34m\u001b[0m\u001b[0m\n",
      "\u001b[0;31mValueError\u001b[0m: operands could not be broadcast together with shapes (20,) (0,) "
     ]
    },
    {
     "output_type": "display_data",
     "data": {
      "text/plain": [
       "<Figure size 648x432 with 1 Axes>"
      ],
      "image/png": "[encoded data removed]"
     },
     "metadata": {
      "needs_background": "light"
     }
    }
   ],
   "metadata": {
    "ExecuteTime": {
     "end_time": "2021-08-02T08:45:53.423244Z",
     "start_time": "2021-08-02T08:45:52.678641Z"
    }
   }
  },
  {
   "cell_type": "code",
   "execution_count": 10,
   "source": [
    "data = pd.read_csv('mp_baseline.txt', delimiter = \",\")\n",
    "data = data[data['result'] > -3000]\n",
    "\n",
    "fixed = data\n",
    "\n",
    "data = fixed[fixed['flow'] == 0.33].drop(columns=['flow'])\n",
    "\n",
    "data = data.groupby(['duration', 'cap']).agg({'result':['mean', 'min', 'max']})\n",
    "\n",
    "data.columns = data.columns.droplevel()\n",
    "data = data.reset_index()\n",
    "\n",
    "fig, ax = plt.subplots(figsize=(9,6))\n",
    "\n",
    "for duration in [0.2]:\n",
    "    duration_df, yerr = error_cal(data, duration)\n",
    "    ax.errorbar(duration_df['cap'], duration_df['mean'], yerr=yerr, capsize=8, label='max-pressure baseline')\n",
    "\n",
    "\n",
    "yerr = []\n",
    "ax.errorbar(range(1,10),[max(item) for item in learn], yerr=yerr, capsize=8, label='RL-CSM')\n",
    "\n",
    "\n",
    "ax.set_xlim([0.5, 9.5])\n",
    "\n",
    "ax.set_xlabel(r'Initially allocated CV capacity (cv\\_ini\\_cap)', fontsize=16)\n",
    "ax.set_ylabel(r'Performance (negative total reroutes)', fontsize=16)\n",
    "ax.legend(fontsize=14, loc='best') \n",
    "# bbox_to_anchor=(0.8,0.5)\n",
    "ax.tick_params(axis='both', which='major', labelsize=14)\n",
    "\n",
    "ax.get_xaxis().set_major_formatter(matplotlib.ticker.FuncFormatter(lambda x, p: format(int(x))))\n",
    "ax.get_yaxis().set_major_formatter(matplotlib.ticker.FuncFormatter(lambda x, p: format(int(x), ',')))\n",
    "\n",
    "plt.savefig('low_2.pdf')"
   ],
   "outputs": [
    {
     "output_type": "error",
     "ename": "NameError",
     "evalue": "name 'learn' is not defined",
     "traceback": [
      "\u001b[0;31m---------------------------------------------------------------------------\u001b[0m",
      "\u001b[0;31mNameError\u001b[0m                                 Traceback (most recent call last)",
      "\u001b[0;32m<ipython-input-10-3a5d92818d01>\u001b[0m in \u001b[0;36m<module>\u001b[0;34m\u001b[0m\n\u001b[1;32m     19\u001b[0m \u001b[0;34m\u001b[0m\u001b[0m\n\u001b[1;32m     20\u001b[0m \u001b[0myerr\u001b[0m \u001b[0;34m=\u001b[0m \u001b[0;34m[\u001b[0m\u001b[0;34m]\u001b[0m\u001b[0;34m\u001b[0m\u001b[0;34m\u001b[0m\u001b[0m\n\u001b[0;32m---> 21\u001b[0;31m \u001b[0max\u001b[0m\u001b[0;34m.\u001b[0m\u001b[0merrorbar\u001b[0m\u001b[0;34m(\u001b[0m\u001b[0mrange\u001b[0m\u001b[0;34m(\u001b[0m\u001b[0;36m1\u001b[0m\u001b[0;34m,\u001b[0m\u001b[0;36m10\u001b[0m\u001b[0;34m)\u001b[0m\u001b[0;34m,\u001b[0m\u001b[0;34m[\u001b[0m\u001b[0mmax\u001b[0m\u001b[0;34m(\u001b[0m\u001b[0mitem\u001b[0m\u001b[0;34m)\u001b[0m \u001b[0;32mfor\u001b[0m \u001b[0mitem\u001b[0m \u001b[0;32min\u001b[0m \u001b[0mlearn\u001b[0m\u001b[0;34m]\u001b[0m\u001b[0;34m,\u001b[0m \u001b[0myerr\u001b[0m\u001b[0;34m=\u001b[0m\u001b[0myerr\u001b[0m\u001b[0;34m,\u001b[0m \u001b[0mcapsize\u001b[0m\u001b[0;34m=\u001b[0m\u001b[0;36m8\u001b[0m\u001b[0;34m,\u001b[0m \u001b[0mlabel\u001b[0m\u001b[0;34m=\u001b[0m\u001b[0;34m'RL-CSM'\u001b[0m\u001b[0;34m)\u001b[0m\u001b[0;34m\u001b[0m\u001b[0;34m\u001b[0m\u001b[0m\n\u001b[0m\u001b[1;32m     22\u001b[0m \u001b[0;34m\u001b[0m\u001b[0m\n\u001b[1;32m     23\u001b[0m \u001b[0;34m\u001b[0m\u001b[0m\n",
      "\u001b[0;31mNameError\u001b[0m: name 'learn' is not defined"
     ]
    },
    {
     "output_type": "display_data",
     "data": {
      "text/plain": [
       "<Figure size 648x432 with 1 Axes>"
      ],
      "image/png": "[encoded data removed]"
     },
     "metadata": {
      "needs_background": "light"
     }
    }
   ],
   "metadata": {
    "ExecuteTime": {
     "end_time": "2021-08-02T08:41:08.657061Z",
     "start_time": "2021-08-02T08:41:08.098909Z"
    }
   }
  },
  {
   "cell_type": "markdown",
   "source": [
    "### high  connectivity"
   ],
   "metadata": {}
  },
  {
   "cell_type": "code",
   "execution_count": 11,
   "source": [
    "data = pd.read_csv('mp_baseline.txt', delimiter = \",\")\n",
    "data = data[data['result'] > -3000]\n",
    "\n",
    "data[(data['flow']==2.0) & (data['duration']==0.5)& (data['cap']==5)]['result'].mean()"
   ],
   "outputs": [
    {
     "output_type": "execute_result",
     "data": {
      "text/plain": [
       "-466.0"
      ]
     },
     "metadata": {},
     "execution_count": 11
    }
   ],
   "metadata": {
    "ExecuteTime": {
     "end_time": "2021-08-02T08:39:50.759881Z",
     "start_time": "2021-08-02T08:39:50.744672Z"
    }
   }
  },
  {
   "cell_type": "code",
   "execution_count": 12,
   "source": [
    "a2c = []\n",
    "a2c_min = []\n",
    "a2c_max = []\n",
    "\n",
    "\n",
    "fig, ax = plt.subplots(figsize=(9,6))\n",
    "\n",
    "# for i in range(len(learn)):\n",
    "#     # duration_df, yerr = error_cal(data, duration)\n",
    "#     # ax.errorbar(duration_df['cap'], duration_df['mean'], yerr=yerr, capsize=8, label='{}'.format(duration))\n",
    "#     ax.plot(learn[i], label=r'cv\\_ini\\_cap={}'.format(i+1))\n",
    "\n",
    "ax.fill_between(range(20), a2c_min, a2c_max, alpha=0.4, color='green')\n",
    "ax.plot(a2c, color='green', linewidth=3, label='RL-CSM')\n",
    "\n",
    "ax.fill_between(range(22), -674, -384, alpha=0.5, color='red')\n",
    "ax.axhline(-466.0, color='red', label=\"max-pressure baseline\")\n",
    "\n",
    "ax.fill_between(range(22), -609, -406, alpha=0.8, color='cornflowerblue')\n",
    "ax.axhline(-525, color='cornflowerblue', label=\"no-action baseline\")\n",
    "    \n",
    "ax.set_xlim([0, 21])\n",
    "ax.set_ylim([-10**5.2, -10**2])\n",
    "\n",
    "ax.set_xlabel(r'Episode', fontsize=16)\n",
    "ax.set_ylabel(r'Performance (negative total reroutes)', fontsize=16)\n",
    "\n",
    "# title=\"Initially allocated \\nCV capacity (cv\\_ini\\_cap)\", title_fontsize=16, \n",
    "ax.legend(fontsize=14, loc=4) \n",
    "# bbox_to_anchor=(0.8,0.5)\n",
    "ax.tick_params(axis='both', which='major', labelsize=14)\n",
    "\n",
    "ax.get_xaxis().set_major_formatter(matplotlib.ticker.FuncFormatter(lambda x, p: format(int(x))))\n",
    "ax.get_yaxis().set_major_formatter(matplotlib.ticker.FuncFormatter(lambda x, p: format(int(x), ',')))\n",
    "\n",
    "ax.set_yscale('symlog')\n",
    "plt.savefig('high_1.pdf')"
   ],
   "outputs": [
    {
     "output_type": "error",
     "ename": "ValueError",
     "evalue": "operands could not be broadcast together with shapes (20,) (0,) ",
     "traceback": [
      "\u001b[0;31m---------------------------------------------------------------------------\u001b[0m",
      "\u001b[0;31mValueError\u001b[0m                                Traceback (most recent call last)",
      "\u001b[0;32m<ipython-input-12-2783902110b4>\u001b[0m in \u001b[0;36m<module>\u001b[0;34m\u001b[0m\n\u001b[1;32m     11\u001b[0m \u001b[0;31m#     ax.plot(learn[i], label=r'cv\\_ini\\_cap={}'.format(i+1))\u001b[0m\u001b[0;34m\u001b[0m\u001b[0;34m\u001b[0m\u001b[0;34m\u001b[0m\u001b[0m\n\u001b[1;32m     12\u001b[0m \u001b[0;34m\u001b[0m\u001b[0m\n\u001b[0;32m---> 13\u001b[0;31m \u001b[0max\u001b[0m\u001b[0;34m.\u001b[0m\u001b[0mfill_between\u001b[0m\u001b[0;34m(\u001b[0m\u001b[0mrange\u001b[0m\u001b[0;34m(\u001b[0m\u001b[0;36m20\u001b[0m\u001b[0;34m)\u001b[0m\u001b[0;34m,\u001b[0m \u001b[0ma2c_min\u001b[0m\u001b[0;34m,\u001b[0m \u001b[0ma2c_max\u001b[0m\u001b[0;34m,\u001b[0m \u001b[0malpha\u001b[0m\u001b[0;34m=\u001b[0m\u001b[0;36m0.4\u001b[0m\u001b[0;34m,\u001b[0m \u001b[0mcolor\u001b[0m\u001b[0;34m=\u001b[0m\u001b[0;34m'green'\u001b[0m\u001b[0;34m)\u001b[0m\u001b[0;34m\u001b[0m\u001b[0;34m\u001b[0m\u001b[0m\n\u001b[0m\u001b[1;32m     14\u001b[0m \u001b[0max\u001b[0m\u001b[0;34m.\u001b[0m\u001b[0mplot\u001b[0m\u001b[0;34m(\u001b[0m\u001b[0ma2c\u001b[0m\u001b[0;34m,\u001b[0m \u001b[0mcolor\u001b[0m\u001b[0;34m=\u001b[0m\u001b[0;34m'green'\u001b[0m\u001b[0;34m,\u001b[0m \u001b[0mlinewidth\u001b[0m\u001b[0;34m=\u001b[0m\u001b[0;36m3\u001b[0m\u001b[0;34m,\u001b[0m \u001b[0mlabel\u001b[0m\u001b[0;34m=\u001b[0m\u001b[0;34m'RL-CSM'\u001b[0m\u001b[0;34m)\u001b[0m\u001b[0;34m\u001b[0m\u001b[0;34m\u001b[0m\u001b[0m\n\u001b[1;32m     15\u001b[0m \u001b[0;34m\u001b[0m\u001b[0m\n",
      "\u001b[0;32m~/anaconda3/envs/syin/lib/python3.8/site-packages/matplotlib/__init__.py\u001b[0m in \u001b[0;36minner\u001b[0;34m(ax, data, *args, **kwargs)\u001b[0m\n\u001b[1;32m   1436\u001b[0m     \u001b[0;32mdef\u001b[0m \u001b[0minner\u001b[0m\u001b[0;34m(\u001b[0m\u001b[0max\u001b[0m\u001b[0;34m,\u001b[0m \u001b[0;34m*\u001b[0m\u001b[0margs\u001b[0m\u001b[0;34m,\u001b[0m \u001b[0mdata\u001b[0m\u001b[0;34m=\u001b[0m\u001b[0;32mNone\u001b[0m\u001b[0;34m,\u001b[0m \u001b[0;34m**\u001b[0m\u001b[0mkwargs\u001b[0m\u001b[0;34m)\u001b[0m\u001b[0;34m:\u001b[0m\u001b[0;34m\u001b[0m\u001b[0;34m\u001b[0m\u001b[0m\n\u001b[1;32m   1437\u001b[0m         \u001b[0;32mif\u001b[0m \u001b[0mdata\u001b[0m \u001b[0;32mis\u001b[0m \u001b[0;32mNone\u001b[0m\u001b[0;34m:\u001b[0m\u001b[0;34m\u001b[0m\u001b[0;34m\u001b[0m\u001b[0m\n\u001b[0;32m-> 1438\u001b[0;31m             \u001b[0;32mreturn\u001b[0m \u001b[0mfunc\u001b[0m\u001b[0;34m(\u001b[0m\u001b[0max\u001b[0m\u001b[0;34m,\u001b[0m \u001b[0;34m*\u001b[0m\u001b[0mmap\u001b[0m\u001b[0;34m(\u001b[0m\u001b[0msanitize_sequence\u001b[0m\u001b[0;34m,\u001b[0m \u001b[0margs\u001b[0m\u001b[0;34m)\u001b[0m\u001b[0;34m,\u001b[0m \u001b[0;34m**\u001b[0m\u001b[0mkwargs\u001b[0m\u001b[0;34m)\u001b[0m\u001b[0;34m\u001b[0m\u001b[0;34m\u001b[0m\u001b[0m\n\u001b[0m\u001b[1;32m   1439\u001b[0m \u001b[0;34m\u001b[0m\u001b[0m\n\u001b[1;32m   1440\u001b[0m         \u001b[0mbound\u001b[0m \u001b[0;34m=\u001b[0m \u001b[0mnew_sig\u001b[0m\u001b[0;34m.\u001b[0m\u001b[0mbind\u001b[0m\u001b[0;34m(\u001b[0m\u001b[0max\u001b[0m\u001b[0;34m,\u001b[0m \u001b[0;34m*\u001b[0m\u001b[0margs\u001b[0m\u001b[0;34m,\u001b[0m \u001b[0;34m**\u001b[0m\u001b[0mkwargs\u001b[0m\u001b[0;34m)\u001b[0m\u001b[0;34m\u001b[0m\u001b[0;34m\u001b[0m\u001b[0m\n",
      "\u001b[0;32m~/anaconda3/envs/syin/lib/python3.8/site-packages/matplotlib/axes/_axes.py\u001b[0m in \u001b[0;36mfill_between\u001b[0;34m(self, x, y1, y2, where, interpolate, step, **kwargs)\u001b[0m\n\u001b[1;32m   5299\u001b[0m     def fill_between(self, x, y1, y2=0, where=None, interpolate=False,\n\u001b[1;32m   5300\u001b[0m                      step=None, **kwargs):\n\u001b[0;32m-> 5301\u001b[0;31m         return self._fill_between_x_or_y(\n\u001b[0m\u001b[1;32m   5302\u001b[0m             \u001b[0;34m\"x\"\u001b[0m\u001b[0;34m,\u001b[0m \u001b[0mx\u001b[0m\u001b[0;34m,\u001b[0m \u001b[0my1\u001b[0m\u001b[0;34m,\u001b[0m \u001b[0my2\u001b[0m\u001b[0;34m,\u001b[0m\u001b[0;34m\u001b[0m\u001b[0;34m\u001b[0m\u001b[0m\n\u001b[1;32m   5303\u001b[0m             where=where, interpolate=interpolate, step=step, **kwargs)\n",
      "\u001b[0;32m~/anaconda3/envs/syin/lib/python3.8/site-packages/matplotlib/axes/_axes.py\u001b[0m in \u001b[0;36m_fill_between_x_or_y\u001b[0;34m(self, ind_dir, ind, dep1, dep2, where, interpolate, step, **kwargs)\u001b[0m\n\u001b[1;32m   5221\u001b[0m                     \u001b[0;34mf\"must have the same size as {ind} in {func_name}(). This \"\u001b[0m\u001b[0;34m\u001b[0m\u001b[0;34m\u001b[0m\u001b[0m\n\u001b[1;32m   5222\u001b[0m                     \"will become an error %(removal)s.\")\n\u001b[0;32m-> 5223\u001b[0;31m         where = where & ~functools.reduce(\n\u001b[0m\u001b[1;32m   5224\u001b[0m             np.logical_or, map(np.ma.getmask, [ind, dep1, dep2]))\n\u001b[1;32m   5225\u001b[0m \u001b[0;34m\u001b[0m\u001b[0m\n",
      "\u001b[0;31mValueError\u001b[0m: operands could not be broadcast together with shapes (20,) (0,) "
     ]
    },
    {
     "output_type": "display_data",
     "data": {
      "text/plain": [
       "<Figure size 648x432 with 1 Axes>"
      ],
      "image/png": "[encoded data removed]"
     },
     "metadata": {
      "needs_background": "light"
     }
    }
   ],
   "metadata": {
    "ExecuteTime": {
     "end_time": "2021-08-02T08:53:15.245772Z",
     "start_time": "2021-08-02T08:53:14.797525Z"
    }
   }
  },
  {
   "cell_type": "code",
   "execution_count": 13,
   "source": [
    "fig, ax = plt.subplots(figsize=(9,6))\n",
    "\n",
    "data = pd.read_csv('mp_baseline.txt', delimiter = \",\")\n",
    "data = data[data['result'] > -3000]\n",
    "\n",
    "fixed = data\n",
    "\n",
    "data = fixed[fixed['flow'] == 2.0].drop(columns=['flow'])\n",
    "\n",
    "data = data.groupby(['duration', 'cap']).agg({'result':['mean', 'min', 'max']})\n",
    "\n",
    "data.columns = data.columns.droplevel()\n",
    "data = data.reset_index()\n",
    "\n",
    "for duration in [0.5]:\n",
    "    duration_df, yerr = error_cal(data, duration)\n",
    "    ax.errorbar(duration_df['cap'], duration_df['mean'], yerr=yerr, capsize=8, label='max-pressure baseline')\n",
    "    \n",
    "\n",
    "data = pd.read_csv('fix_baseline.txt', delimiter = \",\")\n",
    "data = data[data['result'] > -3000]\n",
    "\n",
    "fixed = data\n",
    "\n",
    "data = fixed[fixed['flow'] == 2.0].drop(columns=['flow'])\n",
    "\n",
    "data = data.groupby(['duration', 'cap']).agg({'result':['mean', 'min', 'max']})\n",
    "\n",
    "data.columns = data.columns.droplevel()\n",
    "data = data.reset_index()\n",
    "\n",
    "\n",
    "for duration in [0.5]:\n",
    "    duration_df, yerr = error_cal(data, duration)\n",
    "    ax.errorbar(duration_df['cap'], duration_df['mean'], yerr=yerr, capsize=8, label='no-action baseline')\n",
    "\n",
    "\n",
    "yerr = []\n",
    "ax.errorbar(range(1,10),[max(item) for item in learn], yerr=yerr, capsize=8, label='RL-CSM')\n",
    "\n",
    "\n",
    "ax.set_xlim([0.5, 9.5])\n",
    "\n",
    "ax.set_xlabel(r'Initially allocated CV capacity (cv\\_ini\\_cap)', fontsize=16)\n",
    "ax.set_ylabel(r'Performance (negative total reroutes)', fontsize=16)\n",
    "ax.legend(fontsize=14, loc='best') \n",
    "# bbox_to_anchor=(0.8,0.5)\n",
    "ax.tick_params(axis='both', which='major', labelsize=14)\n",
    "\n",
    "ax.get_xaxis().set_major_formatter(matplotlib.ticker.FuncFormatter(lambda x, p: format(int(x))))\n",
    "ax.get_yaxis().set_major_formatter(matplotlib.ticker.FuncFormatter(lambda x, p: format(int(x), ',')))\n",
    "\n",
    "plt.savefig('high_2.pdf')"
   ],
   "outputs": [
    {
     "output_type": "error",
     "ename": "NameError",
     "evalue": "name 'learn' is not defined",
     "traceback": [
      "\u001b[0;31m---------------------------------------------------------------------------\u001b[0m",
      "\u001b[0;31mNameError\u001b[0m                                 Traceback (most recent call last)",
      "\u001b[0;32m<ipython-input-13-7cc4007f07cb>\u001b[0m in \u001b[0;36m<module>\u001b[0;34m\u001b[0m\n\u001b[1;32m     37\u001b[0m \u001b[0;34m\u001b[0m\u001b[0m\n\u001b[1;32m     38\u001b[0m \u001b[0myerr\u001b[0m \u001b[0;34m=\u001b[0m \u001b[0;34m[\u001b[0m\u001b[0;34m]\u001b[0m\u001b[0;34m\u001b[0m\u001b[0;34m\u001b[0m\u001b[0m\n\u001b[0;32m---> 39\u001b[0;31m \u001b[0max\u001b[0m\u001b[0;34m.\u001b[0m\u001b[0merrorbar\u001b[0m\u001b[0;34m(\u001b[0m\u001b[0mrange\u001b[0m\u001b[0;34m(\u001b[0m\u001b[0;36m1\u001b[0m\u001b[0;34m,\u001b[0m\u001b[0;36m10\u001b[0m\u001b[0;34m)\u001b[0m\u001b[0;34m,\u001b[0m\u001b[0;34m[\u001b[0m\u001b[0mmax\u001b[0m\u001b[0;34m(\u001b[0m\u001b[0mitem\u001b[0m\u001b[0;34m)\u001b[0m \u001b[0;32mfor\u001b[0m \u001b[0mitem\u001b[0m \u001b[0;32min\u001b[0m \u001b[0mlearn\u001b[0m\u001b[0;34m]\u001b[0m\u001b[0;34m,\u001b[0m \u001b[0myerr\u001b[0m\u001b[0;34m=\u001b[0m\u001b[0myerr\u001b[0m\u001b[0;34m,\u001b[0m \u001b[0mcapsize\u001b[0m\u001b[0;34m=\u001b[0m\u001b[0;36m8\u001b[0m\u001b[0;34m,\u001b[0m \u001b[0mlabel\u001b[0m\u001b[0;34m=\u001b[0m\u001b[0;34m'RL-CSM'\u001b[0m\u001b[0;34m)\u001b[0m\u001b[0;34m\u001b[0m\u001b[0;34m\u001b[0m\u001b[0m\n\u001b[0m\u001b[1;32m     40\u001b[0m \u001b[0;34m\u001b[0m\u001b[0m\n\u001b[1;32m     41\u001b[0m \u001b[0;34m\u001b[0m\u001b[0m\n",
      "\u001b[0;31mNameError\u001b[0m: name 'learn' is not defined"
     ]
    },
    {
     "output_type": "display_data",
     "data": {
      "text/plain": [
       "<Figure size 648x432 with 1 Axes>"
      ],
      "image/png": "[encoded data removed]"
     },
     "metadata": {
      "needs_background": "light"
     }
    }
   ],
   "metadata": {
    "ExecuteTime": {
     "end_time": "2021-08-02T08:44:01.164908Z",
     "start_time": "2021-08-02T08:44:00.526689Z"
    }
   }
  },
  {
   "cell_type": "code",
   "execution_count": null,
   "source": [],
   "outputs": [],
   "metadata": {}
  }
 ],
 "metadata": {
  "kernelspec": {
   "name": "python3",
   "display_name": "Python 3.8.2 64-bit ('syin': conda)"
  },
  "language_info": {
   "codemirror_mode": {
    "name": "ipython",
    "version": 3
   },
   "file_extension": ".py",
   "mimetype": "text/x-python",
   "name": "python",
   "nbconvert_exporter": "python",
   "pygments_lexer": "ipython3",
   "version": "3.8.2"
  },
  "varInspector": {
   "cols": {
    "lenName": 16,
    "lenType": 16,
    "lenVar": 40
   },
   "kernels_config": {
    "python": {
     "delete_cmd_postfix": "",
     "delete_cmd_prefix": "del ",
     "library": "var_list.py",
     "varRefreshCmd": "print(var_dic_list())"
    },
    "r": {
     "delete_cmd_postfix": ") ",
     "delete_cmd_prefix": "rm(",
     "library": "var_list.r",
     "varRefreshCmd": "cat(var_dic_list()) "
    }
   },
   "types_to_exclude": [
    "module",
    "function",
    "builtin_function_or_method",
    "instance",
    "_Feature"
   ],
   "window_display": false
  },
  "interpreter": {
   "hash": "26e89d313aa4a5a843da136d0b8cbc2fc3dc142885e4b028d3aefcead9239a9a"
  }
 },
 "nbformat": 4,
 "nbformat_minor": 4
}