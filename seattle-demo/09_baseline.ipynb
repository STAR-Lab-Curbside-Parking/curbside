{
 "cells": [
  {
   "cell_type": "code",
   "execution_count": 1,
   "metadata": {},
   "outputs": [],
   "source": [
    "import curbside\n",
    "import utils\n",
    "import envs"
   ]
  },
  {
   "cell_type": "code",
   "execution_count": 2,
   "metadata": {},
   "outputs": [],
   "source": [
    "net_xml = \"seattle.net.xml\"\n",
    "add_xml = \"seattle.add.xml\"\n",
    "rou_xml = \"seattle.trips.xml\""
   ]
  },
  {
   "cell_type": "code",
   "execution_count": 3,
   "metadata": {},
   "outputs": [
    {
     "name": "stdout",
     "output_type": "stream",
     "text": [
      "seattle.trips.xml re-generated. (demand factor = 1 )\n"
     ]
    }
   ],
   "source": [
    "utils.generate_route(psg_park_dm_x=1, dlv_park_dm_x=1, flow_num=200, simulate_hour=12, seed=2)"
   ]
  },
  {
   "cell_type": "code",
   "execution_count": null,
   "metadata": {},
   "outputs": [
    {
     "name": "stdout",
     "output_type": "stream",
     "text": [
      " Retrying in 1 seconds\n",
      "Could not connect to TraCI server at localhost:61868 [Errno 61] Connection refused\n",
      " Retrying in 1 seconds\n",
      "Could not connect to TraCI server at localhost:61868 [Errno 61] Connection refused\n",
      " Retrying in 1 seconds\n",
      "Could not connect to TraCI server at localhost:61868 [Errno 61] Connection refused\n",
      " Retrying in 1 seconds\n",
      "Could not connect to TraCI server at localhost:61868 [Errno 61] Connection refused\n",
      " Retrying in 1 seconds\n",
      "Could not connect to TraCI server at localhost:61868 [Errno 61] Connection refused\n",
      " Retrying in 1 seconds\n",
      "Could not connect to TraCI server at localhost:61868 [Errno 61] Connection refused\n",
      " Retrying in 1 seconds\n",
      "reroute total: 12\n",
      "reroute total: 12\n",
      "reroute total: 12\n",
      "reroute total: 12\n",
      "reroute total: 13\n",
      "reroute total: 14\n",
      "reroute total: 15\n",
      "reroute total: 20\n",
      "reroute total: 20\n",
      "reroute total: 20\n"
     ]
    }
   ],
   "source": [
    "env = envs.SeattleEnv(net_xml, add_xml, rou_xml, gui=True)\n",
    "policy = envs.Policy(env.curb_ids)\n",
    "\n",
    "while True:\n",
    "    actions = policy.forward(env.reroute_vtype)\n",
    "    done = env.batch(actions, 600)\n",
    "    if done:\n",
    "        break\n",
    "\n",
    "env.terminate()"
   ]
  },
  {
   "cell_type": "code",
   "execution_count": null,
   "metadata": {},
   "outputs": [],
   "source": []
  }
 ],
 "metadata": {
  "kernelspec": {
   "display_name": "Python 3",
   "language": "python",
   "name": "python3"
  },
  "language_info": {
   "codemirror_mode": {
    "name": "ipython",
    "version": 3
   },
   "file_extension": ".py",
   "mimetype": "text/x-python",
   "name": "python",
   "nbconvert_exporter": "python",
   "pygments_lexer": "ipython3",
   "version": "3.8.2"
  }
 },
 "nbformat": 4,
 "nbformat_minor": 4
}
