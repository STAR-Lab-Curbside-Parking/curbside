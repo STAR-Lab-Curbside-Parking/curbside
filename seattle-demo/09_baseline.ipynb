{
 "cells": [
  {
   "cell_type": "code",
   "execution_count": 1,
   "metadata": {},
   "outputs": [],
   "source": [
    "import curbside\n",
    "import utils\n",
    "import envs"
   ]
  },
  {
   "cell_type": "code",
   "execution_count": 2,
   "metadata": {},
   "outputs": [],
   "source": [
    "net_xml = \"seattle.net.xml\"\n",
    "add_xml = \"seattle.add.xml\"\n",
    "rou_xml = \"seattle.trips.xml\""
   ]
  },
  {
   "cell_type": "code",
   "execution_count": 3,
   "metadata": {},
   "outputs": [
    {
     "name": "stdout",
     "output_type": "stream",
     "text": [
      "seattle.trips.xml re-generated. (demand factor = 2 )\n"
     ]
    }
   ],
   "source": [
    "utils.generate_route(psg_park_dm_x=2, dlv_park_dm_x=3, flow_num=200, simulate_hour=12, seed=2)"
   ]
  },
  {
   "cell_type": "code",
   "execution_count": 11,
   "metadata": {},
   "outputs": [],
   "source": [
    "class Policy:\n",
    "    def __init__(self, curb_ids, policy_name='naive'):\n",
    "        self.curb_ids = curb_ids\n",
    "        self.policy_name = policy_name\n",
    "        \n",
    "    def forward(self, reroute_vtype=None):\n",
    "        actions = []\n",
    "        for curb_id in self.curb_ids:\n",
    "            if self.policy_name == 'naive':\n",
    "                action = self.naive_policy(reroute_vtype[curb_id])\n",
    "            if self.policy_name == 'no-action':\n",
    "                action = 0\n",
    "                \n",
    "            actions.append(action)\n",
    "        return actions\n",
    "    \n",
    "    def naive_policy(self, curb_reroute):\n",
    "        if curb_reroute['dlv'] > curb_reroute['psg']:\n",
    "            action = 1 # delivery vehicle space +1\n",
    "        elif curb_reroute['dlv'] < curb_reroute['psg']:\n",
    "            action = -1 # passenger vehicle space +1\n",
    "        else:\n",
    "            action = 0\n",
    "        return action\n"
   ]
  },
  {
   "cell_type": "code",
   "execution_count": 12,
   "metadata": {},
   "outputs": [
    {
     "name": "stdout",
     "output_type": "stream",
     "text": [
      "reroute total: 11\n",
      "reroute total: 12\n",
      "reroute total: 12\n",
      "reroute total: 15\n",
      "reroute total: 20\n",
      "(('02-26-SE_0', 50.0, '02-26-SW', 130, 180.0, -1073741824.0),)\n",
      "()\n",
      "reroute total: 29\n",
      "reroute total: 31\n",
      "reroute total: 39\n",
      "reroute total: 41\n",
      "(('01-25-NW_0', 50.0, '01-25-NE', 130, 180.0, -1073741824.0),)\n",
      "()\n",
      "reroute total: 48\n",
      "reroute total: 55\n",
      "reroute total: 60\n",
      "reroute total: 66\n",
      "reroute total: 71\n",
      "reroute total: 72\n",
      "reroute total: 77\n",
      "reroute total: 83\n",
      "reroute total: 88\n",
      "(('02-26-SE_0', 50.0, '02-26-SW', 130, 3600.0, -1073741824.0),)\n",
      "()\n",
      "reroute total: 93\n",
      "reroute total: 100\n",
      "(('04-26-NW_0', 50.0, '04-26-NE', 130, 3600.0, -1073741824.0),)\n",
      "()\n",
      "reroute total: 105\n",
      "reroute total: 109\n",
      "(('27-02-SW_0', 50.0, '27-02-NW', 130, 3600.0, -1073741824.0),)\n",
      "()\n",
      "reroute total: 116\n",
      "reroute total: 118\n",
      "reroute total: 123\n",
      "reroute total: 127\n",
      "(('01-24-SE_0', 50.0, '01-24-SW', 130, 1200.0, -1073741824.0),)\n",
      "()\n",
      "reroute total: 133\n",
      "reroute total: 139\n",
      "reroute total: 143\n",
      "reroute total: 146\n",
      "reroute total: 156\n",
      "reroute total: 159\n",
      "reroute total: 164\n",
      "(('27-01-SW_0', 50.0, '27-01-NW', 130, 180.0, -1073741824.0),)\n",
      "()\n",
      "reroute total: 177\n",
      "reroute total: 180\n",
      "reroute total: 189\n",
      "reroute total: 194\n",
      "(('24-01-NE_0', 50.0, '24-01-SE', 130, 180.0, -1073741824.0),)\n",
      "()\n",
      "reroute total: 201\n",
      "reroute total: 205\n",
      "reroute total: 213\n",
      "reroute total: 215\n",
      "(('24-02-NE_0', 50.0, '24-02-SE', 130, 180.0, -1073741824.0),)\n",
      "()\n",
      "reroute total: 217\n",
      "reroute total: 224\n",
      "reroute total: 231\n",
      "reroute total: 237\n",
      "reroute total: 245\n",
      "reroute total: 250\n",
      "reroute total: 257\n",
      "(('26-03-NE_0', 50.0, '26-03-SE', 130, 600.0, -1073741824.0),)\n",
      "()\n",
      "reroute total: 270\n",
      "reroute total: 276\n",
      "reroute total: 281\n",
      "reroute total: 290\n",
      "(('27-02-SW_0', 50.0, '27-02-NW', 130, 3600.0, -1073741824.0),)\n",
      "()\n",
      "(('27-02-SW_0', 50.0, '27-02-NW', 130, 3600.0, -1073741824.0),)\n",
      "()\n",
      "reroute total: 297\n",
      "reroute total: 303\n",
      "(('25-01-NE_0', 50.0, '25-01-SE', 130, 3600.0, -1073741824.0),)\n",
      "()\n",
      "(('02-26-SE_0', 50.0, '02-26-NE', 130, 3600.0, -1073741824.0),)\n",
      "()\n",
      "reroute total: 309\n",
      "reroute total: 318\n",
      "(('01-26-SE_0', 50.0, '01-26-SW', 130, 1800.0, -1073741824.0),)\n",
      "()\n",
      "reroute total: 324\n",
      "(('02-26-SE_0', 50.0, '02-26-NE', 130, 3600.0, -1073741824.0),)\n",
      "()\n",
      "(('25-01-NE_0', 50.0, '25-01-SE', 130, 3600.0, -1073741824.0),)\n",
      "()\n",
      "reroute total: 332\n",
      "reroute total: 339\n",
      "(('03-26-SE_0', 50.0, '03-26-SW', 130, 1800.0, -1073741824.0),)\n",
      "()\n",
      "reroute total: 348\n"
     ]
    }
   ],
   "source": [
    "env = envs.SeattleEnv(net_xml, add_xml, rou_xml, gui=True)\n",
    "# policy = Policy(env.curb_ids, policy_name='no-action')\n",
    "policy = Policy(env.curb_ids, policy_name='naive')\n",
    "\n",
    "while True:\n",
    "    actions = policy.forward(env.reroute_vtype)\n",
    "    done = env.batch(actions, 3600)\n",
    "    if done:\n",
    "        break\n",
    "\n",
    "env.terminate()"
   ]
  },
  {
   "cell_type": "code",
   "execution_count": 10,
   "metadata": {},
   "outputs": [],
   "source": [
    "env.terminate()"
   ]
  },
  {
   "cell_type": "code",
   "execution_count": null,
   "metadata": {},
   "outputs": [],
   "source": []
  }
 ],
 "metadata": {
  "kernelspec": {
   "display_name": "Python 3",
   "language": "python",
   "name": "python3"
  },
  "language_info": {
   "codemirror_mode": {
    "name": "ipython",
    "version": 3
   },
   "file_extension": ".py",
   "mimetype": "text/x-python",
   "name": "python",
   "nbconvert_exporter": "python",
   "pygments_lexer": "ipython3",
   "version": "3.7.6"
  }
 },
 "nbformat": 4,
 "nbformat_minor": 4
}
