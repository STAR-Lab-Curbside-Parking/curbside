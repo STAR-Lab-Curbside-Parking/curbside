{
 "cells": [
  {
   "cell_type": "code",
   "execution_count": 1,
   "metadata": {},
   "outputs": [],
   "source": [
    "import curbside\n",
    "import utils\n",
    "import envs"
   ]
  },
  {
   "cell_type": "code",
   "execution_count": 2,
   "metadata": {},
   "outputs": [],
   "source": [
    "net_xml = \"seattle.net.xml\"\n",
    "add_xml = \"seattle.add.xml\"\n",
    "rou_xml = \"seattle.trips.xml\""
   ]
  },
  {
   "cell_type": "code",
   "execution_count": 3,
   "metadata": {},
   "outputs": [
    {
     "name": "stdout",
     "output_type": "stream",
     "text": [
      "seattle.trips.xml re-generated. (demand factor = 1 )\n"
     ]
    }
   ],
   "source": [
    "utils.generate_route(psg_park_dm_x=1, dlv_park_dm_x=1, flow_num=200, simulate_hour=12, seed=2)"
   ]
  },
  {
   "cell_type": "code",
   "execution_count": 3,
   "metadata": {},
   "outputs": [
    {
     "name": "stdout",
     "output_type": "stream",
     "text": [
      " Retrying in 1 seconds\n",
      "reroute total: 0\n",
      "reroute total: 3\n",
      "reroute total: 4\n",
      "reroute total: 8\n",
      "dlv_0\n",
      "(('02-25-SE_0', 50.0, '02-25-SW', 130, 180.0, -1073741824.0),)\n",
      "reroute total: 12\n",
      "reroute total: 16\n",
      "reroute total: 17\n",
      "reroute total: 21\n",
      "reroute total: 23\n",
      "reroute total: 23\n"
     ]
    }
   ],
   "source": [
    "env = envs.SeattleEnv(net_xml, add_xml, rou_xml, gui=True)\n",
    "policy = envs.Policy(env.curb_ids)\n",
    "\n",
    "while True:\n",
    "    actions = policy.forward(env.reroute_vtype)\n",
    "    done = env.step(actions, 600)\n",
    "    if done:\n",
    "        break\n",
    "\n",
    "env.terminate()"
   ]
  },
  {
   "cell_type": "code",
   "execution_count": null,
   "metadata": {},
   "outputs": [],
   "source": []
  }
 ],
 "metadata": {
  "kernelspec": {
   "display_name": "Python 3",
   "language": "python",
   "name": "python3"
  },
  "language_info": {
   "codemirror_mode": {
    "name": "ipython",
    "version": 3
   },
   "file_extension": ".py",
   "mimetype": "text/x-python",
   "name": "python",
   "nbconvert_exporter": "python",
   "pygments_lexer": "ipython3",
   "version": "3.8.2"
  }
 },
 "nbformat": 4,
 "nbformat_minor": 4
}
