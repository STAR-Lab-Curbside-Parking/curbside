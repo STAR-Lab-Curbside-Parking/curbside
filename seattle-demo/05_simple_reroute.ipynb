{
 "cells": [
  {
   "cell_type": "code",
   "execution_count": 1,
   "metadata": {},
   "outputs": [],
   "source": [
    "import os, sys\n",
    "import argparse\n",
    "import time\n",
    "\n",
    "import xml.etree.ElementTree as ET"
   ]
  },
  {
   "cell_type": "code",
   "execution_count": 2,
   "metadata": {},
   "outputs": [],
   "source": [
    "if 'SUMO_HOME' in os.environ:\n",
    "    tools = os.path.join(os.environ['SUMO_HOME'], 'tools')\n",
    "    sys.path.append(tools)\n",
    "else:\n",
    "    sys.exit(\"please declare environment variable 'SUMO_HOME'\")\n",
    "\n",
    "import traci\n",
    "import traci.constants as tc\n",
    "\n",
    "net_xml = \"seattle.net.xml\"\n",
    "add_xml = \"seattle.add.xml\"\n",
    "rou_xml = \"seattle.trips.xml\""
   ]
  },
  {
   "cell_type": "code",
   "execution_count": 3,
   "metadata": {},
   "outputs": [],
   "source": [
    "import curbside\n",
    "import utils"
   ]
  },
  {
   "cell_type": "code",
   "execution_count": 4,
   "metadata": {},
   "outputs": [],
   "source": [
    "def main():\n",
    "    \"\"\"\n",
    "    Main function that controls the simulation\n",
    "    \"\"\"\n",
    "\n",
    "    road_network = utils.create_graph('seattle.net.xml')\n",
    "    \n",
    "    # create agent curbs\n",
    "    curb_ids = []\n",
    "    root = ET.parse(add_xml).getroot()\n",
    "    for child in root.iter('additional'):\n",
    "        for kid in child.iter('parkingArea'):\n",
    "            curb_ids.append(kid.get('id'))\n",
    "    \n",
    "    curbs = []\n",
    "    for curb_id in curb_ids:\n",
    "        curbs.append(curbside.SmartCurbside(1, 'seattle.add.xml', 'seattle.net.xml', curb_id, ['passenger', 'taxi'], road_network))\n",
    "        \n",
    "    for curb in curbs:\n",
    "        curb.find_neighborhood(road_network)\n",
    "    \n",
    "    start = time.time()\n",
    "    # simulation\n",
    "    while traci.simulation.getMinExpectedNumber() > 0:\n",
    "        traci.simulationStep()\n",
    "        if traci.simulation.getTime() == 1200:\n",
    "            print(time.time() - start)\n",
    "            break\n",
    "        \n",
    "        for curb in curbs:\n",
    "            # update neighbors info\n",
    "            curb._update_nearby_curb()\n",
    "            \n",
    "            # check if there is any vehicle enters\n",
    "            v_enter = set(traci.edge.getLastStepVehicleIDs(curb.edge)) - curb.moving_vehicle\n",
    "            \n",
    "            # no need to subtract v_leave, because v_leave ideally should be maintained per curb, but now inner loop is on curbs\n",
    "            # v_enter -= v_leave\n",
    "            \n",
    "            for veh in v_enter:\n",
    "                # new vehicle is for sure not confirmed, no need to check confirmed=True\n",
    "                # if vehicle has next stops and currect edge is one of them - this vehicle should be considered for current edge\n",
    "                # also check vehicle is not stopped - during parking right before departure getNextStops() will return original travel plan, which shouldn't happen\n",
    "                if traci.vehicle.getNextStops(veh) and curb.id in [item[2] for item in traci.vehicle.getNextStops(veh)] and not traci.vehicle.isStopped(veh):\n",
    "                    # if the trips is not ending and the current edge is the parking stop\n",
    "                    # v_leave should be excluded\n",
    "                    if any(traci.vehicle.getVehicleClass(veh) in s for s in curb.vclass) and len(curb.occupied_vehicle) < curb.capacity:\n",
    "                        # if can park, add to occupied set : planned + parked\n",
    "                        curb.occupied_vehicle.add(veh)\n",
    "                    else:\n",
    "                        # cannot park at this edge, reroute\n",
    "                        # item._reroute_choice() returns (curb_id, distance) tuple\n",
    "                        traci.vehicle.rerouteParkingArea(veh, curb._reroute_choice()[0])\n",
    "            \n",
    "            # v_leave : parked vehicle of last time step - parked vehicle at this time step\n",
    "            v_leave = curb.parked_vehicle - set(traci.parkingarea.getVehicleIDs(curb.id))\n",
    "            # remove v_leave from occupied set : planned + parked\n",
    "            curb.occupied_vehicle -= v_leave\n",
    "            # update parked vehicle set\n",
    "            curb.parked_vehicle = set(traci.parkingarea.getVehicleIDs(curb.id))\n",
    "            # update moving vehicles on the hosting edge\n",
    "            curb.moving_vehicle = set(traci.edge.getLastStepVehicleIDs(curb.edge))\n",
    "\n",
    "    # enter False to disconnect before SUMO finishes\n",
    "    traci.close()\n",
    "\n",
    "    # flush out intermmediate results\n",
    "    sys.stdout.flush()\n",
    "    \n",
    "    \n",
    "    # backup\n",
    "    ## junction listen\n",
    "    ### traci.junction.subscribeContext('01-24', tc.CMD_GET_VEHICLE_VARIABLE, 100, \n",
    "                                ## [tc.VAR_TYPE, tc.VAR_ROUTE_ID, tc.VAR_LENGTH, \n",
    "                                ## tc.VAR_POSITION, tc.VAR_ROAD_ID, tc.VAR_LANEPOSITION])\n",
    "    \n",
    "    # retrive junction listen\n",
    "    ### if traci.junction.getContextSubscriptionResults('gneJ5'):\n",
    "        ### print(traci.junction.getContextSubscriptionResults('gneJ5'))"
   ]
  },
  {
   "cell_type": "code",
   "execution_count": 5,
   "metadata": {},
   "outputs": [
    {
     "name": "stdout",
     "output_type": "stream",
     "text": [
      " Retrying in 1 seconds\n",
      "161.5682282447815\n"
     ]
    }
   ],
   "source": [
    "traci.start([\"sumo-gui\", \"-c\", \"seattle.sumocfg\", \"--time-to-teleport\", \"-1\"])\n",
    "main()"
   ]
  },
  {
   "cell_type": "code",
   "execution_count": null,
   "metadata": {},
   "outputs": [],
   "source": [
    "traci.close()\n",
    "\n",
    "# flush out intermmediate results\n",
    "sys.stdout.flush()"
   ]
  },
  {
   "cell_type": "code",
   "execution_count": null,
   "metadata": {},
   "outputs": [],
   "source": []
  }
 ],
 "metadata": {
  "kernelspec": {
   "display_name": "Python 3",
   "language": "python",
   "name": "python3"
  },
  "language_info": {
   "codemirror_mode": {
    "name": "ipython",
    "version": 3
   },
   "file_extension": ".py",
   "mimetype": "text/x-python",
   "name": "python",
   "nbconvert_exporter": "python",
   "pygments_lexer": "ipython3",
   "version": "3.8.2"
  },
  "varInspector": {
   "cols": {
    "lenName": 16,
    "lenType": 16,
    "lenVar": 40
   },
   "kernels_config": {
    "python": {
     "delete_cmd_postfix": "",
     "delete_cmd_prefix": "del ",
     "library": "var_list.py",
     "varRefreshCmd": "print(var_dic_list())"
    },
    "r": {
     "delete_cmd_postfix": ") ",
     "delete_cmd_prefix": "rm(",
     "library": "var_list.r",
     "varRefreshCmd": "cat(var_dic_list()) "
    }
   },
   "types_to_exclude": [
    "module",
    "function",
    "builtin_function_or_method",
    "instance",
    "_Feature"
   ],
   "window_display": false
  }
 },
 "nbformat": 4,
 "nbformat_minor": 4
}
