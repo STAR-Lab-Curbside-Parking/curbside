{
 "cells": [
  {
   "cell_type": "code",
   "execution_count": 16,
   "metadata": {},
   "outputs": [],
   "source": [
    "import os, sys\n",
    "import argparse\n",
    "import time\n",
    "\n",
    "import xml.etree.ElementTree as ET\n",
    "\n",
    "from sumolib import checkBinary\n",
    "\n",
    "import traci\n",
    "import traci.constants as tc"
   ]
  },
  {
   "cell_type": "code",
   "execution_count": 17,
   "metadata": {},
   "outputs": [],
   "source": [
    "from routeGenerate import GenerateRoutes "
   ]
  },
  {
   "cell_type": "code",
   "execution_count": 18,
   "metadata": {},
   "outputs": [],
   "source": [
    "import curbside"
   ]
  },
  {
   "cell_type": "code",
   "execution_count": 19,
   "metadata": {},
   "outputs": [],
   "source": [
    "net_xml = \"seattle.net.xml\"\n",
    "add_xml = \"seattle.add.xml\"\n",
    "rou_xml = \"seattle.trips.xml\""
   ]
  },
  {
   "cell_type": "code",
   "execution_count": 20,
   "metadata": {},
   "outputs": [],
   "source": [
    "def simulate(seconds = 3600, gui = False):\n",
    "    \"\"\"\n",
    "    Main function that controls the simulation\n",
    "    \"\"\"\n",
    "\n",
    "    road_network = curbside.create_graph('seattle.net.xml')\n",
    "    \n",
    "    # create agent curbs\n",
    "    curb_ids = []\n",
    "    root = ET.parse(add_xml).getroot()\n",
    "    for child in root.iter('additional'):\n",
    "        for kid in child.iter('parkingArea'):\n",
    "            curb_ids.append(kid.get('id'))\n",
    "    \n",
    "    curbs = []\n",
    "    for curb_id in curb_ids:\n",
    "        curbs.append(curbside.SmartCurbside(1, 'seattle.add.xml', 'seattle.net.xml', curb_id, 'passenger', road_network))\n",
    "    \n",
    "    start = time.time()\n",
    "    \n",
    "    reroute_num = 0\n",
    "\n",
    "    if gui:\n",
    "        sumoBinary = checkBinary('sumo-gui')\n",
    "    else:\n",
    "        sumoBinary = checkBinary('sumo')\n",
    "\n",
    "    traci.start([sumoBinary, \"-c\", \"seattle.sumocfg\"])\n",
    "    \n",
    "    # simulation\n",
    "    while traci.simulation.getMinExpectedNumber() > 0:\n",
    "        traci.simulationStep()\n",
    "        if traci.simulation.getTime() == seconds:\n",
    "            running_time = time.time() - start\n",
    "#             print(running_time)\n",
    "            break\n",
    "        \n",
    "        for curb in curbs:\n",
    "            # check if there is any vehicle enters\n",
    "            v_enter = set(traci.edge.getLastStepVehicleIDs(curb.edge)) - curb.moving_vehicle\n",
    "            # v_enter -= v_leave\n",
    "            \n",
    "            for veh in v_enter:\n",
    "                # new vehicle is for sure not confirmed\n",
    "                if traci.vehicle.getNextStops(veh) and curb.id in [item[2] for item in traci.vehicle.getNextStops(veh)] and not traci.vehicle.isStopped(veh):\n",
    "                    # if the trips is not ending and the current edge is the parking stop\n",
    "                    # v_leave excluded\n",
    "                    if traci.vehicle.getVehicleClass(veh) == curb.vclass and len(curb.occupied_vehicle) < curb.capacity:\n",
    "                        # if can park\n",
    "                        curb.occupied_vehicle.add(veh)\n",
    "                    \n",
    "                    else:\n",
    "                        # cannot park at this edge, reroute\n",
    "                        # item._reroute_choice() returns (curb_id, distance) tuple\n",
    "                        traci.vehicle.rerouteParkingArea(veh, curb._reroute_choice()[0])\n",
    "                        reroute_num += 1\n",
    "                        \n",
    "            v_leave = curb.parked_vehicle - set(traci.parkingarea.getVehicleIDs(curb.id))\n",
    "            curb.occupied_vehicle -= v_leave\n",
    "            curb.parked_vehicle = set(traci.parkingarea.getVehicleIDs(curb.id))\n",
    "            curb.moving_vehicle = set(traci.edge.getLastStepVehicleIDs(curb.edge))\n",
    "            curb._update_nearby_curb()\n",
    "\n",
    "    # enter False to disconnect before SUMO finishes\n",
    "    traci.close()\n",
    "\n",
    "    # flush out intermmediate results\n",
    "    sys.stdout.flush()\n",
    "    \n",
    "    return reroute_num, running_time\n"
   ]
  },
  {
   "cell_type": "code",
   "execution_count": 9,
   "metadata": {},
   "outputs": [],
   "source": [
    "demand_factors = [1.0, 1.5, 2.0, 2.5, 3]\n",
    "# demand_factors = [3]"
   ]
  },
  {
   "cell_type": "code",
   "execution_count": 10,
   "metadata": {},
   "outputs": [
    {
     "name": "stdout",
     "output_type": "stream",
     "text": [
      "seattle.trips.xml re-generated. (demand factor = 3.0 )\n"
     ]
    }
   ],
   "source": [
    "GenerateRoutes(demand_factor = 3.0, simulate_hour = 12)"
   ]
  },
  {
   "cell_type": "code",
   "execution_count": 14,
   "metadata": {},
   "outputs": [
    {
     "name": "stdout",
     "output_type": "stream",
     "text": [
      "seattle.trips.xml re-generated. (demand factor = 1.0 )\n",
      "demand factor: 1.0, # of reroute: 3, running time: 40.5\n",
      "seattle.trips.xml re-generated. (demand factor = 1.5 )\n",
      "demand factor: 1.5, # of reroute: 9, running time: 38.2\n",
      "seattle.trips.xml re-generated. (demand factor = 2.0 )\n",
      "demand factor: 2.0, # of reroute: 10, running time: 40.1\n",
      "seattle.trips.xml re-generated. (demand factor = 2.5 )\n",
      "demand factor: 2.5, # of reroute: 12, running time: 41.3\n",
      "seattle.trips.xml re-generated. (demand factor = 3 )\n",
      "demand factor: 3, # of reroute: 20, running time: 41.1\n"
     ]
    }
   ],
   "source": [
    "reroute_nums = []\n",
    "for demand_factor in demand_factors:\n",
    "    GenerateRoutes(demand_factor, simulate_hour = 12)\n",
    "    reroute_num, running_time = simulate(seconds = 1000, gui = False)\n",
    "    print('demand factor: {}, # of reroute: {}, running time: {}'.format(demand_factor, reroute_num, round(running_time,1)))\n",
    "    reroute_nums.append(reroute_num)\n",
    "    "
   ]
  },
  {
   "cell_type": "code",
   "execution_count": 13,
   "metadata": {},
   "outputs": [],
   "source": [
    "traci.close()"
   ]
  },
  {
   "cell_type": "code",
   "execution_count": null,
   "metadata": {},
   "outputs": [],
   "source": []
  },
  {
   "cell_type": "code",
   "execution_count": null,
   "metadata": {},
   "outputs": [],
   "source": []
  }
 ],
 "metadata": {
  "kernelspec": {
   "display_name": "Python 3",
   "language": "python",
   "name": "python3"
  },
  "language_info": {
   "codemirror_mode": {
    "name": "ipython",
    "version": 3
   },
   "file_extension": ".py",
   "mimetype": "text/x-python",
   "name": "python",
   "nbconvert_exporter": "python",
   "pygments_lexer": "ipython3",
   "version": "3.7.4"
  }
 },
 "nbformat": 4,
 "nbformat_minor": 4
}
