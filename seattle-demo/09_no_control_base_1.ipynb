{
 "cells": [
  {
   "cell_type": "code",
   "execution_count": 1,
   "metadata": {},
   "outputs": [],
   "source": [
    "import os, sys\n",
    "import argparse\n",
    "import time\n",
    "\n",
    "import matplotlib.pyplot as plt\n",
    "import xml.etree.ElementTree as ET\n",
    "\n",
    "if sys.platform == \"win32\":\n",
    "    # windows, win32\n",
    "    from sumolib import checkBinary\n",
    "else:\n",
    "    # mac, darwin\n",
    "    if 'SUMO_HOME' in os.environ:\n",
    "        tools = os.path.join(os.environ['SUMO_HOME'], 'tools')\n",
    "        sys.path.append(tools)\n",
    "    else:\n",
    "        sys.exit(\"please declare environment variable 'SUMO_HOME'\")\n",
    "    \n",
    "import traci"
   ]
  },
  {
   "cell_type": "code",
   "execution_count": 2,
   "metadata": {},
   "outputs": [],
   "source": [
    "import curbside\n",
    "import utils"
   ]
  },
  {
   "cell_type": "code",
   "execution_count": 3,
   "metadata": {},
   "outputs": [],
   "source": [
    "net_xml = \"seattle.net.xml\"\n",
    "add_xml = \"seattle.add.xml\"\n",
    "rou_xml = \"seattle.trips.xml\""
   ]
  },
  {
   "cell_type": "code",
   "execution_count": 7,
   "metadata": {},
   "outputs": [],
   "source": [
    "def simulate(seconds = 10, gui = False):\n",
    "    \"\"\"\n",
    "    Main function that controls the simulation\n",
    "    \"\"\"\n",
    "\n",
    "    road_network = utils.create_graph('seattle.net.xml')\n",
    "    \n",
    "    # create agent curbs\n",
    "    curb_ids = []\n",
    "    root = ET.parse(add_xml).getroot()\n",
    "    for child in root.iter('additional'):\n",
    "        for kid in child.iter('parkingArea'):\n",
    "            curb_ids.append(kid.get('id'))\n",
    "    \n",
    "    curbs = {}\n",
    "    for curb_id in curb_ids:\n",
    "        curbs[curb_id] = curbside.SmartCurbside(1, 'seattle.add.xml', 'seattle.net.xml', curb_id, ['passenger', 'delivery'], road_network)\n",
    "        \n",
    "    for curb in curbs.values():\n",
    "        curb.find_neighborhood(road_network, curbs)\n",
    "        curb.dlv_cap = curb.tot_cap\n",
    "    \n",
    "    reroute_cost = {}\n",
    "    for curb_id in curb_ids:\n",
    "        reroute_cost[curb_id] = 0\n",
    "    \n",
    "    if sys.platform == \"win32\":\n",
    "        if gui:\n",
    "            sumoBinary = checkBinary('sumo-gui')\n",
    "        else:\n",
    "            sumoBinary = checkBinary('sumo')\n",
    "    \n",
    "    else:\n",
    "        # mac, darwin\n",
    "        if gui:\n",
    "            sumoBinary = \"sumo-gui\"\n",
    "        else:\n",
    "            sumoBinary = \"sumo\"\n",
    "    \n",
    "    traci.start([sumoBinary, \"-c\", \"seattle.sumocfg\", \"--time-to-teleport\", \"-1\"])\n",
    "    \n",
    "    start = time.time()\n",
    "    # simulation\n",
    "    while traci.simulation.getMinExpectedNumber() > 0:\n",
    "        traci.simulationStep()\n",
    "        if traci.simulation.getTime() == seconds:\n",
    "            run_time = time.time() - start\n",
    "            break\n",
    "        \n",
    "        for curb_id, curb in curbs.items():\n",
    "            \n",
    "            # colelct neighbor info from last step\n",
    "            curb._update_neigh_occupy(curbs)\n",
    "            \n",
    "            # check if there is any vehicle enters\n",
    "            v_enter = set(traci.edge.getLastStepVehicleIDs(curb.edge)) - curb.moving_vehicle\n",
    "            \n",
    "            # no need to subtract v_leave, because v_leave ideally should be maintained per curb, but now inner loop is on curbs\n",
    "            # v_enter -= v_leave\n",
    "            \n",
    "            for veh in v_enter:\n",
    "                # new vehicle is for sure not confirmed, no need to check confirmed=True\n",
    "                # if vehicle has next stops and currect edge is one of them - this vehicle should be considered for current edge\n",
    "                # also check vehicle is not stopped - during parking right before departure getNextStops() will return original travel plan, which shouldn't happen\n",
    "                \n",
    "                if traci.vehicle.getNextStops(veh) and curb.id in [item[2] for item in traci.vehicle.getNextStops(veh)] and not traci.vehicle.isStopped(veh):\n",
    "                    # if the trips is not ending and the current edge is the parking stop\n",
    "                    # v_leave should be excluded\n",
    "                    \n",
    "                    # vclass: passenger or delivery\n",
    "                    vclass = traci.vehicle.getVehicleClass(veh)\n",
    "                    if vclass == 'delivery':\n",
    "                        occ = curb.dlv_occ\n",
    "                        cap = curb.dlv_cap\n",
    "                    else:\n",
    "                        occ = curb.psg_occ\n",
    "                        cap = curb.psg_cap\n",
    "                        \n",
    "                    if occ < cap:\n",
    "                        # if can park, add to occupied set : planned + parked\n",
    "                        curb.occupied_vehicle.add(veh)\n",
    "                        \n",
    "                    else:\n",
    "                        # cannot park at this edge, reroute\n",
    "                        # item._reroute_choice() returns (curb_id, distance) tuple\n",
    "                        reroute_msg = curb._reroute_choice(veh, curbs)\n",
    "                        traci.vehicle.rerouteParkingArea(veh, reroute_msg[0])\n",
    "                        reroute_cost[curb_id] += reroute_msg[1]\n",
    "                        \n",
    "            # v_leave : parked vehicle of last time step - parked vehicle at this time step\n",
    "            v_leave = curb.parked_vehicle - set(traci.parkingarea.getVehicleIDs(curb.id))\n",
    "            \n",
    "            # remove v_leave from occupied set : planned + parked\n",
    "            curb.occupied_vehicle -= v_leave\n",
    "            \n",
    "            # update parked vehicle set\n",
    "            curb.parked_vehicle = set(traci.parkingarea.getVehicleIDs(curb.id))\n",
    "            \n",
    "            # update moving vehicles on the hosting edge\n",
    "            curb.moving_vehicle = set(traci.edge.getLastStepVehicleIDs(curb.edge))\n",
    "            \n",
    "            # update two-type occupancy for next time step\n",
    "            curb._occupy_cnt()\n",
    "\n",
    "    # enter False to disconnect before SUMO finishes\n",
    "    traci.close()\n",
    "\n",
    "    # flush out intermmediate results\n",
    "    sys.stdout.flush()\n",
    "    \n",
    "    return reroute_cost, run_time"
   ]
  },
  {
   "cell_type": "code",
   "execution_count": 14,
   "metadata": {},
   "outputs": [
    {
     "name": "stdout",
     "output_type": "stream",
     "text": [
      "seattle.trips.xml re-generated. (demand factor = 5 )\n",
      " Retrying in 1 seconds\n"
     ]
    }
   ],
   "source": [
    "utils.generate_route(psg_park_dm_x=5, dlv_park_dm_x=2, flow_num=200, simulate_hour=12, seed=2)\n",
    "cost, run_time = simulate(seconds = 3600, gui = False)"
   ]
  },
  {
   "cell_type": "code",
   "execution_count": 15,
   "metadata": {},
   "outputs": [
    {
     "data": {
      "text/plain": [
       "126.10756421089172"
      ]
     },
     "execution_count": 15,
     "metadata": {},
     "output_type": "execute_result"
    }
   ],
   "source": [
    "run_time"
   ]
  },
  {
   "cell_type": "code",
   "execution_count": 16,
   "metadata": {},
   "outputs": [
    {
     "data": {
      "text/plain": [
       "{'01-24-NE': 153.66,\n",
       " '01-24-SW': 384.15,\n",
       " '01-25-NE': 0,\n",
       " '01-25-SW': 81.69,\n",
       " '01-26-SW': 157.48,\n",
       " '02-24-NE': 232.17000000000002,\n",
       " '02-24-SW': 232.17000000000002,\n",
       " '02-25-NE': 0,\n",
       " '02-25-SW': 82.95,\n",
       " '02-26-NE': 313.92,\n",
       " '02-26-SW': 0,\n",
       " '03-24-NE': 153.54,\n",
       " '03-24-SW': 0,\n",
       " '03-25-NE': 0,\n",
       " '03-25-SW': 0,\n",
       " '03-26-SW': 321.72,\n",
       " '04-24-NE': 0,\n",
       " '04-24-SW': 0,\n",
       " '04-25-NE': 0,\n",
       " '04-25-SW': 0,\n",
       " '04-26-NE': 0,\n",
       " '04-26-SW': 0,\n",
       " '24-01-NW': 0,\n",
       " '24-01-SE': 0,\n",
       " '24-02-NW': 156.59,\n",
       " '24-02-SE': 0,\n",
       " '24-03-NW': 0,\n",
       " '25-01-NW': 0,\n",
       " '25-01-SE': 0,\n",
       " '25-02-NW': 0,\n",
       " '25-02-SE': 79.49,\n",
       " '25-03-NW': 0,\n",
       " '26-01-NW': 238.62,\n",
       " '26-01-SE': 0,\n",
       " '26-02-NW': 0,\n",
       " '26-02-SE': 0,\n",
       " '26-03-NW': 0,\n",
       " '26-03-SE': 0,\n",
       " '27-01-NW': 236.04000000000002,\n",
       " '27-01-SE': 0,\n",
       " '27-02-NW': 78.78,\n",
       " '27-02-SE': 78.78,\n",
       " '27-03-NW': 77.97,\n",
       " '27-03-SE': 311.88}"
      ]
     },
     "execution_count": 16,
     "metadata": {},
     "output_type": "execute_result"
    }
   ],
   "source": [
    "cost"
   ]
  },
  {
   "cell_type": "code",
   "execution_count": null,
   "metadata": {},
   "outputs": [],
   "source": []
  }
 ],
 "metadata": {
  "kernelspec": {
   "display_name": "Python 3",
   "language": "python",
   "name": "python3"
  },
  "language_info": {
   "codemirror_mode": {
    "name": "ipython",
    "version": 3
   },
   "file_extension": ".py",
   "mimetype": "text/x-python",
   "name": "python",
   "nbconvert_exporter": "python",
   "pygments_lexer": "ipython3",
   "version": "3.8.2"
  }
 },
 "nbformat": 4,
 "nbformat_minor": 4
}
