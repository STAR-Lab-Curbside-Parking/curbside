{
 "cells": [
  {
   "cell_type": "code",
   "execution_count": 1,
   "metadata": {
    "ExecuteTime": {
     "end_time": "2020-11-10T02:43:17.000352Z",
     "start_time": "2020-11-10T02:43:16.457212Z"
    }
   },
   "outputs": [],
   "source": [
    "import pandas as pd\n",
    "import geopandas as gpd"
   ]
  },
  {
   "cell_type": "code",
   "execution_count": 2,
   "metadata": {
    "ExecuteTime": {
     "end_time": "2020-11-10T02:43:17.251207Z",
     "start_time": "2020-11-10T02:43:17.003634Z"
    }
   },
   "outputs": [],
   "source": [
    "park = gpd.read_file('./geo_files/3_3_parking_space.geojson')"
   ]
  },
  {
   "cell_type": "code",
   "execution_count": 3,
   "metadata": {
    "ExecuteTime": {
     "end_time": "2020-11-10T02:43:17.269669Z",
     "start_time": "2020-11-10T02:43:17.254595Z"
    }
   },
   "outputs": [
    {
     "data": {
      "text/plain": [
       "Index(['OBJECTID', 'BLOCKID', 'ROWNBR', 'BLOCK_ST', 'BLOCK_END', 'WIDTH_OFFS',\n",
       "       'GEOBASYS', 'SPACELENGT', 'SPACETYPE', 'SPACETYPED', 'TIME_LIMIT',\n",
       "       'SPACE_NB', 'CATEGORY', 'SIDE', 'CURRENT_ST', 'ELMNTKEY', 'SHAPE_Leng',\n",
       "       'geometry'],\n",
       "      dtype='object')"
      ]
     },
     "execution_count": 3,
     "metadata": {},
     "output_type": "execute_result"
    }
   ],
   "source": [
    "park.columns"
   ]
  },
  {
   "cell_type": "code",
   "execution_count": 4,
   "metadata": {
    "ExecuteTime": {
     "end_time": "2020-11-10T02:43:17.286042Z",
     "start_time": "2020-11-10T02:43:17.275219Z"
    }
   },
   "outputs": [
    {
     "data": {
      "text/plain": [
       "array(['ALLEY', 'PS', 'CLR', 'PLZ', 'PS-CAR', 'CRBBLB', 'NP', 'CVLZ',\n",
       "       'BA', 'XWAREA', 'XW', 'HYD', 'CR', 'TAZ', 'PS-PLZ', 'BUS',\n",
       "       'PS-TAX', 'BIKE', 'PS-LAY', 'PS-MC', 'DW', 'CVLZ-B', 'CVLZ-P',\n",
       "       'PS-SBO', 'PARKLET', 'L/UL', 'BUSLAY', 'PS-TR'], dtype=object)"
      ]
     },
     "execution_count": 4,
     "metadata": {},
     "output_type": "execute_result"
    }
   ],
   "source": [
    "park.SPACETYPE.unique()"
   ]
  },
  {
   "cell_type": "code",
   "execution_count": 5,
   "metadata": {
    "ExecuteTime": {
     "end_time": "2020-11-10T02:43:17.314506Z",
     "start_time": "2020-11-10T02:43:17.304158Z"
    }
   },
   "outputs": [
    {
     "data": {
      "text/plain": [
       "array(['ALLEY', 'PAY STATION', 'CLEARANCE', 'PASSENGER LOAD ZONE',\n",
       "       'PAY STATION - CARPOOL', 'CURB BULB', 'NO PARKING',\n",
       "       'COMMERCIAL VEHICLE LOAD ZONE', 'BARRIER AREA',\n",
       "       'NOT A DESIGNATED CROSSWALK', 'CROSSWALK', 'HYDRANT', 'CURB RAMP',\n",
       "       'TOW AWAY ZONE', 'PAY STATION - PLZ', 'BUS ZONE',\n",
       "       'PAY STATION - TAXI', 'BIKE ZONE', 'PAY STATION - BUS LAYOVER',\n",
       "       'PAY STATION - MOTORCYCLE', 'DRIVEWAY', 'CVLZ - BUS ZONE',\n",
       "       'CVLZ - PLZ', 'PAY STATION - SHUTTLE BUS ONLY', 'PARKLET',\n",
       "       'LOAD/UNLOAD ZONE', 'BUS LAYOVER ZONE',\n",
       "       'PAY STATION - TEMP REMOVAL'], dtype=object)"
      ]
     },
     "execution_count": 5,
     "metadata": {},
     "output_type": "execute_result"
    }
   ],
   "source": [
    "park.SPACETYPED.unique()"
   ]
  },
  {
   "cell_type": "code",
   "execution_count": 6,
   "metadata": {
    "ExecuteTime": {
     "end_time": "2020-11-10T02:43:17.337573Z",
     "start_time": "2020-11-10T02:43:17.319362Z"
    }
   },
   "outputs": [],
   "source": [
    "# select parking space types\n",
    "# original: PLZ, L/UL, CVLZ, PS and PS-X\n",
    "park = park[park['SPACETYPE'].isin(['PLZ', 'L/UL',\n",
    "                                  'CVLZ', 'CVLZ-B', 'CVLZ-P',\n",
    "                                  'PS', 'PS-CAR', 'PS_PLZ', 'PS-TAX', 'PS-LAY', 'PS-SBO'])]"
   ]
  },
  {
   "cell_type": "code",
   "execution_count": 7,
   "metadata": {
    "ExecuteTime": {
     "end_time": "2020-11-10T02:43:17.351632Z",
     "start_time": "2020-11-10T02:43:17.341587Z"
    }
   },
   "outputs": [],
   "source": [
    "# filter out links that are not in the 3*3 blocks\n",
    "park = park[park['BLOCKID'].apply(lambda x: x.endswith(tuple(['24','25','26','01','02','03'])))]"
   ]
  },
  {
   "cell_type": "code",
   "execution_count": 8,
   "metadata": {
    "ExecuteTime": {
     "end_time": "2020-11-10T02:43:17.596756Z",
     "start_time": "2020-11-10T02:43:17.539639Z"
    }
   },
   "outputs": [],
   "source": [
    "park.replace(to_replace=r'^PS-\\w+', value='PS', regex=True, inplace=True)"
   ]
  },
  {
   "cell_type": "code",
   "execution_count": 9,
   "metadata": {
    "ExecuteTime": {
     "end_time": "2020-11-10T02:43:17.707992Z",
     "start_time": "2020-11-10T02:43:17.685700Z"
    }
   },
   "outputs": [],
   "source": [
    "# count and length of parking\n",
    "pc = park.groupby(['BLOCKID', 'SIDE', 'SPACETYPE']).agg({'SPACELENGT': 'sum', 'OBJECTID': 'count'}).reset_index()\n",
    "# pc.rename(columns={'SPACELENGT': 'length', 0:'cnt'}, inplace=True)"
   ]
  },
  {
   "cell_type": "code",
   "execution_count": 10,
   "metadata": {
    "ExecuteTime": {
     "end_time": "2020-11-10T02:43:17.854922Z",
     "start_time": "2020-11-10T02:43:17.822174Z"
    }
   },
   "outputs": [
    {
     "data": {
      "text/html": [
       "<div>\n",
       "<style scoped>\n",
       "    .dataframe tbody tr th:only-of-type {\n",
       "        vertical-align: middle;\n",
       "    }\n",
       "\n",
       "    .dataframe tbody tr th {\n",
       "        vertical-align: top;\n",
       "    }\n",
       "\n",
       "    .dataframe thead th {\n",
       "        text-align: right;\n",
       "    }\n",
       "</style>\n",
       "<table border=\"1\" class=\"dataframe\">\n",
       "  <thead>\n",
       "    <tr style=\"text-align: right;\">\n",
       "      <th></th>\n",
       "      <th>BLOCKID</th>\n",
       "      <th>SIDE</th>\n",
       "      <th>SPACETYPE</th>\n",
       "      <th>SPACELENGT</th>\n",
       "      <th>OBJECTID</th>\n",
       "    </tr>\n",
       "  </thead>\n",
       "  <tbody>\n",
       "    <tr>\n",
       "      <th>0</th>\n",
       "      <td>01-24</td>\n",
       "      <td>NE</td>\n",
       "      <td>CVLZ</td>\n",
       "      <td>23</td>\n",
       "      <td>1</td>\n",
       "    </tr>\n",
       "    <tr>\n",
       "      <th>1</th>\n",
       "      <td>01-24</td>\n",
       "      <td>NE</td>\n",
       "      <td>PLZ</td>\n",
       "      <td>22</td>\n",
       "      <td>1</td>\n",
       "    </tr>\n",
       "    <tr>\n",
       "      <th>2</th>\n",
       "      <td>01-24</td>\n",
       "      <td>NE</td>\n",
       "      <td>PS</td>\n",
       "      <td>143</td>\n",
       "      <td>8</td>\n",
       "    </tr>\n",
       "    <tr>\n",
       "      <th>3</th>\n",
       "      <td>01-24</td>\n",
       "      <td>SW</td>\n",
       "      <td>PLZ</td>\n",
       "      <td>38</td>\n",
       "      <td>2</td>\n",
       "    </tr>\n",
       "    <tr>\n",
       "      <th>4</th>\n",
       "      <td>01-24</td>\n",
       "      <td>SW</td>\n",
       "      <td>PS</td>\n",
       "      <td>58</td>\n",
       "      <td>3</td>\n",
       "    </tr>\n",
       "    <tr>\n",
       "      <th>...</th>\n",
       "      <td>...</td>\n",
       "      <td>...</td>\n",
       "      <td>...</td>\n",
       "      <td>...</td>\n",
       "      <td>...</td>\n",
       "    </tr>\n",
       "    <tr>\n",
       "      <th>75</th>\n",
       "      <td>27-02</td>\n",
       "      <td>SE</td>\n",
       "      <td>PS</td>\n",
       "      <td>88</td>\n",
       "      <td>5</td>\n",
       "    </tr>\n",
       "    <tr>\n",
       "      <th>76</th>\n",
       "      <td>27-03</td>\n",
       "      <td>NW</td>\n",
       "      <td>CVLZ</td>\n",
       "      <td>18</td>\n",
       "      <td>1</td>\n",
       "    </tr>\n",
       "    <tr>\n",
       "      <th>77</th>\n",
       "      <td>27-03</td>\n",
       "      <td>NW</td>\n",
       "      <td>PLZ</td>\n",
       "      <td>18</td>\n",
       "      <td>1</td>\n",
       "    </tr>\n",
       "    <tr>\n",
       "      <th>78</th>\n",
       "      <td>27-03</td>\n",
       "      <td>NW</td>\n",
       "      <td>PS</td>\n",
       "      <td>119</td>\n",
       "      <td>7</td>\n",
       "    </tr>\n",
       "    <tr>\n",
       "      <th>79</th>\n",
       "      <td>27-03</td>\n",
       "      <td>SE</td>\n",
       "      <td>PS</td>\n",
       "      <td>142</td>\n",
       "      <td>8</td>\n",
       "    </tr>\n",
       "  </tbody>\n",
       "</table>\n",
       "<p>80 rows × 5 columns</p>\n",
       "</div>"
      ],
      "text/plain": [
       "   BLOCKID SIDE SPACETYPE  SPACELENGT  OBJECTID\n",
       "0    01-24   NE      CVLZ          23         1\n",
       "1    01-24   NE       PLZ          22         1\n",
       "2    01-24   NE        PS         143         8\n",
       "3    01-24   SW       PLZ          38         2\n",
       "4    01-24   SW        PS          58         3\n",
       "..     ...  ...       ...         ...       ...\n",
       "75   27-02   SE        PS          88         5\n",
       "76   27-03   NW      CVLZ          18         1\n",
       "77   27-03   NW       PLZ          18         1\n",
       "78   27-03   NW        PS         119         7\n",
       "79   27-03   SE        PS         142         8\n",
       "\n",
       "[80 rows x 5 columns]"
      ]
     },
     "execution_count": 10,
     "metadata": {},
     "output_type": "execute_result"
    }
   ],
   "source": [
    "pc"
   ]
  },
  {
   "cell_type": "code",
   "execution_count": 11,
   "metadata": {
    "ExecuteTime": {
     "end_time": "2020-11-10T02:43:17.996604Z",
     "start_time": "2020-11-10T02:43:17.990262Z"
    }
   },
   "outputs": [],
   "source": [
    "pc.columns = ['block_id', 'side', 'type', 'length', 'cnt']"
   ]
  },
  {
   "cell_type": "code",
   "execution_count": 12,
   "metadata": {
    "ExecuteTime": {
     "end_time": "2020-11-10T02:43:18.184763Z",
     "start_time": "2020-11-10T02:43:18.170377Z"
    }
   },
   "outputs": [
    {
     "data": {
      "text/html": [
       "<div>\n",
       "<style scoped>\n",
       "    .dataframe tbody tr th:only-of-type {\n",
       "        vertical-align: middle;\n",
       "    }\n",
       "\n",
       "    .dataframe tbody tr th {\n",
       "        vertical-align: top;\n",
       "    }\n",
       "\n",
       "    .dataframe thead th {\n",
       "        text-align: right;\n",
       "    }\n",
       "</style>\n",
       "<table border=\"1\" class=\"dataframe\">\n",
       "  <thead>\n",
       "    <tr style=\"text-align: right;\">\n",
       "      <th></th>\n",
       "      <th>block_id</th>\n",
       "      <th>side</th>\n",
       "      <th>type</th>\n",
       "      <th>length</th>\n",
       "      <th>cnt</th>\n",
       "    </tr>\n",
       "  </thead>\n",
       "  <tbody>\n",
       "    <tr>\n",
       "      <th>0</th>\n",
       "      <td>01-24</td>\n",
       "      <td>NE</td>\n",
       "      <td>CVLZ</td>\n",
       "      <td>23</td>\n",
       "      <td>1</td>\n",
       "    </tr>\n",
       "    <tr>\n",
       "      <th>1</th>\n",
       "      <td>01-24</td>\n",
       "      <td>NE</td>\n",
       "      <td>PLZ</td>\n",
       "      <td>22</td>\n",
       "      <td>1</td>\n",
       "    </tr>\n",
       "    <tr>\n",
       "      <th>2</th>\n",
       "      <td>01-24</td>\n",
       "      <td>NE</td>\n",
       "      <td>PS</td>\n",
       "      <td>143</td>\n",
       "      <td>8</td>\n",
       "    </tr>\n",
       "    <tr>\n",
       "      <th>3</th>\n",
       "      <td>01-24</td>\n",
       "      <td>SW</td>\n",
       "      <td>PLZ</td>\n",
       "      <td>38</td>\n",
       "      <td>2</td>\n",
       "    </tr>\n",
       "    <tr>\n",
       "      <th>4</th>\n",
       "      <td>01-24</td>\n",
       "      <td>SW</td>\n",
       "      <td>PS</td>\n",
       "      <td>58</td>\n",
       "      <td>3</td>\n",
       "    </tr>\n",
       "  </tbody>\n",
       "</table>\n",
       "</div>"
      ],
      "text/plain": [
       "  block_id side  type  length  cnt\n",
       "0    01-24   NE  CVLZ      23    1\n",
       "1    01-24   NE   PLZ      22    1\n",
       "2    01-24   NE    PS     143    8\n",
       "3    01-24   SW   PLZ      38    2\n",
       "4    01-24   SW    PS      58    3"
      ]
     },
     "execution_count": 12,
     "metadata": {},
     "output_type": "execute_result"
    }
   ],
   "source": [
    "pc.head()"
   ]
  },
  {
   "cell_type": "code",
   "execution_count": 13,
   "metadata": {
    "ExecuteTime": {
     "end_time": "2020-11-10T02:43:18.370891Z",
     "start_time": "2020-11-10T02:43:18.355103Z"
    }
   },
   "outputs": [],
   "source": [
    "pc.to_csv('parking_space_count.csv')"
   ]
  },
  {
   "cell_type": "code",
   "execution_count": 14,
   "metadata": {
    "ExecuteTime": {
     "end_time": "2020-11-10T02:43:18.957333Z",
     "start_time": "2020-11-10T02:43:18.947513Z"
    }
   },
   "outputs": [
    {
     "data": {
      "text/plain": [
       "array(['CVLZ', 'PLZ', 'PS', 'CVLZ-P', 'CVLZ-B', 'L/UL'], dtype=object)"
      ]
     },
     "execution_count": 14,
     "metadata": {},
     "output_type": "execute_result"
    }
   ],
   "source": [
    "pc.type.unique()"
   ]
  },
  {
   "cell_type": "code",
   "execution_count": 16,
   "metadata": {
    "ExecuteTime": {
     "end_time": "2020-11-10T03:33:53.818507Z",
     "start_time": "2020-11-10T03:33:53.766652Z"
    }
   },
   "outputs": [
    {
     "data": {
      "text/html": [
       "<div>\n",
       "<style scoped>\n",
       "    .dataframe tbody tr th:only-of-type {\n",
       "        vertical-align: middle;\n",
       "    }\n",
       "\n",
       "    .dataframe tbody tr th {\n",
       "        vertical-align: top;\n",
       "    }\n",
       "\n",
       "    .dataframe thead th {\n",
       "        text-align: right;\n",
       "    }\n",
       "</style>\n",
       "<table border=\"1\" class=\"dataframe\">\n",
       "  <thead>\n",
       "    <tr style=\"text-align: right;\">\n",
       "      <th></th>\n",
       "      <th>OBJECTID</th>\n",
       "      <th>BLOCKID</th>\n",
       "      <th>ROWNBR</th>\n",
       "      <th>BLOCK_ST</th>\n",
       "      <th>BLOCK_END</th>\n",
       "      <th>WIDTH_OFFS</th>\n",
       "      <th>GEOBASYS</th>\n",
       "      <th>SPACELENGT</th>\n",
       "      <th>SPACETYPE</th>\n",
       "      <th>SPACETYPED</th>\n",
       "      <th>TIME_LIMIT</th>\n",
       "      <th>SPACE_NB</th>\n",
       "      <th>CATEGORY</th>\n",
       "      <th>SIDE</th>\n",
       "      <th>CURRENT_ST</th>\n",
       "      <th>ELMNTKEY</th>\n",
       "      <th>SHAPE_Leng</th>\n",
       "      <th>geometry</th>\n",
       "    </tr>\n",
       "  </thead>\n",
       "  <tbody>\n",
       "    <tr>\n",
       "      <th>21</th>\n",
       "      <td>590</td>\n",
       "      <td>01-24</td>\n",
       "      <td>None</td>\n",
       "      <td>260.0</td>\n",
       "      <td>277.0</td>\n",
       "      <td>-27</td>\n",
       "      <td>None</td>\n",
       "      <td>17</td>\n",
       "      <td>PS</td>\n",
       "      <td>PAY STATION</td>\n",
       "      <td>240</td>\n",
       "      <td>-20</td>\n",
       "      <td>PAID</td>\n",
       "      <td>NE</td>\n",
       "      <td>INSVC</td>\n",
       "      <td>1026</td>\n",
       "      <td>16.982663</td>\n",
       "      <td>MULTILINESTRING ((-122.34853 47.61467, -122.34...</td>\n",
       "    </tr>\n",
       "    <tr>\n",
       "      <th>34</th>\n",
       "      <td>868</td>\n",
       "      <td>01-24</td>\n",
       "      <td>None</td>\n",
       "      <td>101.5</td>\n",
       "      <td>121.5</td>\n",
       "      <td>30</td>\n",
       "      <td>None</td>\n",
       "      <td>20</td>\n",
       "      <td>PS</td>\n",
       "      <td>PAY STATION</td>\n",
       "      <td>240</td>\n",
       "      <td>-07</td>\n",
       "      <td>PAID</td>\n",
       "      <td>SW</td>\n",
       "      <td>INSVC</td>\n",
       "      <td>1025</td>\n",
       "      <td>19.979641</td>\n",
       "      <td>MULTILINESTRING ((-122.34820 47.61427, -122.34...</td>\n",
       "    </tr>\n",
       "    <tr>\n",
       "      <th>61</th>\n",
       "      <td>1638</td>\n",
       "      <td>01-24</td>\n",
       "      <td>None</td>\n",
       "      <td>52.5</td>\n",
       "      <td>70.5</td>\n",
       "      <td>-27</td>\n",
       "      <td>None</td>\n",
       "      <td>18</td>\n",
       "      <td>PS</td>\n",
       "      <td>PAY STATION</td>\n",
       "      <td>240</td>\n",
       "      <td>-02</td>\n",
       "      <td>PAID</td>\n",
       "      <td>NE</td>\n",
       "      <td>INSVC</td>\n",
       "      <td>1026</td>\n",
       "      <td>17.981685</td>\n",
       "      <td>MULTILINESTRING ((-122.34790 47.61429, -122.34...</td>\n",
       "    </tr>\n",
       "    <tr>\n",
       "      <th>72</th>\n",
       "      <td>1870</td>\n",
       "      <td>01-24</td>\n",
       "      <td>None</td>\n",
       "      <td>121.0</td>\n",
       "      <td>144.0</td>\n",
       "      <td>-27</td>\n",
       "      <td>None</td>\n",
       "      <td>23</td>\n",
       "      <td>CVLZ</td>\n",
       "      <td>COMMERCIAL VEHICLE LOAD ZONE</td>\n",
       "      <td>30</td>\n",
       "      <td>-08T</td>\n",
       "      <td>LOAD</td>\n",
       "      <td>NE</td>\n",
       "      <td>INSVC</td>\n",
       "      <td>1026</td>\n",
       "      <td>22.976572</td>\n",
       "      <td>MULTILINESTRING ((-122.34811 47.61442, -122.34...</td>\n",
       "    </tr>\n",
       "    <tr>\n",
       "      <th>74</th>\n",
       "      <td>1917</td>\n",
       "      <td>01-24</td>\n",
       "      <td>None</td>\n",
       "      <td>56.0</td>\n",
       "      <td>75.0</td>\n",
       "      <td>30</td>\n",
       "      <td>None</td>\n",
       "      <td>19</td>\n",
       "      <td>PLZ</td>\n",
       "      <td>PASSENGER LOAD ZONE</td>\n",
       "      <td>3</td>\n",
       "      <td>-03</td>\n",
       "      <td>ZONE</td>\n",
       "      <td>SW</td>\n",
       "      <td>INSVC</td>\n",
       "      <td>1025</td>\n",
       "      <td>18.980620</td>\n",
       "      <td>MULTILINESTRING ((-122.34806 47.61418, -122.34...</td>\n",
       "    </tr>\n",
       "    <tr>\n",
       "      <th>80</th>\n",
       "      <td>2098</td>\n",
       "      <td>01-24</td>\n",
       "      <td>None</td>\n",
       "      <td>75.0</td>\n",
       "      <td>94.0</td>\n",
       "      <td>30</td>\n",
       "      <td>None</td>\n",
       "      <td>19</td>\n",
       "      <td>PS</td>\n",
       "      <td>PAY STATION</td>\n",
       "      <td>240</td>\n",
       "      <td>-05</td>\n",
       "      <td>PAID</td>\n",
       "      <td>SW</td>\n",
       "      <td>INSVC</td>\n",
       "      <td>1025</td>\n",
       "      <td>18.980663</td>\n",
       "      <td>MULTILINESTRING ((-122.34812 47.61422, -122.34...</td>\n",
       "    </tr>\n",
       "    <tr>\n",
       "      <th>88</th>\n",
       "      <td>2264</td>\n",
       "      <td>01-24</td>\n",
       "      <td>None</td>\n",
       "      <td>78.0</td>\n",
       "      <td>96.0</td>\n",
       "      <td>-27</td>\n",
       "      <td>None</td>\n",
       "      <td>18</td>\n",
       "      <td>PS</td>\n",
       "      <td>PAY STATION</td>\n",
       "      <td>240</td>\n",
       "      <td>-04</td>\n",
       "      <td>PAID</td>\n",
       "      <td>NE</td>\n",
       "      <td>INSVC</td>\n",
       "      <td>1026</td>\n",
       "      <td>17.981689</td>\n",
       "      <td>MULTILINESTRING ((-122.34798 47.61434, -122.34...</td>\n",
       "    </tr>\n",
       "    <tr>\n",
       "      <th>95</th>\n",
       "      <td>2459</td>\n",
       "      <td>01-24</td>\n",
       "      <td>None</td>\n",
       "      <td>96.0</td>\n",
       "      <td>114.0</td>\n",
       "      <td>-27</td>\n",
       "      <td>None</td>\n",
       "      <td>18</td>\n",
       "      <td>PS</td>\n",
       "      <td>PAY STATION</td>\n",
       "      <td>240</td>\n",
       "      <td>-06</td>\n",
       "      <td>PAID</td>\n",
       "      <td>NE</td>\n",
       "      <td>INSVC</td>\n",
       "      <td>1026</td>\n",
       "      <td>17.981685</td>\n",
       "      <td>MULTILINESTRING ((-122.34803 47.61437, -122.34...</td>\n",
       "    </tr>\n",
       "    <tr>\n",
       "      <th>110</th>\n",
       "      <td>2850</td>\n",
       "      <td>01-24</td>\n",
       "      <td>None</td>\n",
       "      <td>174.0</td>\n",
       "      <td>192.0</td>\n",
       "      <td>-27</td>\n",
       "      <td>None</td>\n",
       "      <td>18</td>\n",
       "      <td>PS</td>\n",
       "      <td>PAY STATION</td>\n",
       "      <td>240</td>\n",
       "      <td>-12</td>\n",
       "      <td>PAID</td>\n",
       "      <td>NE</td>\n",
       "      <td>INSVC</td>\n",
       "      <td>1026</td>\n",
       "      <td>17.981641</td>\n",
       "      <td>MULTILINESTRING ((-122.34827 47.61451, -122.34...</td>\n",
       "    </tr>\n",
       "    <tr>\n",
       "      <th>112</th>\n",
       "      <td>2898</td>\n",
       "      <td>01-24</td>\n",
       "      <td>None</td>\n",
       "      <td>121.5</td>\n",
       "      <td>140.5</td>\n",
       "      <td>30</td>\n",
       "      <td>None</td>\n",
       "      <td>19</td>\n",
       "      <td>PS</td>\n",
       "      <td>PAY STATION</td>\n",
       "      <td>240</td>\n",
       "      <td>-09</td>\n",
       "      <td>PAID</td>\n",
       "      <td>SW</td>\n",
       "      <td>INSVC</td>\n",
       "      <td>1025</td>\n",
       "      <td>18.980620</td>\n",
       "      <td>MULTILINESTRING ((-122.34826 47.61430, -122.34...</td>\n",
       "    </tr>\n",
       "    <tr>\n",
       "      <th>137</th>\n",
       "      <td>3435</td>\n",
       "      <td>01-24</td>\n",
       "      <td>None</td>\n",
       "      <td>144.0</td>\n",
       "      <td>166.0</td>\n",
       "      <td>-27</td>\n",
       "      <td>None</td>\n",
       "      <td>22</td>\n",
       "      <td>PLZ</td>\n",
       "      <td>PASSENGER LOAD ZONE</td>\n",
       "      <td>3</td>\n",
       "      <td>-10</td>\n",
       "      <td>ZONE</td>\n",
       "      <td>NE</td>\n",
       "      <td>INSVC</td>\n",
       "      <td>1026</td>\n",
       "      <td>21.977598</td>\n",
       "      <td>MULTILINESTRING ((-122.34818 47.61446, -122.34...</td>\n",
       "    </tr>\n",
       "    <tr>\n",
       "      <th>147</th>\n",
       "      <td>3664</td>\n",
       "      <td>01-24</td>\n",
       "      <td>None</td>\n",
       "      <td>235.0</td>\n",
       "      <td>253.0</td>\n",
       "      <td>-27</td>\n",
       "      <td>None</td>\n",
       "      <td>18</td>\n",
       "      <td>PS</td>\n",
       "      <td>PAY STATION</td>\n",
       "      <td>240</td>\n",
       "      <td>-18</td>\n",
       "      <td>PAID</td>\n",
       "      <td>NE</td>\n",
       "      <td>INSVC</td>\n",
       "      <td>1026</td>\n",
       "      <td>17.981641</td>\n",
       "      <td>MULTILINESTRING ((-122.34846 47.61462, -122.34...</td>\n",
       "    </tr>\n",
       "    <tr>\n",
       "      <th>155</th>\n",
       "      <td>3830</td>\n",
       "      <td>01-24</td>\n",
       "      <td>None</td>\n",
       "      <td>192.0</td>\n",
       "      <td>210.0</td>\n",
       "      <td>-27</td>\n",
       "      <td>None</td>\n",
       "      <td>18</td>\n",
       "      <td>PS</td>\n",
       "      <td>PAY STATION</td>\n",
       "      <td>240</td>\n",
       "      <td>-14</td>\n",
       "      <td>PAID</td>\n",
       "      <td>NE</td>\n",
       "      <td>INSVC</td>\n",
       "      <td>1026</td>\n",
       "      <td>17.981685</td>\n",
       "      <td>MULTILINESTRING ((-122.34833 47.61455, -122.34...</td>\n",
       "    </tr>\n",
       "    <tr>\n",
       "      <th>159</th>\n",
       "      <td>3946</td>\n",
       "      <td>01-24</td>\n",
       "      <td>None</td>\n",
       "      <td>148.5</td>\n",
       "      <td>167.5</td>\n",
       "      <td>30</td>\n",
       "      <td>None</td>\n",
       "      <td>19</td>\n",
       "      <td>PLZ</td>\n",
       "      <td>PASSENGER LOAD ZONE</td>\n",
       "      <td>3</td>\n",
       "      <td>-11</td>\n",
       "      <td>ZONE</td>\n",
       "      <td>SW</td>\n",
       "      <td>INSVC</td>\n",
       "      <td>1025</td>\n",
       "      <td>18.980663</td>\n",
       "      <td>MULTILINESTRING ((-122.34835 47.61435, -122.34...</td>\n",
       "    </tr>\n",
       "    <tr>\n",
       "      <th>174</th>\n",
       "      <td>4295</td>\n",
       "      <td>01-24</td>\n",
       "      <td>None</td>\n",
       "      <td>217.0</td>\n",
       "      <td>235.0</td>\n",
       "      <td>-27</td>\n",
       "      <td>None</td>\n",
       "      <td>18</td>\n",
       "      <td>PS</td>\n",
       "      <td>PAY STATION</td>\n",
       "      <td>240</td>\n",
       "      <td>-16</td>\n",
       "      <td>PAID</td>\n",
       "      <td>NE</td>\n",
       "      <td>INSVC</td>\n",
       "      <td>1026</td>\n",
       "      <td>17.981732</td>\n",
       "      <td>MULTILINESTRING ((-122.34840 47.61459, -122.34...</td>\n",
       "    </tr>\n",
       "  </tbody>\n",
       "</table>\n",
       "</div>"
      ],
      "text/plain": [
       "     OBJECTID BLOCKID ROWNBR  BLOCK_ST  BLOCK_END  WIDTH_OFFS GEOBASYS  \\\n",
       "21        590   01-24   None     260.0      277.0         -27     None   \n",
       "34        868   01-24   None     101.5      121.5          30     None   \n",
       "61       1638   01-24   None      52.5       70.5         -27     None   \n",
       "72       1870   01-24   None     121.0      144.0         -27     None   \n",
       "74       1917   01-24   None      56.0       75.0          30     None   \n",
       "80       2098   01-24   None      75.0       94.0          30     None   \n",
       "88       2264   01-24   None      78.0       96.0         -27     None   \n",
       "95       2459   01-24   None      96.0      114.0         -27     None   \n",
       "110      2850   01-24   None     174.0      192.0         -27     None   \n",
       "112      2898   01-24   None     121.5      140.5          30     None   \n",
       "137      3435   01-24   None     144.0      166.0         -27     None   \n",
       "147      3664   01-24   None     235.0      253.0         -27     None   \n",
       "155      3830   01-24   None     192.0      210.0         -27     None   \n",
       "159      3946   01-24   None     148.5      167.5          30     None   \n",
       "174      4295   01-24   None     217.0      235.0         -27     None   \n",
       "\n",
       "     SPACELENGT SPACETYPE                    SPACETYPED TIME_LIMIT SPACE_NB  \\\n",
       "21           17        PS                   PAY STATION        240      -20   \n",
       "34           20        PS                   PAY STATION        240      -07   \n",
       "61           18        PS                   PAY STATION        240      -02   \n",
       "72           23      CVLZ  COMMERCIAL VEHICLE LOAD ZONE         30     -08T   \n",
       "74           19       PLZ           PASSENGER LOAD ZONE          3      -03   \n",
       "80           19        PS                   PAY STATION        240      -05   \n",
       "88           18        PS                   PAY STATION        240      -04   \n",
       "95           18        PS                   PAY STATION        240      -06   \n",
       "110          18        PS                   PAY STATION        240      -12   \n",
       "112          19        PS                   PAY STATION        240      -09   \n",
       "137          22       PLZ           PASSENGER LOAD ZONE          3      -10   \n",
       "147          18        PS                   PAY STATION        240      -18   \n",
       "155          18        PS                   PAY STATION        240      -14   \n",
       "159          19       PLZ           PASSENGER LOAD ZONE          3      -11   \n",
       "174          18        PS                   PAY STATION        240      -16   \n",
       "\n",
       "    CATEGORY SIDE CURRENT_ST  ELMNTKEY  SHAPE_Leng  \\\n",
       "21      PAID   NE      INSVC      1026   16.982663   \n",
       "34      PAID   SW      INSVC      1025   19.979641   \n",
       "61      PAID   NE      INSVC      1026   17.981685   \n",
       "72      LOAD   NE      INSVC      1026   22.976572   \n",
       "74      ZONE   SW      INSVC      1025   18.980620   \n",
       "80      PAID   SW      INSVC      1025   18.980663   \n",
       "88      PAID   NE      INSVC      1026   17.981689   \n",
       "95      PAID   NE      INSVC      1026   17.981685   \n",
       "110     PAID   NE      INSVC      1026   17.981641   \n",
       "112     PAID   SW      INSVC      1025   18.980620   \n",
       "137     ZONE   NE      INSVC      1026   21.977598   \n",
       "147     PAID   NE      INSVC      1026   17.981641   \n",
       "155     PAID   NE      INSVC      1026   17.981685   \n",
       "159     ZONE   SW      INSVC      1025   18.980663   \n",
       "174     PAID   NE      INSVC      1026   17.981732   \n",
       "\n",
       "                                              geometry  \n",
       "21   MULTILINESTRING ((-122.34853 47.61467, -122.34...  \n",
       "34   MULTILINESTRING ((-122.34820 47.61427, -122.34...  \n",
       "61   MULTILINESTRING ((-122.34790 47.61429, -122.34...  \n",
       "72   MULTILINESTRING ((-122.34811 47.61442, -122.34...  \n",
       "74   MULTILINESTRING ((-122.34806 47.61418, -122.34...  \n",
       "80   MULTILINESTRING ((-122.34812 47.61422, -122.34...  \n",
       "88   MULTILINESTRING ((-122.34798 47.61434, -122.34...  \n",
       "95   MULTILINESTRING ((-122.34803 47.61437, -122.34...  \n",
       "110  MULTILINESTRING ((-122.34827 47.61451, -122.34...  \n",
       "112  MULTILINESTRING ((-122.34826 47.61430, -122.34...  \n",
       "137  MULTILINESTRING ((-122.34818 47.61446, -122.34...  \n",
       "147  MULTILINESTRING ((-122.34846 47.61462, -122.34...  \n",
       "155  MULTILINESTRING ((-122.34833 47.61455, -122.34...  \n",
       "159  MULTILINESTRING ((-122.34835 47.61435, -122.34...  \n",
       "174  MULTILINESTRING ((-122.34840 47.61459, -122.34...  "
      ]
     },
     "execution_count": 16,
     "metadata": {},
     "output_type": "execute_result"
    }
   ],
   "source": [
    "park[park['BLOCKID'] == '01-24']"
   ]
  },
  {
   "cell_type": "code",
   "execution_count": null,
   "metadata": {},
   "outputs": [],
   "source": []
  }
 ],
 "metadata": {
  "kernelspec": {
   "display_name": "Python 3",
   "language": "python",
   "name": "python3"
  },
  "language_info": {
   "codemirror_mode": {
    "name": "ipython",
    "version": 3
   },
   "file_extension": ".py",
   "mimetype": "text/x-python",
   "name": "python",
   "nbconvert_exporter": "python",
   "pygments_lexer": "ipython3",
   "version": "3.8.2"
  }
 },
 "nbformat": 4,
 "nbformat_minor": 4
}
