{
 "cells": [
  {
   "cell_type": "code",
   "execution_count": 278,
   "metadata": {
    "ExecuteTime": {
     "end_time": "2020-11-10T22:25:37.789674Z",
     "start_time": "2020-11-10T22:25:36.608012Z"
    }
   },
   "outputs": [],
   "source": [
    "import folium\n",
    "import folium.plugins\n",
    "\n",
    "from matplotlib import pyplot as plt\n",
    "import pandas as pd\n",
    "import xml.etree.ElementTree as ET\n",
    "\n",
    "import pandas as pd\n",
    "\n",
    "import random\n",
    "\n",
    "net_xml = \"seattle.net.xml\"\n",
    "add_xml = \"seattle.add.xml\"\n",
    "rou_xml = \"seattle.trips.xml\""
   ]
  },
  {
   "cell_type": "markdown",
   "metadata": {},
   "source": [
    "### Prepare"
   ]
  },
  {
   "cell_type": "code",
   "execution_count": 279,
   "metadata": {
    "ExecuteTime": {
     "end_time": "2020-11-10T22:25:37.804218Z",
     "start_time": "2020-11-10T22:25:37.793017Z"
    }
   },
   "outputs": [
    {
     "data": {
      "text/plain": [
       "44"
      ]
     },
     "execution_count": 279,
     "metadata": {},
     "output_type": "execute_result"
    }
   ],
   "source": [
    "parking_areas = []\n",
    "parking_areas_capacity = []\n",
    "root_add = ET.parse(add_xml).getroot()\n",
    "for child in root_add.iter('parkingArea'):\n",
    "    parking_areas.append(child.get('id'))\n",
    "    parking_areas_capacity.append(child.get('roadsideCapacity'))\n",
    "parking_areas_capacity = list(map(int, parking_areas_capacity)) \n",
    "len(parking_areas)"
   ]
  },
  {
   "cell_type": "code",
   "execution_count": 280,
   "metadata": {
    "ExecuteTime": {
     "end_time": "2020-11-10T22:25:37.842323Z",
     "start_time": "2020-11-10T22:25:37.819817Z"
    }
   },
   "outputs": [
    {
     "data": {
      "text/plain": [
       "55"
      ]
     },
     "execution_count": 280,
     "metadata": {},
     "output_type": "execute_result"
    }
   ],
   "source": [
    "edges_all = []\n",
    "\n",
    "root_net = ET.parse(net_xml).getroot()\n",
    "for child in root_net.iter('edge'):\n",
    "    if child.get('function') != 'internal':\n",
    "        edges_all.append(child.get('id'))\n",
    "len(edges_all)"
   ]
  },
  {
   "cell_type": "code",
   "execution_count": 281,
   "metadata": {
    "ExecuteTime": {
     "end_time": "2020-11-10T22:25:38.713657Z",
     "start_time": "2020-11-10T22:25:38.701464Z"
    }
   },
   "outputs": [
    {
     "data": {
      "text/plain": [
       "21"
      ]
     },
     "execution_count": 281,
     "metadata": {},
     "output_type": "execute_result"
    }
   ],
   "source": [
    "edges_od = []\n",
    "edges_od.extend([i for i in edges_all if i[3:5] == '00'])\n",
    "edges_od.extend([i for i in edges_all if i[3:5] == '04'])\n",
    "edges_od.extend([i for i in edges_all if i[3:5] == '23'])\n",
    "edges_od.extend([i for i in edges_all if i[3:5] == '27'])\n",
    "len(edges_od)"
   ]
  },
  {
   "cell_type": "code",
   "execution_count": 282,
   "metadata": {
    "ExecuteTime": {
     "end_time": "2020-11-10T22:25:38.902390Z",
     "start_time": "2020-11-10T22:25:38.888793Z"
    }
   },
   "outputs": [],
   "source": [
    "edges_o = ['01-23-NW', '25-00-NE', '26-00-NE', '27-00-NE', '01-27-SE', '02-27-SE', \n",
    "           '03-27-SE', '27-04-SW', '04-23-NW', '03-23-NW']\n",
    "edges_d = [i for i in edges_od if i not in edges_o]"
   ]
  },
  {
   "cell_type": "code",
   "execution_count": 283,
   "metadata": {
    "ExecuteTime": {
     "end_time": "2020-11-10T22:58:09.451802Z",
     "start_time": "2020-11-10T22:58:09.440506Z"
    }
   },
   "outputs": [],
   "source": [
    "with open(rou_xml, \"w\") as rou:\n",
    "    print(\"\"\"<?xml version=\"1.0\" encoding=\"UTF-8\"?>\\n\n",
    "<routes xmlns:xsi=\"http://www.w3.org/2001/XMLSchema-instance\" xsi:noNamespaceSchemaLocation=\"http://sumo.dlr.de/xsd/routes_file.xsd\">\n",
    "          \"\"\", \n",
    "          file=rou)"
   ]
  },
  {
   "cell_type": "markdown",
   "metadata": {},
   "source": [
    "### Add vType and background flow\n",
    "To display colors and gui shapes, as per [this answer](https://sourceforge.net/p/sumo/mailman/message/31410924/):\n",
    "+ Go to view setting in SUMO-GUI (color wheel)\n",
    "+ Vehicles -> Show As -> ..."
   ]
  },
  {
   "cell_type": "code",
   "execution_count": 284,
   "metadata": {
    "ExecuteTime": {
     "end_time": "2020-11-10T22:58:09.610446Z",
     "start_time": "2020-11-10T22:58:09.601785Z"
    }
   },
   "outputs": [],
   "source": [
    "with open(rou_xml, \"a\") as rou:\n",
    "    print(\"\"\"\\t<vType id=\"park_passenger\" vClass=\"passenger\" guiShape=\"passenger/sedan\" color=\"255,183,59\"></vType>\\n\n",
    "    <vType id=\"pass_passenger\" vClass=\"passenger\" guiShape=\"passenger/hatchback\" color=\"39,245,187\"></vType>\\n\n",
    "    <vType id=\"taxi\" vClass=\"taxi\" guiShape=\"truck\" color=\"245,39,224\" length=\"6.0\" width=\"3\"></vType>\n",
    "          \"\"\", \n",
    "          file=rou)"
   ]
  },
  {
   "cell_type": "code",
   "execution_count": 285,
   "metadata": {
    "ExecuteTime": {
     "end_time": "2020-11-10T22:58:09.791906Z",
     "start_time": "2020-11-10T22:58:09.777194Z"
    }
   },
   "outputs": [],
   "source": [
    "with open(rou_xml, \"a\") as rou:\n",
    "    # via=\"e1 e23 e7\"\n",
    "    for i in range(len(edges_o)):\n",
    "        o = edges_o[i]\n",
    "        d = [item for item in edges_d if item[:2] == o[:2] and item[:5] != o[:5]]\n",
    "        if len(d) >= 1:\n",
    "            d = d[0]\n",
    "        else:\n",
    "            d = [item for item in edges_d if item[:2] == str(int(o[:2])+1)][0]\n",
    "        print('\\t<flow id=\"f{}\" begin=\"{}\" end=\"{}\" number=\"{}\" from=\"{}\" to=\"{}\" type=\"pass_passenger\"/>'.format(i+200, 0, 2400, \n",
    "                                                                                           200, \n",
    "                                                                                           o, d), \n",
    "              file=rou)"
   ]
  },
  {
   "cell_type": "code",
   "execution_count": 286,
   "metadata": {},
   "outputs": [
    {
     "data": {
      "text/html": [
       "<div>\n",
       "<style scoped>\n",
       "    .dataframe tbody tr th:only-of-type {\n",
       "        vertical-align: middle;\n",
       "    }\n",
       "\n",
       "    .dataframe tbody tr th {\n",
       "        vertical-align: top;\n",
       "    }\n",
       "\n",
       "    .dataframe thead th {\n",
       "        text-align: right;\n",
       "    }\n",
       "</style>\n",
       "<table border=\"1\" class=\"dataframe\">\n",
       "  <thead>\n",
       "    <tr style=\"text-align: right;\">\n",
       "      <th></th>\n",
       "      <th>Duration Category</th>\n",
       "      <th>5</th>\n",
       "      <th>6</th>\n",
       "      <th>7</th>\n",
       "      <th>8</th>\n",
       "      <th>9</th>\n",
       "      <th>10</th>\n",
       "      <th>11</th>\n",
       "      <th>12</th>\n",
       "      <th>13</th>\n",
       "      <th>14</th>\n",
       "      <th>15</th>\n",
       "      <th>16</th>\n",
       "      <th>17</th>\n",
       "      <th>18</th>\n",
       "      <th>19</th>\n",
       "    </tr>\n",
       "  </thead>\n",
       "  <tbody>\n",
       "    <tr>\n",
       "      <th>0</th>\n",
       "      <td>10</td>\n",
       "      <td>0</td>\n",
       "      <td>0</td>\n",
       "      <td>0</td>\n",
       "      <td>0</td>\n",
       "      <td>1</td>\n",
       "      <td>1</td>\n",
       "      <td>3</td>\n",
       "      <td>2</td>\n",
       "      <td>1</td>\n",
       "      <td>2</td>\n",
       "      <td>2</td>\n",
       "      <td>2</td>\n",
       "      <td>3</td>\n",
       "      <td>3</td>\n",
       "      <td>2</td>\n",
       "    </tr>\n",
       "    <tr>\n",
       "      <th>1</th>\n",
       "      <td>20</td>\n",
       "      <td>0</td>\n",
       "      <td>0</td>\n",
       "      <td>0</td>\n",
       "      <td>1</td>\n",
       "      <td>1</td>\n",
       "      <td>3</td>\n",
       "      <td>2</td>\n",
       "      <td>4</td>\n",
       "      <td>4</td>\n",
       "      <td>4</td>\n",
       "      <td>2</td>\n",
       "      <td>3</td>\n",
       "      <td>4</td>\n",
       "      <td>2</td>\n",
       "      <td>5</td>\n",
       "    </tr>\n",
       "    <tr>\n",
       "      <th>2</th>\n",
       "      <td>30</td>\n",
       "      <td>0</td>\n",
       "      <td>0</td>\n",
       "      <td>1</td>\n",
       "      <td>6</td>\n",
       "      <td>8</td>\n",
       "      <td>9</td>\n",
       "      <td>9</td>\n",
       "      <td>12</td>\n",
       "      <td>10</td>\n",
       "      <td>12</td>\n",
       "      <td>10</td>\n",
       "      <td>9</td>\n",
       "      <td>7</td>\n",
       "      <td>4</td>\n",
       "      <td>9</td>\n",
       "    </tr>\n",
       "    <tr>\n",
       "      <th>3</th>\n",
       "      <td>60</td>\n",
       "      <td>0</td>\n",
       "      <td>0</td>\n",
       "      <td>3</td>\n",
       "      <td>10</td>\n",
       "      <td>14</td>\n",
       "      <td>10</td>\n",
       "      <td>17</td>\n",
       "      <td>18</td>\n",
       "      <td>21</td>\n",
       "      <td>15</td>\n",
       "      <td>14</td>\n",
       "      <td>14</td>\n",
       "      <td>13</td>\n",
       "      <td>9</td>\n",
       "      <td>24</td>\n",
       "    </tr>\n",
       "    <tr>\n",
       "      <th>4</th>\n",
       "      <td>90</td>\n",
       "      <td>0</td>\n",
       "      <td>0</td>\n",
       "      <td>1</td>\n",
       "      <td>4</td>\n",
       "      <td>5</td>\n",
       "      <td>8</td>\n",
       "      <td>7</td>\n",
       "      <td>8</td>\n",
       "      <td>7</td>\n",
       "      <td>4</td>\n",
       "      <td>4</td>\n",
       "      <td>5</td>\n",
       "      <td>5</td>\n",
       "      <td>24</td>\n",
       "      <td>0</td>\n",
       "    </tr>\n",
       "    <tr>\n",
       "      <th>5</th>\n",
       "      <td>120</td>\n",
       "      <td>0</td>\n",
       "      <td>0</td>\n",
       "      <td>4</td>\n",
       "      <td>9</td>\n",
       "      <td>8</td>\n",
       "      <td>8</td>\n",
       "      <td>9</td>\n",
       "      <td>11</td>\n",
       "      <td>11</td>\n",
       "      <td>5</td>\n",
       "      <td>11</td>\n",
       "      <td>14</td>\n",
       "      <td>19</td>\n",
       "      <td>24</td>\n",
       "      <td>0</td>\n",
       "    </tr>\n",
       "    <tr>\n",
       "      <th>6</th>\n",
       "      <td>240</td>\n",
       "      <td>2</td>\n",
       "      <td>5</td>\n",
       "      <td>12</td>\n",
       "      <td>43</td>\n",
       "      <td>34</td>\n",
       "      <td>27</td>\n",
       "      <td>29</td>\n",
       "      <td>42</td>\n",
       "      <td>25</td>\n",
       "      <td>22</td>\n",
       "      <td>22</td>\n",
       "      <td>33</td>\n",
       "      <td>32</td>\n",
       "      <td>0</td>\n",
       "      <td>0</td>\n",
       "    </tr>\n",
       "  </tbody>\n",
       "</table>\n",
       "</div>"
      ],
      "text/plain": [
       "   Duration Category  5  6   7   8   9  10  11  12  13  14  15  16  17  18  19\n",
       "0                 10  0  0   0   0   1   1   3   2   1   2   2   2   3   3   2\n",
       "1                 20  0  0   0   1   1   3   2   4   4   4   2   3   4   2   5\n",
       "2                 30  0  0   1   6   8   9   9  12  10  12  10   9   7   4   9\n",
       "3                 60  0  0   3  10  14  10  17  18  21  15  14  14  13   9  24\n",
       "4                 90  0  0   1   4   5   8   7   8   7   4   4   5   5  24   0\n",
       "5                120  0  0   4   9   8   8   9  11  11   5  11  14  19  24   0\n",
       "6                240  2  5  12  43  34  27  29  42  25  22  22  33  32   0   0"
      ]
     },
     "execution_count": 286,
     "metadata": {},
     "output_type": "execute_result"
    }
   ],
   "source": [
    "parking_demand = pd.read_csv('parking_demand_dist.csv')\n",
    "parking_demand"
   ]
  },
  {
   "cell_type": "markdown",
   "metadata": {},
   "source": [
    "### Add existing parking vehicles"
   ]
  },
  {
   "cell_type": "code",
   "execution_count": 287,
   "metadata": {},
   "outputs": [
    {
     "name": "stdout",
     "output_type": "stream",
     "text": [
      "{'01-24-NE': 4, '01-24-SW': 0, '01-25-NE': 2, '01-25-SW': 0, '01-26-SW': 5, '02-24-NE': 0, '02-24-SW': 1, '02-25-NE': 9, '02-25-SW': 5, '02-26-NE': 1, '02-26-SW': 0, '03-24-NE': 4, '03-24-SW': 2, '03-25-NE': 6, '03-25-SW': 9, '03-26-SW': 0, '04-24-NE': 7, '04-24-SW': 0, '04-25-NE': 6, '04-25-SW': 2, '04-26-NE': 4, '04-26-SW': 0, '24-01-NW': 5, '24-01-SE': 3, '24-02-NW': 5, '24-02-SE': 5, '24-03-NW': 0, '25-01-NW': 4, '25-01-SE': 5, '25-02-NW': 7, '25-02-SE': 1, '25-03-NW': 2, '26-01-NW': 0, '26-01-SE': 4, '26-02-NW': 3, '26-02-SE': 0, '26-03-NW': 4, '26-03-SE': 5, '27-01-NW': 4, '27-01-SE': 1, '27-02-NW': 4, '27-02-SE': 2, '27-03-NW': 4, '27-03-SE': 5}\n"
     ]
    }
   ],
   "source": [
    "# Existing occupied parking demand \n",
    "\n",
    "hour = 12 # simualtion hour of the day\n",
    "\n",
    "# adding 90min to the 60min category\n",
    "parking_geq_60min_num = parking_demand[str(hour-1)].values[5] + parking_demand[str(hour-1)].values[6]+ parking_demand[str(hour-2)].values[6] + parking_demand[str(hour-3)].values[6]\n",
    "\n",
    "parking_availble_dict = dict(zip(parking_areas, parking_areas_capacity))\n",
    "parking_areas_availble = parking_areas.copy()\n",
    "\n",
    "with open(rou_xml, \"a\") as rou:\n",
    "    \n",
    "    # add existing vehicles that park greater than 60 mins\n",
    "    for i in range(parking_geq_60min_num):\n",
    "        parking_area = random.choice(parking_areas_availble) # parking area\n",
    "        parking_availble_dict[parking_area] -= 1\n",
    "        if parking_availble_dict[parking_area] == 0:\n",
    "            parking_areas_availble.remove(parking_area)\n",
    "        d = random.choice(edges_d)\n",
    "        parking_left_time = 3600\n",
    "        print('''\\t<trip id=\"e_g60_{}\" depart=\"{}\" to=\"{}\" type=\"park_passenger\">\n",
    "\t\t <stop index=\"0\" parkingArea=\"{}\" duration=\"{}\" parking=\"true\"/>\n",
    "\t</trip>'''.format(i, 0, d, parking_area, parking_left_time), file = rou)\n",
    "    \n",
    "    # add existing vehicles that park less than 60 mins\n",
    "    for i in range(parking_leq_60min_num):\n",
    "        parking_area = random.choice(parking_areas_availble) # parking area\n",
    "        parking_availble_dict[parking_area] -= 1\n",
    "        if parking_availble_dict[parking_area] == 0:\n",
    "            parking_areas_availble.remove(parking_area)\n",
    "        d = random.choice(edges_d)\n",
    "        parking_left_time = (60 - random.randint(1, 60)) * 60\n",
    "        print('''\\t<trip id=\"e_l60_{}\" depart=\"{}\" to=\"{}\" type=\"park_passenger\">\n",
    "\t\t <stop index=\"0\" parkingArea=\"{}\" duration=\"{}\" parking=\"true\"/>\n",
    "\t</trip>'''.format(i, 0, d, parking_area, parking_left_time), file = rou)\n",
    "    \n",
    "print(parking_availble_dict)"
   ]
  },
  {
   "cell_type": "code",
   "execution_count": 288,
   "metadata": {},
   "outputs": [
    {
     "data": {
      "text/plain": [
       "314"
      ]
     },
     "execution_count": 288,
     "metadata": {},
     "output_type": "execute_result"
    }
   ],
   "source": [
    "# total capacity\n",
    "sum(parking_areas_capacity)"
   ]
  },
  {
   "cell_type": "code",
   "execution_count": 289,
   "metadata": {},
   "outputs": [
    {
     "data": {
      "text/plain": [
       "140"
      ]
     },
     "execution_count": 289,
     "metadata": {},
     "output_type": "execute_result"
    }
   ],
   "source": [
    "# available parking area\n",
    "sum(parking_availble_dict.values())"
   ]
  },
  {
   "cell_type": "markdown",
   "metadata": {},
   "source": [
    "### Add new parking demand"
   ]
  },
  {
   "cell_type": "code",
   "execution_count": 290,
   "metadata": {
    "ExecuteTime": {
     "end_time": "2020-11-10T22:58:10.007594Z",
     "start_time": "2020-11-10T22:58:09.921095Z"
    }
   },
   "outputs": [],
   "source": [
    "parking_10min_num = parking_demand[str(hour)].values[0]\n",
    "parking_20min_num = parking_demand[str(hour)].values[1]\n",
    "parking_30min_num = parking_demand[str(hour)].values[2]\n",
    "parking_60min_num = parking_demand[str(hour)].values[3] + parking_demand[str(hour)].values[4] + parking_demand[str(hour)].values[6] \n",
    "\n",
    "factor = 1\n",
    "\n",
    "parking_10min_num *= factor\n",
    "parking_20min_num *= factor\n",
    "parking_30min_num *= factor\n",
    "parking_60min_num *= factor\n",
    "\n",
    "parking_config_list = []\n",
    "\n",
    "for i in range(parking_10min_num):\n",
    "    pa = random.choice(parking_areas) # parking area\n",
    "    o = random.choice(edges_o)\n",
    "    d = random.choice(edges_d)\n",
    "    dt = random.randint(1, 3600) # depart time\n",
    "    pt = 10 * 60 # parking time\n",
    "    parking_config_list.append((dt, o, d, pa, pt, \"park_passenger\"))\n",
    "\n",
    "for i in range(parking_20min_num):\n",
    "    pa = random.choice(parking_areas) # parking area\n",
    "    o = random.choice(edges_o)\n",
    "    d = random.choice(edges_d)\n",
    "    dt = random.randint(1, 3600) # depart time\n",
    "    pt = 20 * 60 # parking time\n",
    "    parking_config_list.append((dt, o, d, pa, pt, \"park_passenger\"))\n",
    "\n",
    "for i in range(parking_30min_num):\n",
    "    pa = random.choice(parking_areas) # parking area\n",
    "    o = random.choice(edges_o)\n",
    "    d = random.choice(edges_d)\n",
    "    dt = random.randint(1, 3600)  # depart time\n",
    "    pt = 30 * 60 # parking time\n",
    "    parking_config_list.append((dt, o, d, pa, pt, \"park_passenger\"))\n",
    "\n",
    "for i in range(parking_60min_num):\n",
    "    pa = random.choice(parking_areas) # parking area\n",
    "    o = random.choice(edges_o)\n",
    "    d = random.choice(edges_d)\n",
    "    dt = random.randint(1, 3600)  # depart time\n",
    "    pt = 60 * 60 # parking time\n",
    "    parking_config_list.append((dt, o, d, pa, pt, \"park_passenger\"))"
   ]
  },
  {
   "cell_type": "markdown",
   "metadata": {},
   "source": [
    "### Add taxi"
   ]
  },
  {
   "cell_type": "code",
   "execution_count": 291,
   "metadata": {},
   "outputs": [],
   "source": [
    "taxi_park_time = 3 * 60\n",
    "\n",
    "taxi_num = 240\n",
    "\n",
    "factor = 1\n",
    "\n",
    "taxi_10min_num *= factor\n",
    "\n",
    "for i in range(taxi_10min_num):\n",
    "    pa = random.choice(parking_areas) # parking area\n",
    "    o = random.choice(edges_o)\n",
    "    d = random.choice(edges_d)\n",
    "    dt = random.randint(1, 1800) # depart time\n",
    "    pt = taxi_park_time\n",
    "    parking_config_list.append((dt, o, d, pa, pt, \"taxi\"))"
   ]
  },
  {
   "cell_type": "markdown",
   "metadata": {},
   "source": [
    "### write to route file"
   ]
  },
  {
   "cell_type": "code",
   "execution_count": 292,
   "metadata": {},
   "outputs": [],
   "source": [
    "parking_config_list.sort(key=lambda tup: tup[0])  # sorts in place\n",
    "with open(rou_xml, \"a\") as rou:\n",
    "    for i in range(len(parking_config_list)):\n",
    "        dt, o, d, pa, pt, vType = parking_config_list[i]\n",
    "        print('''\\t<trip id=\"t{}\" depart=\"{}\" from=\"{}\" to=\"{}\" type=\"{}\">\n",
    "\t\t<stop index=\"0\" parkingArea=\"{}\" duration=\"{}\" parking=\"true\"/>\n",
    "\t</trip>'''.format(i, dt, o, d, vType, pa, pt), file = rou)"
   ]
  },
  {
   "cell_type": "code",
   "execution_count": 293,
   "metadata": {
    "ExecuteTime": {
     "end_time": "2020-11-10T22:58:10.496414Z",
     "start_time": "2020-11-10T22:58:10.479155Z"
    }
   },
   "outputs": [],
   "source": [
    "with open(rou_xml, \"a\") as rou:\n",
    "    print('\\n</routes>', file = rou)"
   ]
  },
  {
   "cell_type": "code",
   "execution_count": null,
   "metadata": {},
   "outputs": [],
   "source": []
  },
  {
   "cell_type": "code",
   "execution_count": null,
   "metadata": {},
   "outputs": [],
   "source": []
  }
 ],
 "metadata": {
  "kernelspec": {
   "display_name": "Python 3",
   "language": "python",
   "name": "python3"
  },
  "language_info": {
   "codemirror_mode": {
    "name": "ipython",
    "version": 3
   },
   "file_extension": ".py",
   "mimetype": "text/x-python",
   "name": "python",
   "nbconvert_exporter": "python",
   "pygments_lexer": "ipython3",
   "version": "3.7.6"
  }
 },
 "nbformat": 4,
 "nbformat_minor": 4
}
