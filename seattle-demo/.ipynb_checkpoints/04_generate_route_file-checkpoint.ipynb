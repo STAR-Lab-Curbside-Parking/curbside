{
 "cells": [
  {
   "cell_type": "code",
   "execution_count": 1,
   "metadata": {
    "ExecuteTime": {
     "end_time": "2020-11-10T22:25:37.789674Z",
     "start_time": "2020-11-10T22:25:36.608012Z"
    }
   },
   "outputs": [],
   "source": [
    "import folium\n",
    "import folium.plugins\n",
    "\n",
    "from matplotlib import pyplot as plt\n",
    "import pandas as pd\n",
    "import xml.etree.ElementTree as ET\n",
    "\n",
    "import random\n",
    "\n",
    "net_xml = \"seattle.net.xml\"\n",
    "add_xml = \"seattle.add.xml\"\n",
    "rou_xml = \"seattle.trips.xml\""
   ]
  },
  {
   "cell_type": "code",
   "execution_count": 2,
   "metadata": {
    "ExecuteTime": {
     "end_time": "2020-11-10T22:25:37.804218Z",
     "start_time": "2020-11-10T22:25:37.793017Z"
    }
   },
   "outputs": [
    {
     "data": {
      "text/plain": [
       "44"
      ]
     },
     "execution_count": 2,
     "metadata": {},
     "output_type": "execute_result"
    }
   ],
   "source": [
    "parking_areas = []\n",
    "\n",
    "root_add = ET.parse(add_xml).getroot()\n",
    "for child in root_add.iter('parkingArea'):\n",
    "    parking_areas.append(child.get('id'))\n",
    "len(parking_areas)"
   ]
  },
  {
   "cell_type": "code",
   "execution_count": 3,
   "metadata": {
    "ExecuteTime": {
     "end_time": "2020-11-10T22:25:37.842323Z",
     "start_time": "2020-11-10T22:25:37.819817Z"
    }
   },
   "outputs": [
    {
     "data": {
      "text/plain": [
       "55"
      ]
     },
     "execution_count": 3,
     "metadata": {},
     "output_type": "execute_result"
    }
   ],
   "source": [
    "edges_all = []\n",
    "\n",
    "root_net = ET.parse(net_xml).getroot()\n",
    "for child in root_net.iter('edge'):\n",
    "    if child.get('function') != 'internal':\n",
    "        edges_all.append(child.get('id'))\n",
    "len(edges_all)"
   ]
  },
  {
   "cell_type": "code",
   "execution_count": 4,
   "metadata": {
    "ExecuteTime": {
     "end_time": "2020-11-10T22:25:38.713657Z",
     "start_time": "2020-11-10T22:25:38.701464Z"
    }
   },
   "outputs": [
    {
     "data": {
      "text/plain": [
       "21"
      ]
     },
     "execution_count": 4,
     "metadata": {},
     "output_type": "execute_result"
    }
   ],
   "source": [
    "edges_od = []\n",
    "edges_od.extend([i for i in edges_all if i[3:5] == '00'])\n",
    "edges_od.extend([i for i in edges_all if i[3:5] == '04'])\n",
    "edges_od.extend([i for i in edges_all if i[3:5] == '23'])\n",
    "edges_od.extend([i for i in edges_all if i[3:5] == '27'])\n",
    "len(edges_od)"
   ]
  },
  {
   "cell_type": "code",
   "execution_count": 5,
   "metadata": {
    "ExecuteTime": {
     "end_time": "2020-11-10T22:25:38.902390Z",
     "start_time": "2020-11-10T22:25:38.888793Z"
    }
   },
   "outputs": [],
   "source": [
    "edges_o = ['01-23-NW', '25-00-NE', '26-00-NE', '27-00-NE', '01-27-SE', '02-27-SE', \n",
    "           '03-27-SE', '27-04-SW', '04-23-NW', '03-23-NW']\n",
    "edges_d = [i for i in edges_od if i not in edges_o]"
   ]
  },
  {
   "cell_type": "code",
   "execution_count": 18,
   "metadata": {
    "ExecuteTime": {
     "end_time": "2020-11-10T22:40:51.922207Z",
     "start_time": "2020-11-10T22:40:51.911304Z"
    }
   },
   "outputs": [
    {
     "data": {
      "text/plain": [
       "['01-23-NW',\n",
       " '25-00-NE',\n",
       " '26-00-NE',\n",
       " '27-00-NE',\n",
       " '01-27-SE',\n",
       " '02-27-SE',\n",
       " '03-27-SE',\n",
       " '27-04-SW',\n",
       " '04-23-NW',\n",
       " '03-23-NW']"
      ]
     },
     "execution_count": 18,
     "metadata": {},
     "output_type": "execute_result"
    }
   ],
   "source": [
    "edges_o"
   ]
  },
  {
   "cell_type": "code",
   "execution_count": 17,
   "metadata": {
    "ExecuteTime": {
     "end_time": "2020-11-10T22:40:25.511570Z",
     "start_time": "2020-11-10T22:40:25.503464Z"
    }
   },
   "outputs": [
    {
     "data": {
      "text/plain": [
       "['25-00-SW',\n",
       " '27-00-SW',\n",
       " '24-04-NE',\n",
       " '26-04-NE',\n",
       " '27-04-NE',\n",
       " '01-23-SE',\n",
       " '02-23-SE',\n",
       " '03-23-SE',\n",
       " '01-27-NW',\n",
       " '03-27-NW',\n",
       " '04-27-NW']"
      ]
     },
     "execution_count": 17,
     "metadata": {},
     "output_type": "execute_result"
    }
   ],
   "source": [
    "edges_d"
   ]
  },
  {
   "cell_type": "code",
   "execution_count": 6,
   "metadata": {
    "ExecuteTime": {
     "end_time": "2020-11-10T22:25:40.827237Z",
     "start_time": "2020-11-10T22:25:40.821572Z"
    }
   },
   "outputs": [],
   "source": [
    "# edge_od_pairs = []\n",
    "# from itertools import permutations \n",
    "# for i in list(permutations(edges_od, 2)): \n",
    "#     edge_od_pairs.append(i)"
   ]
  },
  {
   "cell_type": "code",
   "execution_count": 49,
   "metadata": {
    "ExecuteTime": {
     "end_time": "2020-11-10T22:58:09.451802Z",
     "start_time": "2020-11-10T22:58:09.440506Z"
    }
   },
   "outputs": [],
   "source": [
    "with open(rou_xml, \"w\") as rou:\n",
    "    print(\"\"\"<?xml version=\"1.0\" encoding=\"UTF-8\"?>\n",
    "          <routes xmlns:xsi=\"http://www.w3.org/2001/XMLSchema-instance\" xsi:noNamespaceSchemaLocation=\"http://sumo.dlr.de/xsd/routes_file.xsd\">\n",
    "          \"\"\", \n",
    "          file=rou)"
   ]
  },
  {
   "cell_type": "code",
   "execution_count": 50,
   "metadata": {
    "ExecuteTime": {
     "end_time": "2020-11-10T22:58:09.610446Z",
     "start_time": "2020-11-10T22:58:09.601785Z"
    }
   },
   "outputs": [],
   "source": [
    "with open(rou_xml, \"a\") as rou:\n",
    "    print('\\t<vType id=\"passenger\" vClass=\"passenger\"></vType>', \n",
    "          file=rou)"
   ]
  },
  {
   "cell_type": "code",
   "execution_count": 51,
   "metadata": {
    "ExecuteTime": {
     "end_time": "2020-11-10T22:58:09.791906Z",
     "start_time": "2020-11-10T22:58:09.777194Z"
    }
   },
   "outputs": [],
   "source": [
    "with open(rou_xml, \"a\") as rou:\n",
    "    # via=\"e1 e23 e7\"\n",
    "    for i in range(len(edges_o)):\n",
    "        o = edges_o[i]\n",
    "        d = [item for item in edges_d if item[:2] == o[:2] and item[:5] != o[:5]]\n",
    "        if len(d) >= 1:\n",
    "            d = d[0]\n",
    "        else:\n",
    "            d = [item for item in edges_d if item[:2] == str(int(o[:2])+1)][0]\n",
    "        print('\\t<flow id=\"f{}\" begin=\"{}\" end=\"{}\" number=\"{}\" from=\"{}\" to=\"{}\"/>'.format(i+200, 0, 2400, \n",
    "                                                                                           300, \n",
    "                                                                                           o, d), \n",
    "              file=rou)"
   ]
  },
  {
   "cell_type": "code",
   "execution_count": 52,
   "metadata": {
    "ExecuteTime": {
     "end_time": "2020-11-10T22:58:10.007594Z",
     "start_time": "2020-11-10T22:58:09.921095Z"
    }
   },
   "outputs": [],
   "source": [
    "with open(rou_xml, \"a\") as rou:\n",
    "    route_num = 3600\n",
    "    for i in range(route_num):\n",
    "        pa = random.choice(parking_areas) # parking area\n",
    "        o = random.choice(edges_o)\n",
    "        d = random.choice(edges_d)\n",
    "#         print('<trip id={}, depart=\"{}\", from=\"{}\", to={}>')\n",
    "        print('''\\t<trip id=\"t{}\" depart=\"{}\" from=\"{}\" to=\"{}\">\n",
    "\t\t <stop index=\"0\" parkingArea=\"{}\" duration=\"{}\" parking=\"true\"/>\n",
    "\t</trip>'''.format(i, i*10, o, d, pa, 600), file = rou)\n",
    "#         print('\\t<trip id=\"{}\" type=\"passenger\" edges=\"{} {}\">\\n\\t\\t<stop index=\"0\" parkingArea=\"{}\" duration=\"20\" parking=\"true\"/>\\n\\t</route>'.format(i, o, d, pa), file=rou)"
   ]
  },
  {
   "cell_type": "code",
   "execution_count": 53,
   "metadata": {
    "ExecuteTime": {
     "end_time": "2020-11-10T22:58:10.496414Z",
     "start_time": "2020-11-10T22:58:10.479155Z"
    }
   },
   "outputs": [],
   "source": [
    "with open(rou_xml, \"a\") as rou:\n",
    "    print('\\n</routes>', file = rou)"
   ]
  },
  {
   "cell_type": "code",
   "execution_count": null,
   "metadata": {},
   "outputs": [],
   "source": []
  }
 ],
 "metadata": {
  "kernelspec": {
   "display_name": "Python 3",
   "language": "python",
   "name": "python3"
  },
  "language_info": {
   "codemirror_mode": {
    "name": "ipython",
    "version": 3
   },
   "file_extension": ".py",
   "mimetype": "text/x-python",
   "name": "python",
   "nbconvert_exporter": "python",
   "pygments_lexer": "ipython3",
   "version": "3.6.2"
  }
 },
 "nbformat": 4,
 "nbformat_minor": 4
}
