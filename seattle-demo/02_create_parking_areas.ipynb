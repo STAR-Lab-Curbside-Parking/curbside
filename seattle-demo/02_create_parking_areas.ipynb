{
 "cells": [
  {
   "cell_type": "code",
   "execution_count": 1,
   "metadata": {
    "ExecuteTime": {
     "end_time": "2020-11-10T06:11:33.561246Z",
     "start_time": "2020-11-10T06:11:33.531944Z"
    }
   },
   "outputs": [],
   "source": [
    "import pandas as pd\n",
    "import xml.etree.ElementTree as ET"
   ]
  },
  {
   "cell_type": "code",
   "execution_count": 2,
   "metadata": {
    "ExecuteTime": {
     "end_time": "2020-11-10T06:11:33.722580Z",
     "start_time": "2020-11-10T06:11:33.709699Z"
    }
   },
   "outputs": [],
   "source": [
    "net_xml = \"seattle.net.xml\"\n",
    "add_xml = \"seattle.add.xml\"\n",
    "\n",
    "pc = pd.read_csv('parking_space_count.csv')"
   ]
  },
  {
   "cell_type": "code",
   "execution_count": 3,
   "metadata": {
    "ExecuteTime": {
     "end_time": "2020-11-10T06:11:33.909702Z",
     "start_time": "2020-11-10T06:11:33.900996Z"
    }
   },
   "outputs": [],
   "source": [
    "with open(add_xml, \"w\") as add:\n",
    "    print(\"\"\"<?xml version=\"1.0\" encoding=\"UTF-8\"?>\n",
    "\n",
    "<additional xmlns:xsi=\"http://www.w3.org/2001/XMLSchema-instance\" xsi:noNamespaceSchemaLocation=\"http://sumo.dlr.de/xsd/additional_file.xsd\">\n",
    "\n",
    "    <location netOffset=\"-362563.54,-4832311.19\" convBoundary=\"0.00,0.00,2064.54,1284.45\" origBoundary=\"13.296064,43.631354,13.321826,43.642858\" projParameter=\"+proj=utm +zone=33 +ellps=WGS84 +datum=WGS84 +units=m +no_defs\"/>\n",
    "    \"\"\", file=add)"
   ]
  },
  {
   "cell_type": "code",
   "execution_count": 4,
   "metadata": {
    "ExecuteTime": {
     "end_time": "2020-11-10T06:11:34.059384Z",
     "start_time": "2020-11-10T06:11:34.048253Z"
    }
   },
   "outputs": [],
   "source": [
    "def side_2_roadway(block_id, side, edge_oneway_dict):\n",
    "    if not edge_oneway_dict[block_id]:\n",
    "        if side == 'SE':\n",
    "            return block_id + '-' + 'NE'\n",
    "        elif side == 'NE':\n",
    "            return block_id + '-' + 'NW'\n",
    "        elif side == 'NW':\n",
    "            return block_id + '-' + 'SW'\n",
    "        elif side == 'SW':\n",
    "            return block_id + '-' + 'SE'\n",
    "    else: \n",
    "        return edge_oneway_dict[block_id]"
   ]
  },
  {
   "cell_type": "code",
   "execution_count": 5,
   "metadata": {
    "ExecuteTime": {
     "end_time": "2020-11-10T06:11:34.596694Z",
     "start_time": "2020-11-10T06:11:34.572469Z"
    }
   },
   "outputs": [],
   "source": [
    "edges = []\n",
    "\n",
    "root = ET.parse(net_xml).getroot()\n",
    "for child in root.iter('edge'):\n",
    "    if child.get('function') != 'internal':\n",
    "        edges.append(child.get('id'))\n",
    "        \n",
    "edge_oneway_dict = {}\n",
    "for edge_id in edges:\n",
    "    if edge_id not in edge_oneway_dict:\n",
    "        # if not checked, go ahead to check oneway\n",
    "        if sum(word.startswith(edge_id[:5]) for word in edges) == 2:\n",
    "            edge_oneway_dict[edge_id[:5]] = 0\n",
    "        else:\n",
    "            assert sum(word.startswith(edge_id[:5]) for word in edges) == 1\n",
    "            edge_oneway_dict[edge_id[:5]] = edge_id"
   ]
  },
  {
   "cell_type": "code",
   "execution_count": 6,
   "metadata": {},
   "outputs": [],
   "source": [
    "oneway_list = ['24-01', '24-02', '24-03', '25-02', '25-03', '26-01', '26-02', '26-03', '02-24', '02-25', '02-26', '04-24', '04-25', '04-26']\n",
    "oneway_side_list = ['SE', 'SE', 'SE', 'NW', 'NW', 'SE', 'SE', 'SE', 'SW', 'SW', 'SW', 'NE', 'NE', 'NE']"
   ]
  },
  {
   "cell_type": "code",
   "execution_count": 7,
   "metadata": {},
   "outputs": [],
   "source": [
    "oneway_side_dict = dict(zip(oneway_list, oneway_side_list))"
   ]
  },
  {
   "cell_type": "code",
   "execution_count": 8,
   "metadata": {},
   "outputs": [],
   "source": [
    "pc_oneway = pc[pc['block_id'].isin(oneway_list)].groupby(['block_id','type']).sum().reset_index()\n",
    "pc_oneway.drop(columns = ['Unnamed: 0'], inplace = True)\n",
    "pc_oneway['side'] =  pc_oneway['block_id'].apply(lambda x: oneway_side_dict[x])"
   ]
  },
  {
   "cell_type": "code",
   "execution_count": 9,
   "metadata": {},
   "outputs": [
    {
     "name": "stderr",
     "output_type": "stream",
     "text": [
      "/Users/shuyiyin/anaconda3/envs/syin/lib/python3.8/site-packages/pandas/core/frame.py:4163: SettingWithCopyWarning: \n",
      "A value is trying to be set on a copy of a slice from a DataFrame\n",
      "\n",
      "See the caveats in the documentation: https://pandas.pydata.org/pandas-docs/stable/user_guide/indexing.html#returning-a-view-versus-a-copy\n",
      "  return super().drop(\n"
     ]
    }
   ],
   "source": [
    "pc_twoway = pc[~pc['block_id'].isin(oneway_list)]\n",
    "pc_twoway.drop(columns = ['Unnamed: 0'], inplace = True)"
   ]
  },
  {
   "cell_type": "markdown",
   "metadata": {},
   "source": [
    "### merge curbsides of oneway roads"
   ]
  },
  {
   "cell_type": "code",
   "execution_count": 10,
   "metadata": {},
   "outputs": [],
   "source": [
    "pc_new = pd.concat([pc_oneway, pc_twoway])"
   ]
  },
  {
   "cell_type": "markdown",
   "metadata": {},
   "source": [
    "### add one curb to 03-26-SW"
   ]
  },
  {
   "cell_type": "code",
   "execution_count": 11,
   "metadata": {},
   "outputs": [
    {
     "name": "stderr",
     "output_type": "stream",
     "text": [
      "<ipython-input-11-0517feea2c78>:1: SettingWithCopyWarning: \n",
      "A value is trying to be set on a copy of a slice from a DataFrame\n",
      "\n",
      "See the caveats in the documentation: https://pandas.pydata.org/pandas-docs/stable/user_guide/indexing.html#returning-a-view-versus-a-copy\n",
      "  pc_new['cnt'][(pc_new['block_id'] == '03-26') & (pc_new['side'] == 'SW') & (pc_new['type']=='PS')] = 2\n"
     ]
    }
   ],
   "source": [
    "pc_new['cnt'][(pc_new['block_id'] == '03-26') & (pc_new['side'] == 'SW') & (pc_new['type']=='PS')] = 2"
   ]
  },
  {
   "cell_type": "code",
   "execution_count": 12,
   "metadata": {
    "ExecuteTime": {
     "end_time": "2020-11-10T06:11:34.823284Z",
     "start_time": "2020-11-10T06:11:34.755920Z"
    }
   },
   "outputs": [],
   "source": [
    "for index, row in pc_new.iterrows():\n",
    "    block_id = row['block_id']\n",
    "    side = row['side']\n",
    "    space_type = row['type']\n",
    "    length = row['length']\n",
    "    count = row['cnt']\n",
    "    lane = side_2_roadway(block_id, side, edge_oneway_dict) + '_0'\n",
    "    parking_area_id = str(block_id) + '-' + str(side)\n",
    "    with open(add_xml, \"a\") as add:\n",
    "        if space_type == 'PS':\n",
    "            print('    <parkingArea id=\"{}\" lane=\"{}\" startPos=\"10\" endPos=\"50\" roadsideCapacity=\"{}\" angle=\"0\" />'.\\\n",
    "#                   format(parking_area_id, lane, int(length)//16), # unit of curb length?\n",
    "                  format(parking_area_id, lane, count), # unit of curb length?\n",
    "                  file=add)"
   ]
  },
  {
   "cell_type": "code",
   "execution_count": 13,
   "metadata": {
    "ExecuteTime": {
     "end_time": "2020-11-10T06:11:35.285829Z",
     "start_time": "2020-11-10T06:11:35.277745Z"
    }
   },
   "outputs": [],
   "source": [
    "with open(add_xml, \"a\") as add:\n",
    "    print('\\n</additional>', file = add)"
   ]
  },
  {
   "cell_type": "code",
   "execution_count": null,
   "metadata": {},
   "outputs": [],
   "source": []
  }
 ],
 "metadata": {
  "kernelspec": {
   "display_name": "Python 3",
   "language": "python",
   "name": "python3"
  },
  "language_info": {
   "codemirror_mode": {
    "name": "ipython",
    "version": 3
   },
   "file_extension": ".py",
   "mimetype": "text/x-python",
   "name": "python",
   "nbconvert_exporter": "python",
   "pygments_lexer": "ipython3",
   "version": "3.8.2"
  }
 },
 "nbformat": 4,
 "nbformat_minor": 4
}
